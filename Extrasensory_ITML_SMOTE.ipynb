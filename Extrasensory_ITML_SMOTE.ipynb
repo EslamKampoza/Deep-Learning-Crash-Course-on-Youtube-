{
  "cells": [
    {
      "cell_type": "markdown",
      "metadata": {
        "id": "view-in-github",
        "colab_type": "text"
      },
      "source": [
        "<a href=\"https://colab.research.google.com/github/EslamKampoza/machine-intelligence-paper-/blob/main/Extrasensory_ITML_SMOTE.ipynb\" target=\"_parent\"><img src=\"https://colab.research.google.com/assets/colab-badge.svg\" alt=\"Open In Colab\"/></a>"
      ]
    },
    {
      "cell_type": "code",
      "execution_count": 2,
      "metadata": {
        "colab": {
          "base_uri": "https://localhost:8080/"
        },
        "id": "V4yYZ8qMcU3z",
        "outputId": "bb7f57d4-c723-46c2-95fe-e81c9fefca2b"
      },
      "outputs": [
        {
          "output_type": "stream",
          "name": "stdout",
          "text": [
            "Drive already mounted at /content/drive; to attempt to forcibly remount, call drive.mount(\"/content/drive\", force_remount=True).\n"
          ]
        }
      ],
      "source": [
        "from google.colab import drive\n",
        "drive.mount('/content/drive')"
      ]
    },
    {
      "cell_type": "code",
      "execution_count": 3,
      "metadata": {
        "colab": {
          "base_uri": "https://localhost:8080/"
        },
        "id": "p5zqS7kweHAI",
        "outputId": "5486368d-030e-44dc-efa4-0349b69332a5"
      },
      "outputs": [
        {
          "output_type": "stream",
          "name": "stdout",
          "text": [
            "Found 60 users data.\n"
          ]
        }
      ],
      "source": [
        "from sklearn.pipeline import Pipeline\n",
        "from sklearn.impute import SimpleImputer\n",
        "from sklearn.preprocessing import StandardScaler\n",
        "\n",
        "from sklearn.linear_model import LogisticRegression\n",
        "from sklearn.model_selection import StratifiedShuffleSplit\n",
        "\n",
        "%matplotlib inline\n",
        "import matplotlib as mpl\n",
        "import matplotlib.pyplot as plt\n",
        "\n",
        "import pandas as pd\n",
        "\n",
        "from utilize.data import *\n",
        "from utilize.transform import *\n",
        "from utilize.feature_selection import *\n",
        "from utilize.test import *\n"
      ]
    },
    {
      "cell_type": "code",
      "execution_count": 4,
      "metadata": {
        "id": "JREZXkCceclt"
      },
      "outputs": [],
      "source": [
        "def score_function(y_test, y_pred, score = 'BA', W_test = None):\n",
        "\n",
        "    mcm = []\n",
        "    for i in range(y_test.shape[1]):\n",
        "        if W_test is not None:\n",
        "            cm = confusion_matrix(y_test[:,i].T, y_pred[:,i].T, sample_weight = W_test[:,i].T)\n",
        "        else:\n",
        "            cm = confusion_matrix(y_test[:,i].T, y_pred[:,i].T)\n",
        "        cm = np.expand_dims(cm, axis = 0)\n",
        "        mcm.append(cm)\n",
        "    \n",
        "    mcm = np.concatenate(mcm, axis = 0)\n",
        "    tn = mcm[:, 0, 0]\n",
        "    tp = mcm[:, 1, 1]\n",
        "    fn = mcm[:, 1, 0]\n",
        "    fp = mcm[:, 0, 1]\n",
        "    \n",
        "    sensitivity = tp / (tp + fn)\n",
        "    specificity = tn / (tn + fp)\n",
        "    BA = (sensitivity + specificity)/2\n",
        "    accuracy = (tn + tp)/(tn + tp + fn + fp)\n",
        "\n",
        "    sensitivity = np.sum(sensitivity)/sensitivity.shape[0]\n",
        "    specificity = np.sum(specificity)/specificity.shape[0]\n",
        "    BA = np.sum(BA)/BA.shape[0]\n",
        "    accuracy = np.sum(accuracy)/accuracy.shape[0]\n",
        "\n",
        "    if score == 'BA': \n",
        "        return BA\n",
        "    else: \n",
        "        raise Exception('score not valid!')"
      ]
    },
    {
      "cell_type": "code",
      "execution_count": 5,
      "metadata": {
        "id": "W2GcWnb4ef_1"
      },
      "outputs": [],
      "source": [
        "# Load all the data from Extrasenory dataset\n",
        "X, y, M, user_index, feature_names, label_names = load_all_data()"
      ]
    },
    {
      "cell_type": "code",
      "execution_count": 6,
      "metadata": {
        "id": "lk_OISfkejqS"
      },
      "outputs": [],
      "source": [
        "feature_index = [ 0,   1,   2,   4,   6,   7,   9,  12,  13,  16,  17,  18,  19,\n",
        "        20,  22,  23,  24,  25,  26,  27,  28,  31,  32,  34,  35,  36,\n",
        "        37,  38,  39,  40,  41,  42,  43,  44,  45,  46,  49,  52,  53,\n",
        "        54,  56,  58,  59,  60,  61,  62,  63,  65,  67,  68,  69,  71,\n",
        "        72,  73,  74,  76,  77,  78,  79,  80,  81,  85,  87,  88,  89,\n",
        "        90,  91,  92,  93,  94,  95,  96,  97,  98,  99, 100, 101, 102,\n",
        "       103, 104, 105, 106, 107, 108, 109, 110, 111, 115, 116, 119, 120,\n",
        "       121, 122, 123, 124, 125, 126, 128, 129, 130, 131, 132, 133, 134,\n",
        "       135, 136, 137, 139, 140, 142, 144, 145, 146, 147, 148, 149, 150,\n",
        "       151, 153, 154, 156, 158, 159, 160, 161, 162, 163, 164, 165, 166,\n",
        "       167, 168, 170, 171, 172, 173, 176, 177, 178, 180, 181, 182, 183,\n",
        "       185, 187, 188, 190, 192, 193, 194, 195, 196, 197, 198, 199, 201,\n",
        "       202, 203, 204, 205, 206, 207, 208, 209, 213, 214, 215, 216, 217,\n",
        "       218, 219, 220, 221, 222, 224]\n",
        "X175 = X[:, feature_index]"
      ]
    },
    {
      "cell_type": "code",
      "execution_count": 7,
      "metadata": {
        "id": "Pbl5KUj8emF7"
      },
      "outputs": [],
      "source": [
        "# Only select body state label\n",
        "target_label = ['LYING_DOWN', 'SITTING', 'FIX_walking', 'FIX_running', 'BICYCLING', 'OR_standing']\n",
        "#target_label = [\"SITTING\"]\n",
        "# Use the last 5 user's data as test set\n",
        "#test_uuid = list(range(56, 61))\n",
        "\n",
        "# Fill the Nan with mean value and normalize all the data \n",
        "pipeline = Pipeline([\n",
        "    ('imputer', SimpleImputer(strategy = 'mean')),\n",
        "    ('std_scaler', StandardScaler())\n",
        "])\n",
        "\n",
        "# Transform \n",
        "# 1. select target labels \n",
        "# 2. tansform feature matrix fill None with mean and do the normalization\n",
        "# 3. Split train, validation and test set by ratio of 6:2:2\n",
        "X_new, y_new, M_new = select_target_labels(X175, y, M, target_label, label_names, drop_all_zero = False)\n",
        "X_new = pipeline.fit_transform(X_new, y_new)\n"
      ]
    },
    {
      "cell_type": "code",
      "execution_count": 8,
      "metadata": {
        "id": "vwppmprAepoi"
      },
      "outputs": [],
      "source": [
        "from sklearn.model_selection import train_test_split\n",
        "X_train,X_test, y_train,y_test, M_train, M_test = train_test_split(X_new, y_new, M_new, test_size = 0.2)"
      ]
    },
    {
      "cell_type": "code",
      "execution_count": 9,
      "metadata": {
        "id": "uHSHEHGvetA1"
      },
      "outputs": [],
      "source": [
        "# To swap 0 and 1, simply do \n",
        "y_train_sampleweight = np.abs(1-M_train)\n",
        "\n",
        "y_train_sw1D = np.zeros(y_train_sampleweight.shape[0])\n",
        "for i in range(len(y_train_sw1D)):\n",
        "    y_train_sw1D[i] = np.sum(y_train_sampleweight[i])/M_train.shape[1]\n",
        "\n",
        "# To swap 0 and 1, simply do \n",
        "y_test_sampleweight = np.abs(1-M_test)\n",
        "\n",
        "y_test_sw1D = np.zeros(y_test_sampleweight.shape[0])\n",
        "for i in range(len(y_test_sw1D)):\n",
        "    y_test_sw1D[i] = np.sum(y_test_sampleweight[i])/M_test.shape[1]"
      ]
    },
    {
      "cell_type": "code",
      "execution_count": 10,
      "metadata": {
        "id": "36R_yY1Revqm"
      },
      "outputs": [],
      "source": [
        "y_train11 = y_train_sw1D.reshape(len(y_train_sw1D),1)\n",
        "y_test11 = y_test_sw1D.reshape(len(y_test_sw1D),1)"
      ]
    },
    {
      "cell_type": "code",
      "execution_count": 11,
      "metadata": {
        "id": "xv6l4UOKnCIw"
      },
      "outputs": [],
      "source": [
        "y_test1 = []\n",
        "new_test_Data1 = []\n",
        "for i in range(len(y_test)):\n",
        "    for j in range(y_test.shape[1]):\n",
        "        if y_test[i,j]:\n",
        "             y_test1.append(j)\n",
        "             new_test_Data1.append(X_test[i])"
      ]
    },
    {
      "cell_type": "code",
      "execution_count": 12,
      "metadata": {
        "id": "1wlBa-DAne0N"
      },
      "outputs": [],
      "source": [
        "y_train1 = []\n",
        "new_train_Data1 = []\n",
        "for i in range(len(y_train)):\n",
        "    for j in range(y_train.shape[1]):\n",
        "        if y_train[i,j]:\n",
        "             y_train1.append(j)\n",
        "             new_train_Data1.append(X_train[i])"
      ]
    },
    {
      "cell_type": "code",
      "execution_count": 13,
      "metadata": {
        "id": "jgmN1pcqe2-S"
      },
      "outputs": [],
      "source": [
        "from sklearn.neighbors import KNeighborsClassifier\n",
        "from sklearn.preprocessing import LabelEncoder, StandardScaler , MinMaxScaler"
      ]
    },
    {
      "cell_type": "code",
      "execution_count": 14,
      "metadata": {
        "id": "d3UV3Gvoe5jP"
      },
      "outputs": [],
      "source": [
        "scaler = MinMaxScaler()\n",
        "scaler.fit(new_train_Data1)\n",
        "X_train = scaler.transform(new_train_Data1)\n",
        "X_test = scaler.transform(new_test_Data1)"
      ]
    },
    {
      "cell_type": "code",
      "execution_count": 15,
      "metadata": {
        "id": "uTWlhCp_e_i7"
      },
      "outputs": [],
      "source": [
        "#encoding Labels\n",
        "\n",
        "encoder = LabelEncoder()\n",
        "\n",
        "#encoding test labels\n",
        "\n",
        "encoder.fit(y_test1)\n",
        "new_test_labels = encoder.transform(y_test1)\n",
        "\n",
        "#encoding train labels\n",
        "\n",
        "encoder.fit(y_train1)\n",
        "new_train_labels = encoder.transform(y_train1)"
      ]
    },
    {
      "cell_type": "code",
      "execution_count": 16,
      "metadata": {
        "id": "kzqLpnAhfCcF"
      },
      "outputs": [],
      "source": [
        "from matplotlib import pyplot\n",
        "def plot_confusion_matrix (cm, classes, normalize=False, title='Confusion Matrix', cmap=pyplot.cm.Blues,\n",
        "                           decsnTreeClf=None):\n",
        "    #This function prints and plots the confusion matrix.\n",
        "    pyplot.imshow(cm,interpolation='nearest',cmap=cmap)\n",
        "    pyplot.title(title)\n",
        "    pyplot.colorbar()\n",
        "    tick_marks=np.arange(len(classes))\n",
        "    pyplot.xticks(tick_marks,classes,rotation=45)\n",
        "    pyplot.yticks(tick_marks,classes)\n",
        "\n",
        "    if normalize:\n",
        "        cm = cm.astype('float') / cm.sum(axis=1)[:,np.newaxis]\n",
        "        print(\"Normalized confusion matrix\")\n",
        "    else:\n",
        "        print(\"Confusion matrix, without normalization\")\n",
        "\n",
        "    print(cm)\n",
        "\n",
        "    thresh = cm.max()/2.\n",
        "    for i,j in itertools.product(range(cm.shape[0]), range(cm.shape[1])):\n",
        "        pyplot.text(j,i,cm[i,j],horizontalalignment=\"center\", color=\"white\" if cm[i,j]> thresh else \"black\" )\n",
        "\n",
        "    pyplot.tight_layout()\n",
        "    pyplot.ylabel('True Label')\n",
        "    pyplot.xlabel('Predicted Label')\n",
        "    pyplot.show()\n"
      ]
    },
    {
      "cell_type": "code",
      "source": [
        "from imblearn.over_sampling import SMOTE\n",
        "from matplotlib import pyplot\n",
        "from sklearn.metrics import classification_report"
      ],
      "metadata": {
        "id": "jAdbX-_kzsFw"
      },
      "execution_count": 17,
      "outputs": []
    },
    {
      "cell_type": "code",
      "source": [
        "from sklearn.decomposition import PCA\n",
        "pca= PCA(0.9) # capture the %85 of the variance\n",
        "pca.fit(X_train)\n",
        "newx_train=pca.transform(X_train)\n",
        "newx_test=pca.transform(X_test)"
      ],
      "metadata": {
        "id": "rdAdRjyosxWV"
      },
      "execution_count": 18,
      "outputs": []
    },
    {
      "cell_type": "code",
      "source": [
        "!pip install metric-learn\n",
        "import metric_learn"
      ],
      "metadata": {
        "colab": {
          "base_uri": "https://localhost:8080/"
        },
        "id": "GjBSC-xko4nq",
        "outputId": "0d935c71-9624-4688-a700-a240478f871c"
      },
      "execution_count": 19,
      "outputs": [
        {
          "output_type": "stream",
          "name": "stdout",
          "text": [
            "Looking in indexes: https://pypi.org/simple, https://us-python.pkg.dev/colab-wheels/public/simple/\n",
            "Requirement already satisfied: metric-learn in /usr/local/lib/python3.8/dist-packages (0.6.2)\n",
            "Requirement already satisfied: scikit-learn>=0.20.3 in /usr/local/lib/python3.8/dist-packages (from metric-learn) (1.0.2)\n",
            "Requirement already satisfied: numpy in /usr/local/lib/python3.8/dist-packages (from metric-learn) (1.21.6)\n",
            "Requirement already satisfied: scipy in /usr/local/lib/python3.8/dist-packages (from metric-learn) (1.7.3)\n",
            "Requirement already satisfied: joblib>=0.11 in /usr/local/lib/python3.8/dist-packages (from scikit-learn>=0.20.3->metric-learn) (1.2.0)\n",
            "Requirement already satisfied: threadpoolctl>=2.0.0 in /usr/local/lib/python3.8/dist-packages (from scikit-learn>=0.20.3->metric-learn) (3.1.0)\n"
          ]
        }
      ]
    },
    {
      "cell_type": "code",
      "source": [
        "mmc = metric_learn.ITML_Supervised()\n",
        "X_mmc = mmc.fit(newx_train,new_train_labels)"
      ],
      "metadata": {
        "colab": {
          "base_uri": "https://localhost:8080/"
        },
        "id": "qG55AXdEo7FX",
        "outputId": "38cd3321-a111-4270-be4f-5ceaab40cdc0"
      },
      "execution_count": 20,
      "outputs": [
        {
          "output_type": "stream",
          "name": "stderr",
          "text": [
            "/usr/local/lib/python3.8/dist-packages/metric_learn/itml.py:35: FutureWarning: arrays to stack must be passed as a \"sequence\" type such as list or tuple. Support for non-sequence iterables such as generators is deprecated as of NumPy 1.16 and will raise an error in the future.\n",
            "  X = np.vstack({tuple(row) for row in pairs.reshape(-1, pairs.shape[2])})\n"
          ]
        }
      ]
    },
    {
      "cell_type": "code",
      "source": [
        "X_train.shape\n",
        "MM = mmc.get_mahalanobis_matrix()\n",
        "MM.shape"
      ],
      "metadata": {
        "colab": {
          "base_uri": "https://localhost:8080/"
        },
        "id": "1vj0GOvlpXtM",
        "outputId": "9bbae5d1-dfb6-4b61-e8f7-4aa6d2046ede"
      },
      "execution_count": 21,
      "outputs": [
        {
          "output_type": "execute_result",
          "data": {
            "text/plain": [
              "(37, 37)"
            ]
          },
          "metadata": {},
          "execution_count": 21
        }
      ]
    },
    {
      "cell_type": "code",
      "source": [
        "import numpy as np\n",
        "import random\n",
        "from sklearn.neighbors import NearestNeighbors\n",
        "import math\n",
        "from random import randint\n",
        "import matplotlib.pyplot as plt\n",
        "from sklearn.decomposition import PCA\n",
        "\n",
        "\n",
        "\n",
        "\n",
        "class Smote(object):\n",
        "\t\"\"\"docstring for Smote\"\"\"\n",
        "\n",
        "\tdef __init__(self,distance,MM):\n",
        "\t\tsuper(Smote, self).__init__()\n",
        "\t\tself.synthetic_arr=  []\n",
        "\t\tself.newindex = 0\n",
        "\t\tself.distance_measure = distance\n",
        "\t\tself.mmc = MM       \n",
        "\n",
        "\n",
        "\n",
        "\tdef Populate(self,N,i,indices,min_samples,k):\n",
        "\t\t\"\"\"\n",
        "    \t\tPopulates the synthitic array\n",
        "\n",
        "\n",
        "    \t\tReturns:Synthetic Array to generate_syntheic_points \n",
        "    \t\"\"\"\n",
        "\n",
        "\t\twhile N!=0:\n",
        "\t\t\tarr = []\n",
        "\t\t\tnn = randint(0,k-2)\n",
        "\t\t\tfeatures = len(min_samples[0])\n",
        "\t\t\t\n",
        "\t\t\tfor attr in range(features):\n",
        "\t\t\t\tdiff = min_samples[indices[nn]][attr] - min_samples[i][attr]\n",
        "\t\t\t\tgap = random.uniform(0,1)\n",
        "\t\t\t\tarr.append(min_samples[i][attr] + gap*diff)\n",
        "\t\t\t\n",
        "\t\t\tself.synthetic_arr.append(arr)\n",
        "\t\t\tself.newindex = self.newindex + 1\n",
        "\t\t\tN = N-1\n",
        "\n",
        "\n",
        "\n",
        "\tdef k_neighbors(self,euclid_distance,k):\n",
        "\t\tnearest_idx_npy = np.empty([euclid_distance.shape[0],euclid_distance.shape[0]],dtype=np.int64)\n",
        "\t\t\n",
        "\t\tfor i in range(len(euclid_distance)):\n",
        "\t\t\tidx = np.argsort(euclid_distance[i])\n",
        "\t\t\tnearest_idx_npy[i] = idx\n",
        "\t\t\tidx = 0\n",
        "\n",
        "\t\treturn nearest_idx_npy[:,1:k]\n",
        "\n",
        "\n",
        "\n",
        "\n",
        "\tdef find_k(self,X,k):\n",
        "\n",
        "\t\t\"\"\"\n",
        "   \t\t\tFinds k nearest neighbors using euclidian distance\n",
        "\n",
        "   \t\t\tReturns: The k nearest neighbor   \n",
        "    \t\"\"\"\n",
        "\n",
        "\n",
        "\n",
        "\n",
        "\t\teuclid_distance = np.empty([X.shape[0],X.shape[0]],dtype = np.float32)\n",
        "\t\t\n",
        "\t\tfor i in range(len(X)):\n",
        "\t\t\tdist_arr = []\n",
        "\t\t\tfor j in range(len(X)):\n",
        "\t\t\t\tdist_arr.append(math.sqrt(sum((X[j]-X[i])**2)))\n",
        "\t\t\tdist_arr = np.asarray(dist_arr,dtype = np.float32)\n",
        "\t\t\teuclid_distance[i] = dist_arr\n",
        "\n",
        "\t\treturn self.k_neighbors(euclid_distance,k)\n",
        "\n",
        "\n",
        "\n",
        "\n",
        "\n",
        "\n",
        "\tdef generate_synthetic_points(self,min_samples,N,k):\n",
        "\n",
        "\t\t\"\"\"\n",
        "    \t\tReturns (N/100) * n_minority_samples synthetic minority samples.\n",
        "    \t\tParameters\n",
        "    \t\t----------\n",
        "    \t\tmin_samples : Numpy_array-like, shape = [n_minority_samples, n_features]\n",
        "    \t\t    Holds the minority samples\n",
        "    \t\tN : percetange of new synthetic samples: \n",
        "    \t\t    n_synthetic_samples = N/100 * n_minority_samples. Can be < 100.\n",
        "    \t\tk : int. Number of nearest neighbours. \n",
        "    \t\tReturns\n",
        "    \t\t-------\n",
        "    \t\tS : Synthetic samples. array, \n",
        "    \t\t    shape = [(N/100) * n_minority_samples, n_features]. \n",
        "    \t\"\"\"\n",
        "\t\t\n",
        "\n",
        "\t\tif N < 100:\n",
        "\t\t\traise ValueError(\"Value of N cannot be less than 100%\")\n",
        "\n",
        "\t\tif self.distance_measure not in ('euclidian','ball_tree','Mahal'):\n",
        "\t\t\traise ValueError(\"Invalid Distance Measure.You can use only Euclidian or ball_tree\")\n",
        "\n",
        "\n",
        "\t\tif k>min_samples.shape[0]:\n",
        "\t\t\traise ValueError(\"Size of k cannot exceed the number of samples.\")\n",
        "\n",
        "\t\t\n",
        "\t\tN = int(N/100)\n",
        "\t\tT = min_samples.shape[0]\n",
        "\t\t\n",
        "\t\t\n",
        "\n",
        "\t\tif self.distance_measure == 'euclidian':\n",
        "\t\t\t\tindices = self.find_k(min_samples,k)\n",
        "\t\t\t\n",
        "\t\telif self.distance_measure=='ball_tree':\n",
        "\t\t\tnb = NearestNeighbors(n_neighbors = k,algorithm= 'ball_tree').fit(min_samples)\n",
        "\t\t\tdistance,indices = nb.kneighbors(min_samples)\n",
        "\t\t\tindices = indices[:,1:]\t\n",
        "\t\telif self.distance_measure=='Mahal':\n",
        "\t\t\tnb = NearestNeighbors(n_neighbors = k,metric = mmc.get_metric()).fit(min_samples)\n",
        "\t\t\tdistance,indices = nb.kneighbors(min_samples)\n",
        "\t\t\tindices = indices[:,1:]\t\n",
        "\n",
        "\n",
        "\t\tfor i in range(indices.shape[0]):\n",
        "\t\t\tself.Populate(N,i,indices[i],min_samples,k)\n",
        "\t\t\n",
        "\t\treturn np.asarray(self.synthetic_arr)\n",
        "\n",
        "\t\t\n",
        "\n",
        "\n",
        "\tdef plot_synthetic_points(self,min_samples,N,k):\n",
        "\t\t\"\"\"\n",
        "\n",
        "\t\t\tPlot the over sampled synthtic samples in a scatterplot\n",
        "\n",
        "\n",
        "\n",
        "\t\t\"\"\"\n",
        "\n",
        "\n",
        "\t\tif N < 100:\n",
        "\t\t\traise ValueError(\"Value of N cannot be less than 100%\")\n",
        "\n",
        "\t\tif self.distance_measure not in ('euclidian','ball_tree','Mahal'):\n",
        "\t\t\traise ValueError(\"Invalid Distance Measure.You can use only Euclidian or ball_tree\")\n",
        "\n",
        "\n",
        "\t\tif k>min_samples.shape[0]:\n",
        "\t\t\traise ValueError(\"Size of k cannot exceed the number of samples.\")\n",
        "\n",
        "\t\t\n",
        "\t\tsynthetic_points = self.generate_synthetic_points(min_samples,N,k)\n",
        "\t\t\n",
        "\t\tpca = PCA(n_components=2)\n",
        "\t\tpca.fit(synthetic_points)\n",
        "\t\tpca_synthetic_points = pca.transform(synthetic_points)\n",
        "\t\t\n",
        "\t\tplt.scatter(pca_synthetic_points[:,0],pca_synthetic_points[:,1])\n",
        "\t\tplt.show()"
      ],
      "metadata": {
        "id": "x_Vsm3bQpbY5"
      },
      "execution_count": 22,
      "outputs": []
    },
    {
      "cell_type": "code",
      "source": [
        "trainLabel = new_train_labels.reshape(len(new_train_labels),1)\n",
        "train = np.hstack((newx_train, trainLabel))"
      ],
      "metadata": {
        "id": "-BiDiDjfpsj0"
      },
      "execution_count": 23,
      "outputs": []
    },
    {
      "cell_type": "code",
      "source": [
        "unique,counts = np.unique(trainLabel,return_counts = True)\n",
        "dict(zip(unique,counts))"
      ],
      "metadata": {
        "colab": {
          "base_uri": "https://localhost:8080/"
        },
        "id": "3TJIm8A9psq4",
        "outputId": "384bc0f7-3c92-4676-83d1-9b89fa419d3c"
      },
      "execution_count": 24,
      "outputs": [
        {
          "output_type": "execute_result",
          "data": {
            "text/plain": [
              "{0: 83313, 1: 109126, 2: 17700, 3: 868, 4: 4017, 5: 30332}"
            ]
          },
          "metadata": {},
          "execution_count": 24
        }
      ]
    },
    {
      "cell_type": "code",
      "source": [
        "mask = train[:,37] == 0\n",
        "class0 = train[mask]\n",
        "class0 = class0[0:600,:37]\n",
        "N = 108830*100/600\n",
        "k = 12\n",
        "class0 = np.float_(class0)\n",
        "smote_test1 = Smote('Mahal',mmc)\n",
        "new_class0 = smote_test1.generate_synthetic_points(class0[:,:37],N,k)\n",
        "\n",
        "myclass = np.array([0 for x in range(len(new_class0))])\n",
        "#myclass = [\"Standing\" for x in range(1500)]\n",
        "myclass = myclass.reshape(len(new_class0),1)\n",
        "new_class0 = np.hstack((new_class0[:,:37],myclass))"
      ],
      "metadata": {
        "id": "nBb6H-_CqPZL"
      },
      "execution_count": 33,
      "outputs": []
    },
    {
      "cell_type": "code",
      "source": [
        "mask = train[:,37] == 2\n",
        "class2 = train[mask]\n",
        "class2 = class2[0:600,:37]\n",
        "N = 108830*100/600\n",
        "#(8356-4445) * 100/4445\n",
        "k = 12\n",
        "class2 = np.float_(class2)\n",
        "smote_test1 = Smote('Mahal',mmc)\n",
        "new_class2 = smote_test1.generate_synthetic_points(class2[:,:37],N,k)\n",
        "\n",
        "myclass = np.array([2 for x in range(len(new_class2))])\n",
        "#myclass = [\"Standing\" for x in range(1500)]\n",
        "myclass = myclass.reshape(len(new_class2),1)\n",
        "new_class2 = np.hstack((new_class2[:,:37],myclass))"
      ],
      "metadata": {
        "id": "Ph94Gpqcqe9l"
      },
      "execution_count": 44,
      "outputs": []
    },
    {
      "cell_type": "code",
      "source": [
        "mask = train[:,37] == 3\n",
        "class3 = train[mask]\n",
        "class3 = class3[:,:37]\n",
        "N = 108830*100/874\n",
        "#(8356-4445) * 100/4445\n",
        "k = 12\n",
        "class3 = np.float_(class3)\n",
        "smote_test1 = Smote('Mahal',mmc)\n",
        "new_class3 = smote_test1.generate_synthetic_points(class3[:,:37],N,k)\n",
        "\n",
        "myclass = np.array([3 for x in range(len(new_class3))])\n",
        "#myclass = [\"Standing\" for x in range(1500)]\n",
        "myclass = myclass.reshape(len(new_class3),1)\n",
        "new_class3 = np.hstack((new_class3[:,:37],myclass))"
      ],
      "metadata": {
        "id": "GDus82H_q9y1"
      },
      "execution_count": 35,
      "outputs": []
    },
    {
      "cell_type": "code",
      "source": [
        "new_class2.shape"
      ],
      "metadata": {
        "colab": {
          "base_uri": "https://localhost:8080/"
        },
        "id": "gnar70191k82",
        "outputId": "fb9e9abc-f778-49e2-841b-99473d8efedc"
      },
      "execution_count": 45,
      "outputs": [
        {
          "output_type": "execute_result",
          "data": {
            "text/plain": [
              "(108600, 38)"
            ]
          },
          "metadata": {},
          "execution_count": 45
        }
      ]
    },
    {
      "cell_type": "code",
      "source": [
        "mask = train[:,37] == 4\n",
        "class4 = train[mask]\n",
        "class4 = class4[:,:37]\n",
        "N = 108830*100/4017\n",
        "#(8356-4445) * 100/4445\n",
        "k = 12\n",
        "class4 = np.float_(class3)\n",
        "smote_test1 = Smote('Mahal',mmc)\n",
        "new_class4 = smote_test1.generate_synthetic_points(class4[:,:37],N,k)\n",
        "\n",
        "myclass = np.array([4 for x in range(len(new_class4))])\n",
        "#myclass = [\"Standing\" for x in range(1500)]\n",
        "myclass = myclass.reshape(len(new_class4),1)\n",
        "new_class4 = np.hstack((new_class4[:,:37],myclass))"
      ],
      "metadata": {
        "id": "0O5aPJadrRl9"
      },
      "execution_count": 37,
      "outputs": []
    },
    {
      "cell_type": "code",
      "source": [
        "mask = train[:,37] == 5\n",
        "class5 = train[mask]\n",
        "class5 = class5[0:600,:37]\n",
        "N = 108830*100/600\n",
        "#(8356-4445) * 100/4445\n",
        "k = 12\n",
        "class5 = np.float_(class5)\n",
        "smote_test1 = Smote('Mahal',mmc)\n",
        "new_class5 = smote_test1.generate_synthetic_points(class5[:,:37],N,k)\n",
        "\n",
        "myclass = np.array([5 for x in range(len(new_class5))])\n",
        "#myclass = [\"Standing\" for x in range(1500)]\n",
        "myclass = myclass.reshape(len(new_class5),1)\n",
        "new_class5 = np.hstack((new_class5[:,:37],myclass))"
      ],
      "metadata": {
        "id": "ObGk5Ww-rcKA"
      },
      "execution_count": 46,
      "outputs": []
    },
    {
      "cell_type": "code",
      "source": [
        "new_train_data = []\n",
        "new_train_data = np.concatenate((newx_train, new_class0[:,:37]), axis=0)\n",
        "new_train_data = np.concatenate((new_train_data, new_class2[:,:37]), axis=0)\n",
        "new_train_data = np.concatenate((new_train_data, new_class3[:,:37]), axis=0)\n",
        "new_train_data = np.concatenate((new_train_data, new_class4[:,:37]), axis=0)\n",
        "new_train_data = np.concatenate((new_train_data, new_class5[:,:37]), axis=0)"
      ],
      "metadata": {
        "id": "pkXIwS8r3SZs"
      },
      "execution_count": 47,
      "outputs": []
    },
    {
      "cell_type": "code",
      "source": [
        "new_train_labels= []\n",
        "new_train_labels = np.concatenate((trainLabel, new_class0[:,-1].reshape(len(new_class0[:,-1]),1)), axis=0)\n",
        "new_train_labels = np.concatenate((new_train_labels, new_class2[:,-1].reshape(len(new_class2[:,-1]),1)), axis=0)\n",
        "new_train_labels = np.concatenate((new_train_labels, new_class3[:,-1].reshape(len(new_class3[:,-1]),1)), axis=0)\n",
        "new_train_labels = np.concatenate((new_train_labels, new_class4[:,-1].reshape(len(new_class4[:,-1]),1)), axis=0)\n",
        "new_train_labels = np.concatenate((new_train_labels, new_class5[:,-1].reshape(len(new_class5[:,-1]),1)), axis=0)"
      ],
      "metadata": {
        "id": "Z7fsoU2U3yHX"
      },
      "execution_count": 48,
      "outputs": []
    },
    {
      "cell_type": "code",
      "source": [
        "unique,counts = np.unique(new_train_labels,return_counts = True)\n",
        "dict(zip(unique,counts))"
      ],
      "metadata": {
        "colab": {
          "base_uri": "https://localhost:8080/"
        },
        "id": "gqLhzv6N4L-2",
        "outputId": "402383a7-3303-4174-8010-18626e853037"
      },
      "execution_count": 49,
      "outputs": [
        {
          "output_type": "execute_result",
          "data": {
            "text/plain": [
              "{0.0: 191913, 1.0: 109126, 2.0: 126300, 3.0: 108500, 4.0: 27453, 5.0: 138932}"
            ]
          },
          "metadata": {},
          "execution_count": 49
        }
      ]
    },
    {
      "cell_type": "code",
      "source": [
        "Data_res = new_train_data\n",
        "labels_res = new_train_labels\n",
        "testLabelE = new_test_labels"
      ],
      "metadata": {
        "id": "V2HJILBH4Y2X"
      },
      "execution_count": 50,
      "outputs": []
    },
    {
      "cell_type": "code",
      "source": [
        "from sklearn.metrics import classification_report\n",
        "from sklearn.neighbors import KNeighborsClassifier\n",
        "from sklearn.metrics import confusion_matrix,accuracy_score\n",
        "clf2= KNeighborsClassifier(n_neighbors=4, metric = mmc.get_metric())\n",
        "knnModel2 = clf2.fit(Data_res,labels_res)\n",
        "y_te_pred2 = clf2.predict(newx_test)\n",
        "\n",
        "acc2 = accuracy_score(testLabelE,y_te_pred2)\n",
        "print(\"K-Nearest Neighbors Accuracy: %.5f\" %(acc2)) #.907\n",
        "cfs=confusion_matrix(testLabelE,y_te_pred2)\n",
        "pyplot.figure()"
      ],
      "metadata": {
        "colab": {
          "base_uri": "https://localhost:8080/"
        },
        "id": "AARZdr-44vWM",
        "outputId": "906e3d1c-d653-446b-c139-ec6f336dce35"
      },
      "execution_count": null,
      "outputs": [
        {
          "output_type": "stream",
          "name": "stderr",
          "text": [
            "/usr/local/lib/python3.8/dist-packages/sklearn/neighbors/_classification.py:198: DataConversionWarning: A column-vector y was passed when a 1d array was expected. Please change the shape of y to (n_samples,), for example using ravel().\n",
            "  return self._fit(X, y)\n"
          ]
        }
      ]
    },
    {
      "cell_type": "code",
      "source": [
        "import itertools\n",
        "from sklearn.metrics import classification_report\n",
        "class_names = encoder.classes_\n",
        "plot_confusion_matrix(cfs,classes=class_names,title=\"Original: Confusuion Matrix\")\n",
        "print(classification_report(testLabelE,y_te_pred2))"
      ],
      "metadata": {
        "colab": {
          "base_uri": "https://localhost:8080/",
          "height": 658
        },
        "id": "e_90EbCt8UI_",
        "outputId": "37a22dd2-a123-4de0-b398-499daae94cdc"
      },
      "execution_count": 52,
      "outputs": [
        {
          "output_type": "stream",
          "name": "stdout",
          "text": [
            "Confusion matrix, without normalization\n",
            "[[19926   688    64     9     5   205]\n",
            " [ 1105 23755   881   122    64  1303]\n",
            " [  112  1090  2663   118    32   421]\n",
            " [    1    13    13   186     4     5]\n",
            " [   10   139   113    16   667    58]\n",
            " [  348  2008   577    59    33  4425]]\n"
          ]
        },
        {
          "output_type": "display_data",
          "data": {
            "text/plain": [
              "<Figure size 432x288 with 2 Axes>"
            ],
            "image/png": "[encoded data removed]"
          },
          "metadata": {
            "needs_background": "light"
          }
        },
        {
          "output_type": "stream",
          "name": "stdout",
          "text": [
            "              precision    recall  f1-score   support\n",
            "\n",
            "           0       0.93      0.95      0.94     20897\n",
            "           1       0.86      0.87      0.87     27230\n",
            "           2       0.62      0.60      0.61      4436\n",
            "           3       0.36      0.84      0.51       222\n",
            "           4       0.83      0.67      0.74      1003\n",
            "           5       0.69      0.59      0.64      7450\n",
            "\n",
            "    accuracy                           0.84     61238\n",
            "   macro avg       0.71      0.75      0.72     61238\n",
            "weighted avg       0.84      0.84      0.84     61238\n",
            "\n"
          ]
        }
      ]
    },
    {
      "cell_type": "code",
      "source": [
        "sm = SMOTE(random_state = 2)\n",
        "Data_res,labels_res = sm.fit_resample(X_train,new_train_labels)"
      ],
      "metadata": {
        "id": "3B5oH-dvzt4C"
      },
      "execution_count": 72,
      "outputs": []
    },
    {
      "cell_type": "code",
      "source": [
        "unique,counts = np.unique(labels_res,return_counts = True)\n",
        "dict(zip(unique,counts))"
      ],
      "metadata": {
        "colab": {
          "base_uri": "https://localhost:8080/"
        },
        "id": "dJDOlNvzz0Ss",
        "outputId": "a0e3eb24-868e-4ecd-85c8-dc530b07a9e7"
      },
      "execution_count": 73,
      "outputs": [
        {
          "output_type": "execute_result",
          "data": {
            "text/plain": [
              "{0: 108984, 1: 108984, 2: 108984, 3: 108984, 4: 108984, 5: 108984}"
            ]
          },
          "metadata": {},
          "execution_count": 73
        }
      ]
    },
    {
      "cell_type": "code",
      "execution_count": 74,
      "metadata": {
        "id": "xzu2aszlhLwK"
      },
      "outputs": [],
      "source": [
        "clf2= KNeighborsClassifier(n_neighbors=4)\n",
        "knnModel2 = clf2.fit(Data_res,labels_res)"
      ]
    },
    {
      "cell_type": "code",
      "execution_count": 75,
      "metadata": {
        "colab": {
          "base_uri": "https://localhost:8080/"
        },
        "id": "Ahg3uT3XiQQA",
        "outputId": "61cce771-0273-4a34-c112-71b314a9895d"
      },
      "outputs": [
        {
          "output_type": "execute_result",
          "data": {
            "text/plain": [
              "(61515, 175)"
            ]
          },
          "metadata": {},
          "execution_count": 75
        }
      ],
      "source": [
        "X_test.shape"
      ]
    },
    {
      "cell_type": "code",
      "execution_count": 76,
      "metadata": {
        "colab": {
          "base_uri": "https://localhost:8080/"
        },
        "id": "fQvQe8MMiu39",
        "outputId": "daefb03f-cc1c-4fc0-d10b-3fad2076ed52"
      },
      "outputs": [
        {
          "output_type": "execute_result",
          "data": {
            "text/plain": [
              "{0: 21104, 1: 27372, 2: 4485, 3: 203, 4: 931, 5: 7420}"
            ]
          },
          "metadata": {},
          "execution_count": 76
        }
      ],
      "source": [
        "unique,counts = np.unique(new_test_labels,return_counts = True)\n",
        "dict(zip(unique,counts))"
      ]
    },
    {
      "cell_type": "code",
      "execution_count": 77,
      "metadata": {
        "colab": {
          "base_uri": "https://localhost:8080/",
          "height": 676
        },
        "id": "QwtLYUD8fDUW",
        "outputId": "4a4200a7-e16b-470f-fcb7-f1c80e7bd3bf"
      },
      "outputs": [
        {
          "output_type": "stream",
          "name": "stdout",
          "text": [
            "K-Nearest Neighbors Accuracy: 0.84469\n",
            "Confusion matrix, without normalization\n",
            "[[20239   334   171     5    17   338]\n",
            " [  966 21551  1976    82   377  2420]\n",
            " [   42   317  3556    32   117   421]\n",
            " [    1     6    26   162     2     6]\n",
            " [    2    27    61     2   808    31]\n",
            " [  193   691   707    27   157  5645]]\n"
          ]
        },
        {
          "output_type": "display_data",
          "data": {
            "text/plain": [
              "<Figure size 432x288 with 2 Axes>"
            ],
            "image/png": "[encoded data removed]"
          },
          "metadata": {
            "needs_background": "light"
          }
        },
        {
          "output_type": "stream",
          "name": "stdout",
          "text": [
            "              precision    recall  f1-score   support\n",
            "\n",
            "           0       0.94      0.96      0.95     21104\n",
            "           1       0.94      0.79      0.86     27372\n",
            "           2       0.55      0.79      0.65      4485\n",
            "           3       0.52      0.80      0.63       203\n",
            "           4       0.55      0.87      0.67       931\n",
            "           5       0.64      0.76      0.69      7420\n",
            "\n",
            "    accuracy                           0.84     61515\n",
            "   macro avg       0.69      0.83      0.74     61515\n",
            "weighted avg       0.87      0.84      0.85     61515\n",
            "\n"
          ]
        }
      ],
      "source": [
        "import itertools\n",
        "from sklearn.metrics import classification_report\n",
        "y_te_pred2 = clf2.predict(X_test)#[1:10000,:])\n",
        "\n",
        "acc2 = accuracy_score(new_test_labels,y_te_pred2)\n",
        "print(\"K-Nearest Neighbors Accuracy: %.5f\" %(acc2)) #.907\n",
        "cfs=confusion_matrix(new_test_labels,y_te_pred2)\n",
        "pyplot.figure()\n",
        "class_names = encoder.classes_\n",
        "plot_confusion_matrix(cfs,classes=class_names,title=\"Original: Confusuion Matrix\")\n",
        "print(classification_report(new_test_labels,y_te_pred2))"
      ]
    },
    {
      "cell_type": "code",
      "execution_count": 1,
      "metadata": {
        "colab": {
          "base_uri": "https://localhost:8080/",
          "height": 183
        },
        "id": "bQYs3ujCmhYM",
        "outputId": "24bf8a34-aac4-47a2-d1cb-f159242e6e84"
      },
      "outputs": [
        {
          "output_type": "error",
          "ename": "NameError",
          "evalue": "ignored",
          "traceback": [
            "\u001b[0;31m---------------------------------------------------------------------------\u001b[0m",
            "\u001b[0;31mNameError\u001b[0m                                 Traceback (most recent call last)",
            "\u001b[0;32m<ipython-input-1-e831a3818444>\u001b[0m in \u001b[0;36m<module>\u001b[0;34m\u001b[0m\n\u001b[1;32m      1\u001b[0m \u001b[0mtarget_label\u001b[0m \u001b[0;34m=\u001b[0m \u001b[0;34m[\u001b[0m\u001b[0;34m'LYING_DOWN'\u001b[0m\u001b[0;34m,\u001b[0m \u001b[0;34m'SITTING'\u001b[0m\u001b[0;34m,\u001b[0m \u001b[0;34m'FIX_walking'\u001b[0m\u001b[0;34m,\u001b[0m \u001b[0;34m'FIX_running'\u001b[0m\u001b[0;34m,\u001b[0m \u001b[0;34m'BICYCLING'\u001b[0m\u001b[0;34m,\u001b[0m \u001b[0;34m'OR_standing'\u001b[0m\u001b[0;34m]\u001b[0m\u001b[0;34m\u001b[0m\u001b[0;34m\u001b[0m\u001b[0m\n\u001b[0;32m----> 2\u001b[0;31m \u001b[0mplot_confusion_matrix\u001b[0m\u001b[0;34m(\u001b[0m\u001b[0mcfs\u001b[0m\u001b[0;34m,\u001b[0m\u001b[0mclasses\u001b[0m\u001b[0;34m=\u001b[0m\u001b[0mtarget_label\u001b[0m\u001b[0;34m,\u001b[0m\u001b[0mtitle\u001b[0m\u001b[0;34m=\u001b[0m\u001b[0;34m\"Original: Confusuion Matrix\"\u001b[0m\u001b[0;34m)\u001b[0m\u001b[0;34m\u001b[0m\u001b[0;34m\u001b[0m\u001b[0m\n\u001b[0m",
            "\u001b[0;31mNameError\u001b[0m: name 'plot_confusion_matrix' is not defined"
          ]
        }
      ],
      "source": [
        "target_label = ['LYING_DOWN', 'SITTING', 'FIX_walking', 'FIX_running', 'BICYCLING', 'OR_standing']\n",
        "plot_confusion_matrix(cfs,classes=target_label,title=\"Original: Confusuion Matrix\")"
      ]
    }
  ],
  "metadata": {
    "colab": {
      "provenance": [],
      "authorship_tag": "ABX9TyMB0maEK5tY7Qq2P8TgBPEB",
      "include_colab_link": true
    },
    "kernelspec": {
      "display_name": "Python 3",
      "name": "python3"
    },
    "language_info": {
      "name": "python"
    }
  },
  "nbformat": 4,
  "nbformat_minor": 0
}