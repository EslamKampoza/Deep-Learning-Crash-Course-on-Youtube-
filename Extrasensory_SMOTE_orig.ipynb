{
  "cells": [
    {
      "cell_type": "markdown",
      "metadata": {
        "id": "view-in-github",
        "colab_type": "text"
      },
      "source": [
        "<a href=\"https://colab.research.google.com/github/EslamKampoza/machine-intelligence-paper-/blob/main/Extrasensory_SMOTE_orig.ipynb\" target=\"_parent\"><img src=\"https://colab.research.google.com/assets/colab-badge.svg\" alt=\"Open In Colab\"/></a>"
      ]
    },
    {
      "cell_type": "code",
      "execution_count": 48,
      "metadata": {
        "colab": {
          "base_uri": "https://localhost:8080/"
        },
        "id": "V4yYZ8qMcU3z",
        "outputId": "13600c4e-ade2-4ead-b98b-2da1cbb72e56"
      },
      "outputs": [
        {
          "output_type": "stream",
          "name": "stdout",
          "text": [
            "Drive already mounted at /content/drive; to attempt to forcibly remount, call drive.mount(\"/content/drive\", force_remount=True).\n"
          ]
        }
      ],
      "source": [
        "from google.colab import drive\n",
        "drive.mount('/content/drive')"
      ]
    },
    {
      "cell_type": "code",
      "execution_count": 49,
      "metadata": {
        "id": "p5zqS7kweHAI"
      },
      "outputs": [],
      "source": [
        "from sklearn.pipeline import Pipeline\n",
        "from sklearn.impute import SimpleImputer\n",
        "from sklearn.preprocessing import StandardScaler\n",
        "\n",
        "from sklearn.linear_model import LogisticRegression\n",
        "from sklearn.model_selection import StratifiedShuffleSplit\n",
        "\n",
        "%matplotlib inline\n",
        "import matplotlib as mpl\n",
        "import matplotlib.pyplot as plt\n",
        "\n",
        "import pandas as pd\n",
        "\n",
        "from utilize.data import *\n",
        "from utilize.transform import *\n",
        "from utilize.feature_selection import *\n",
        "from utilize.test import *\n"
      ]
    },
    {
      "cell_type": "code",
      "execution_count": 50,
      "metadata": {
        "id": "JREZXkCceclt"
      },
      "outputs": [],
      "source": [
        "def score_function(y_test, y_pred, score = 'BA', W_test = None):\n",
        "\n",
        "    mcm = []\n",
        "    for i in range(y_test.shape[1]):\n",
        "        if W_test is not None:\n",
        "            cm = confusion_matrix(y_test[:,i].T, y_pred[:,i].T, sample_weight = W_test[:,i].T)\n",
        "        else:\n",
        "            cm = confusion_matrix(y_test[:,i].T, y_pred[:,i].T)\n",
        "        cm = np.expand_dims(cm, axis = 0)\n",
        "        mcm.append(cm)\n",
        "    \n",
        "    mcm = np.concatenate(mcm, axis = 0)\n",
        "    tn = mcm[:, 0, 0]\n",
        "    tp = mcm[:, 1, 1]\n",
        "    fn = mcm[:, 1, 0]\n",
        "    fp = mcm[:, 0, 1]\n",
        "    \n",
        "    sensitivity = tp / (tp + fn)\n",
        "    specificity = tn / (tn + fp)\n",
        "    BA = (sensitivity + specificity)/2\n",
        "    accuracy = (tn + tp)/(tn + tp + fn + fp)\n",
        "\n",
        "    sensitivity = np.sum(sensitivity)/sensitivity.shape[0]\n",
        "    specificity = np.sum(specificity)/specificity.shape[0]\n",
        "    BA = np.sum(BA)/BA.shape[0]\n",
        "    accuracy = np.sum(accuracy)/accuracy.shape[0]\n",
        "\n",
        "    if score == 'BA': \n",
        "        return BA\n",
        "    else: \n",
        "        raise Exception('score not valid!')"
      ]
    },
    {
      "cell_type": "code",
      "execution_count": 51,
      "metadata": {
        "id": "W2GcWnb4ef_1"
      },
      "outputs": [],
      "source": [
        "# Load all the data from Extrasenory dataset\n",
        "X, y, M, user_index, feature_names, label_names = load_all_data()"
      ]
    },
    {
      "cell_type": "code",
      "execution_count": 52,
      "metadata": {
        "id": "lk_OISfkejqS"
      },
      "outputs": [],
      "source": [
        "feature_index = [ 0,   1,   2,   4,   6,   7,   9,  12,  13,  16,  17,  18,  19,\n",
        "        20,  22,  23,  24,  25,  26,  27,  28,  31,  32,  34,  35,  36,\n",
        "        37,  38,  39,  40,  41,  42,  43,  44,  45,  46,  49,  52,  53,\n",
        "        54,  56,  58,  59,  60,  61,  62,  63,  65,  67,  68,  69,  71,\n",
        "        72,  73,  74,  76,  77,  78,  79,  80,  81,  85,  87,  88,  89,\n",
        "        90,  91,  92,  93,  94,  95,  96,  97,  98,  99, 100, 101, 102,\n",
        "       103, 104, 105, 106, 107, 108, 109, 110, 111, 115, 116, 119, 120,\n",
        "       121, 122, 123, 124, 125, 126, 128, 129, 130, 131, 132, 133, 134,\n",
        "       135, 136, 137, 139, 140, 142, 144, 145, 146, 147, 148, 149, 150,\n",
        "       151, 153, 154, 156, 158, 159, 160, 161, 162, 163, 164, 165, 166,\n",
        "       167, 168, 170, 171, 172, 173, 176, 177, 178, 180, 181, 182, 183,\n",
        "       185, 187, 188, 190, 192, 193, 194, 195, 196, 197, 198, 199, 201,\n",
        "       202, 203, 204, 205, 206, 207, 208, 209, 213, 214, 215, 216, 217,\n",
        "       218, 219, 220, 221, 222, 224]\n",
        "X175 = X[:, feature_index]"
      ]
    },
    {
      "cell_type": "code",
      "execution_count": 53,
      "metadata": {
        "id": "Pbl5KUj8emF7"
      },
      "outputs": [],
      "source": [
        "# Only select body state label\n",
        "target_label = ['LYING_DOWN', 'SITTING', 'FIX_walking', 'FIX_running', 'BICYCLING', 'OR_standing']\n",
        "#target_label = [\"SITTING\"]\n",
        "# Use the last 5 user's data as test set\n",
        "#test_uuid = list(range(56, 61))\n",
        "\n",
        "# Fill the Nan with mean value and normalize all the data \n",
        "pipeline = Pipeline([\n",
        "    ('imputer', SimpleImputer(strategy = 'mean')),\n",
        "    ('std_scaler', StandardScaler())\n",
        "])\n",
        "\n",
        "# Transform \n",
        "# 1. select target labels \n",
        "# 2. tansform feature matrix fill None with mean and do the normalization\n",
        "# 3. Split train, validation and test set by ratio of 6:2:2\n",
        "X_new, y_new, M_new = select_target_labels(X175, y, M, target_label, label_names, drop_all_zero = False)\n",
        "X_new = pipeline.fit_transform(X_new, y_new)\n"
      ]
    },
    {
      "cell_type": "code",
      "execution_count": 54,
      "metadata": {
        "id": "vwppmprAepoi"
      },
      "outputs": [],
      "source": [
        "from sklearn.model_selection import train_test_split\n",
        "X_train,X_test, y_train,y_test, M_train, M_test = train_test_split(X_new, y_new, M_new, test_size = 0.2)"
      ]
    },
    {
      "cell_type": "code",
      "execution_count": 55,
      "metadata": {
        "id": "uHSHEHGvetA1"
      },
      "outputs": [],
      "source": [
        "# To swap 0 and 1, simply do \n",
        "y_train_sampleweight = np.abs(1-M_train)\n",
        "\n",
        "y_train_sw1D = np.zeros(y_train_sampleweight.shape[0])\n",
        "for i in range(len(y_train_sw1D)):\n",
        "    y_train_sw1D[i] = np.sum(y_train_sampleweight[i])/M_train.shape[1]\n",
        "\n",
        "# To swap 0 and 1, simply do \n",
        "y_test_sampleweight = np.abs(1-M_test)\n",
        "\n",
        "y_test_sw1D = np.zeros(y_test_sampleweight.shape[0])\n",
        "for i in range(len(y_test_sw1D)):\n",
        "    y_test_sw1D[i] = np.sum(y_test_sampleweight[i])/M_test.shape[1]"
      ]
    },
    {
      "cell_type": "code",
      "execution_count": 56,
      "metadata": {
        "id": "36R_yY1Revqm"
      },
      "outputs": [],
      "source": [
        "y_train11 = y_train_sw1D.reshape(len(y_train_sw1D),1)\n",
        "y_test11 = y_test_sw1D.reshape(len(y_test_sw1D),1)"
      ]
    },
    {
      "cell_type": "code",
      "execution_count": 57,
      "metadata": {
        "id": "xv6l4UOKnCIw"
      },
      "outputs": [],
      "source": [
        "y_test1 = []\n",
        "new_test_Data1 = []\n",
        "for i in range(len(y_test)):\n",
        "    for j in range(y_test.shape[1]):\n",
        "        if y_test[i,j]:\n",
        "             y_test1.append(j)\n",
        "             new_test_Data1.append(X_test[i])"
      ]
    },
    {
      "cell_type": "code",
      "execution_count": 58,
      "metadata": {
        "id": "1wlBa-DAne0N"
      },
      "outputs": [],
      "source": [
        "y_train1 = []\n",
        "new_train_Data1 = []\n",
        "for i in range(len(y_train)):\n",
        "    for j in range(y_train.shape[1]):\n",
        "        if y_train[i,j]:\n",
        "             y_train1.append(j)\n",
        "             new_train_Data1.append(X_train[i])"
      ]
    },
    {
      "cell_type": "code",
      "execution_count": 59,
      "metadata": {
        "id": "jgmN1pcqe2-S"
      },
      "outputs": [],
      "source": [
        "from sklearn.neighbors import KNeighborsClassifier\n",
        "from sklearn.preprocessing import LabelEncoder, StandardScaler , MinMaxScaler"
      ]
    },
    {
      "cell_type": "code",
      "execution_count": 60,
      "metadata": {
        "id": "d3UV3Gvoe5jP"
      },
      "outputs": [],
      "source": [
        "scaler = MinMaxScaler()\n",
        "scaler.fit(new_train_Data1)\n",
        "X_train = scaler.transform(new_train_Data1)\n",
        "X_test = scaler.transform(new_test_Data1)"
      ]
    },
    {
      "cell_type": "code",
      "execution_count": 61,
      "metadata": {
        "id": "uTWlhCp_e_i7"
      },
      "outputs": [],
      "source": [
        "#encoding Labels\n",
        "\n",
        "encoder = LabelEncoder()\n",
        "\n",
        "#encoding test labels\n",
        "\n",
        "encoder.fit(y_test1)\n",
        "new_test_labels = encoder.transform(y_test1)\n",
        "\n",
        "#encoding train labels\n",
        "\n",
        "encoder.fit(y_train1)\n",
        "new_train_labels = encoder.transform(y_train1)"
      ]
    },
    {
      "cell_type": "code",
      "execution_count": 62,
      "metadata": {
        "id": "kzqLpnAhfCcF"
      },
      "outputs": [],
      "source": [
        "from matplotlib import pyplot\n",
        "def plot_confusion_matrix (cm, classes, normalize=False, title='Confusion Matrix', cmap=pyplot.cm.Blues,\n",
        "                           decsnTreeClf=None):\n",
        "    #This function prints and plots the confusion matrix.\n",
        "    pyplot.imshow(cm,interpolation='nearest',cmap=cmap)\n",
        "    pyplot.title(title)\n",
        "    pyplot.colorbar()\n",
        "    tick_marks=np.arange(len(classes))\n",
        "    pyplot.xticks(tick_marks,classes,rotation=45)\n",
        "    pyplot.yticks(tick_marks,classes)\n",
        "\n",
        "    if normalize:\n",
        "        cm = cm.astype('float') / cm.sum(axis=1)[:,np.newaxis]\n",
        "        print(\"Normalized confusion matrix\")\n",
        "    else:\n",
        "        print(\"Confusion matrix, without normalization\")\n",
        "\n",
        "    print(cm)\n",
        "\n",
        "    thresh = cm.max()/2.\n",
        "    for i,j in itertools.product(range(cm.shape[0]), range(cm.shape[1])):\n",
        "        pyplot.text(j,i,cm[i,j],horizontalalignment=\"center\", color=\"white\" if cm[i,j]> thresh else \"black\" )\n",
        "\n",
        "    pyplot.tight_layout()\n",
        "    pyplot.ylabel('True Label')\n",
        "    pyplot.xlabel('Predicted Label')\n",
        "    pyplot.show()\n"
      ]
    },
    {
      "cell_type": "code",
      "source": [
        "from imblearn.over_sampling import SMOTE\n",
        "from matplotlib import pyplot\n",
        "from sklearn.metrics import classification_report"
      ],
      "metadata": {
        "id": "jAdbX-_kzsFw"
      },
      "execution_count": 70,
      "outputs": []
    },
    {
      "cell_type": "code",
      "source": [
        "sm = SMOTE(random_state = 2)\n",
        "Data_res,labels_res = sm.fit_resample(X_train,new_train_labels)"
      ],
      "metadata": {
        "id": "3B5oH-dvzt4C"
      },
      "execution_count": 72,
      "outputs": []
    },
    {
      "cell_type": "code",
      "source": [
        "unique,counts = np.unique(labels_res,return_counts = True)\n",
        "dict(zip(unique,counts))"
      ],
      "metadata": {
        "colab": {
          "base_uri": "https://localhost:8080/"
        },
        "id": "dJDOlNvzz0Ss",
        "outputId": "a0e3eb24-868e-4ecd-85c8-dc530b07a9e7"
      },
      "execution_count": 73,
      "outputs": [
        {
          "output_type": "execute_result",
          "data": {
            "text/plain": [
              "{0: 108984, 1: 108984, 2: 108984, 3: 108984, 4: 108984, 5: 108984}"
            ]
          },
          "metadata": {},
          "execution_count": 73
        }
      ]
    },
    {
      "cell_type": "code",
      "execution_count": 74,
      "metadata": {
        "id": "xzu2aszlhLwK"
      },
      "outputs": [],
      "source": [
        "clf2= KNeighborsClassifier(n_neighbors=4)\n",
        "knnModel2 = clf2.fit(Data_res,labels_res)"
      ]
    },
    {
      "cell_type": "code",
      "execution_count": 75,
      "metadata": {
        "colab": {
          "base_uri": "https://localhost:8080/"
        },
        "id": "Ahg3uT3XiQQA",
        "outputId": "61cce771-0273-4a34-c112-71b314a9895d"
      },
      "outputs": [
        {
          "output_type": "execute_result",
          "data": {
            "text/plain": [
              "(61515, 175)"
            ]
          },
          "metadata": {},
          "execution_count": 75
        }
      ],
      "source": [
        "X_test.shape"
      ]
    },
    {
      "cell_type": "code",
      "execution_count": 76,
      "metadata": {
        "colab": {
          "base_uri": "https://localhost:8080/"
        },
        "id": "fQvQe8MMiu39",
        "outputId": "daefb03f-cc1c-4fc0-d10b-3fad2076ed52"
      },
      "outputs": [
        {
          "output_type": "execute_result",
          "data": {
            "text/plain": [
              "{0: 21104, 1: 27372, 2: 4485, 3: 203, 4: 931, 5: 7420}"
            ]
          },
          "metadata": {},
          "execution_count": 76
        }
      ],
      "source": [
        "unique,counts = np.unique(new_test_labels,return_counts = True)\n",
        "dict(zip(unique,counts))"
      ]
    },
    {
      "cell_type": "code",
      "execution_count": 77,
      "metadata": {
        "colab": {
          "base_uri": "https://localhost:8080/",
          "height": 676
        },
        "id": "QwtLYUD8fDUW",
        "outputId": "4a4200a7-e16b-470f-fcb7-f1c80e7bd3bf"
      },
      "outputs": [
        {
          "output_type": "stream",
          "name": "stdout",
          "text": [
            "K-Nearest Neighbors Accuracy: 0.84469\n",
            "Confusion matrix, without normalization\n",
            "[[20239   334   171     5    17   338]\n",
            " [  966 21551  1976    82   377  2420]\n",
            " [   42   317  3556    32   117   421]\n",
            " [    1     6    26   162     2     6]\n",
            " [    2    27    61     2   808    31]\n",
            " [  193   691   707    27   157  5645]]\n"
          ]
        },
        {
          "output_type": "display_data",
          "data": {
            "text/plain": [
              "<Figure size 432x288 with 2 Axes>"
            ],
            "image/png": "[encoded data removed]"
          },
          "metadata": {
            "needs_background": "light"
          }
        },
        {
          "output_type": "stream",
          "name": "stdout",
          "text": [
            "              precision    recall  f1-score   support\n",
            "\n",
            "           0       0.94      0.96      0.95     21104\n",
            "           1       0.94      0.79      0.86     27372\n",
            "           2       0.55      0.79      0.65      4485\n",
            "           3       0.52      0.80      0.63       203\n",
            "           4       0.55      0.87      0.67       931\n",
            "           5       0.64      0.76      0.69      7420\n",
            "\n",
            "    accuracy                           0.84     61515\n",
            "   macro avg       0.69      0.83      0.74     61515\n",
            "weighted avg       0.87      0.84      0.85     61515\n",
            "\n"
          ]
        }
      ],
      "source": [
        "import itertools\n",
        "from sklearn.metrics import classification_report\n",
        "y_te_pred2 = clf2.predict(X_test)#[1:10000,:])\n",
        "\n",
        "acc2 = accuracy_score(new_test_labels,y_te_pred2)\n",
        "print(\"K-Nearest Neighbors Accuracy: %.5f\" %(acc2)) #.907\n",
        "cfs=confusion_matrix(new_test_labels,y_te_pred2)\n",
        "pyplot.figure()\n",
        "class_names = encoder.classes_\n",
        "plot_confusion_matrix(cfs,classes=class_names,title=\"Original: Confusuion Matrix\")\n",
        "print(classification_report(new_test_labels,y_te_pred2))"
      ]
    },
    {
      "cell_type": "code",
      "execution_count": 1,
      "metadata": {
        "colab": {
          "base_uri": "https://localhost:8080/",
          "height": 183
        },
        "id": "bQYs3ujCmhYM",
        "outputId": "24bf8a34-aac4-47a2-d1cb-f159242e6e84"
      },
      "outputs": [
        {
          "output_type": "error",
          "ename": "NameError",
          "evalue": "ignored",
          "traceback": [
            "\u001b[0;31m---------------------------------------------------------------------------\u001b[0m",
            "\u001b[0;31mNameError\u001b[0m                                 Traceback (most recent call last)",
            "\u001b[0;32m<ipython-input-1-e831a3818444>\u001b[0m in \u001b[0;36m<module>\u001b[0;34m\u001b[0m\n\u001b[1;32m      1\u001b[0m \u001b[0mtarget_label\u001b[0m \u001b[0;34m=\u001b[0m \u001b[0;34m[\u001b[0m\u001b[0;34m'LYING_DOWN'\u001b[0m\u001b[0;34m,\u001b[0m \u001b[0;34m'SITTING'\u001b[0m\u001b[0;34m,\u001b[0m \u001b[0;34m'FIX_walking'\u001b[0m\u001b[0;34m,\u001b[0m \u001b[0;34m'FIX_running'\u001b[0m\u001b[0;34m,\u001b[0m \u001b[0;34m'BICYCLING'\u001b[0m\u001b[0;34m,\u001b[0m \u001b[0;34m'OR_standing'\u001b[0m\u001b[0;34m]\u001b[0m\u001b[0;34m\u001b[0m\u001b[0;34m\u001b[0m\u001b[0m\n\u001b[0;32m----> 2\u001b[0;31m \u001b[0mplot_confusion_matrix\u001b[0m\u001b[0;34m(\u001b[0m\u001b[0mcfs\u001b[0m\u001b[0;34m,\u001b[0m\u001b[0mclasses\u001b[0m\u001b[0;34m=\u001b[0m\u001b[0mtarget_label\u001b[0m\u001b[0;34m,\u001b[0m\u001b[0mtitle\u001b[0m\u001b[0;34m=\u001b[0m\u001b[0;34m\"Original: Confusuion Matrix\"\u001b[0m\u001b[0;34m)\u001b[0m\u001b[0;34m\u001b[0m\u001b[0;34m\u001b[0m\u001b[0m\n\u001b[0m",
            "\u001b[0;31mNameError\u001b[0m: name 'plot_confusion_matrix' is not defined"
          ]
        }
      ],
      "source": [
        "target_label = ['LYING_DOWN', 'SITTING', 'FIX_walking', 'FIX_running', 'BICYCLING', 'OR_standing']\n",
        "plot_confusion_matrix(cfs,classes=target_label,title=\"Original: Confusuion Matrix\")"
      ]
    }
  ],
  "metadata": {
    "colab": {
      "provenance": [],
      "authorship_tag": "ABX9TyMdCVhvwqG7IL7BVlZbDQMs",
      "include_colab_link": true
    },
    "kernelspec": {
      "display_name": "Python 3",
      "name": "python3"
    },
    "language_info": {
      "name": "python"
    }
  },
  "nbformat": 4,
  "nbformat_minor": 0
}