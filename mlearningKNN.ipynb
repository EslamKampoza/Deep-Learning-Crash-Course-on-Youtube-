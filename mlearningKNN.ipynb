{
  "cells": [
    {
      "cell_type": "markdown",
      "metadata": {
        "id": "view-in-github",
        "colab_type": "text"
      },
      "source": [
        "<a href=\"https://colab.research.google.com/github/EslamKampoza/Deep-Learning-Crash-Course-on-Youtube-/blob/main/mlearningKNN.ipynb\" target=\"_parent\"><img src=\"https://colab.research.google.com/assets/colab-badge.svg\" alt=\"Open In Colab\"/></a>"
      ]
    },
    {
      "cell_type": "code",
      "execution_count": 4,
      "metadata": {
        "colab": {
          "base_uri": "https://localhost:8080/"
        },
        "id": "LFyFXfkfBB6H",
        "outputId": "a54f9056-9466-4ba4-ddca-1322481f8fbb"
      },
      "outputs": [
        {
          "output_type": "stream",
          "name": "stdout",
          "text": [
            "Looking in indexes: https://pypi.org/simple, https://us-python.pkg.dev/colab-wheels/public/simple/\n",
            "Collecting metric-learn\n",
            "  Downloading metric_learn-0.6.2-py2.py3-none-any.whl (64 kB)\n",
            "\u001b[K     |████████████████████████████████| 64 kB 2.8 MB/s \n",
            "\u001b[?25hRequirement already satisfied: numpy in /usr/local/lib/python3.7/dist-packages (from metric-learn) (1.21.6)\n",
            "Requirement already satisfied: scikit-learn>=0.20.3 in /usr/local/lib/python3.7/dist-packages (from metric-learn) (1.0.2)\n",
            "Requirement already satisfied: scipy in /usr/local/lib/python3.7/dist-packages (from metric-learn) (1.7.3)\n",
            "Requirement already satisfied: threadpoolctl>=2.0.0 in /usr/local/lib/python3.7/dist-packages (from scikit-learn>=0.20.3->metric-learn) (3.1.0)\n",
            "Requirement already satisfied: joblib>=0.11 in /usr/local/lib/python3.7/dist-packages (from scikit-learn>=0.20.3->metric-learn) (1.2.0)\n",
            "Installing collected packages: metric-learn\n",
            "Successfully installed metric-learn-0.6.2\n"
          ]
        }
      ],
      "source": [
        "!pip install metric-learn"
      ]
    },
    {
      "cell_type": "code",
      "execution_count": 6,
      "metadata": {
        "id": "BA0yo_4Izxs5"
      },
      "outputs": [],
      "source": [
        "import pandas as pd\n",
        "import time\n",
        "from matplotlib import pyplot\n",
        "import numpy as np\n",
        "import itertools\n",
        "from mpl_toolkits.mplot3d import Axes3D\n",
        "from sklearn.utils import shuffle\n",
        "from sklearn.preprocessing import LabelEncoder, StandardScaler , MinMaxScaler\n",
        "from sklearn.pipeline import Pipeline\n",
        "import sklearn.neural_network as nn\n",
        "from sklearn.metrics import confusion_matrix,accuracy_score\n",
        "from sklearn.linear_model import LogisticRegression\n",
        "from sklearn.model_selection import KFold, GridSearchCV, StratifiedKFold,cross_val_score\n",
        "from sklearn.feature_selection import RFE\n",
        "from sklearn.ensemble import ExtraTreesClassifier,AdaBoostClassifier,RandomForestClassifier\n",
        "from sklearn.tree import DecisionTreeClassifier\n",
        "from sklearn.decomposition import PCA\n",
        "from sklearn.neighbors import KNeighborsClassifier\n",
        "from sklearn.svm import SVC\n",
        "from sklearn.discriminant_analysis import QuadraticDiscriminantAnalysis, LinearDiscriminantAnalysis\n",
        "from sklearn.naive_bayes import GaussianNB\n",
        "from sklearn.manifold import TSNE\n",
        "from sklearn.metrics import classification_report\n",
        "#Neural Network\n",
        "from keras.models import Sequential\n",
        "from keras.layers import Dense, Dropout,Activation\n",
        "from keras.wrappers.scikit_learn import KerasClassifier\n",
        "from keras.utils.np_utils import to_categorical\n",
        "#from imblearn.over_sampling import SMOTE\n",
        "from sklearn.decomposition import TruncatedSVD\n",
        "import smote"
      ]
    },
    {
      "cell_type": "code",
      "source": [
        "def plot_confusion_matrix (cm, classes, normalize=False, title='Confusion Matrix', cmap=pyplot.cm.Blues,\n",
        "                           decsnTreeClf=None):\n",
        "    #This function prints and plots the confusion matrix.\n",
        "    pyplot.imshow(cm,interpolation='nearest',cmap=cmap)\n",
        "    pyplot.title(title)\n",
        "    pyplot.colorbar()\n",
        "    tick_marks=np.arange(len(classes))\n",
        "    pyplot.xticks(tick_marks,classes,rotation=45)\n",
        "    pyplot.yticks(tick_marks,classes)\n",
        "\n",
        "    if normalize:\n",
        "        cm = cm.astype('float') / cm.sum(axis=1)[:,np.newaxis]\n",
        "        print(\"Normalized confusion matrix\")\n",
        "    else:\n",
        "        print(\"Confusion matrix, without normalization\")\n",
        "\n",
        "    print(cm)\n",
        "\n",
        "    thresh = cm.max()/2.\n",
        "    for i,j in itertools.product(range(cm.shape[0]), range(cm.shape[1])):\n",
        "        pyplot.text(j,i,cm[i,j],horizontalalignment=\"center\", color=\"white\" if cm[i,j]> thresh else \"black\" )\n",
        "\n",
        "    pyplot.tight_layout()\n",
        "    pyplot.ylabel('True Label')\n",
        "    pyplot.xlabel('Predicted Label')\n",
        "    pyplot.show()\n"
      ],
      "metadata": {
        "id": "b2mi9Npl88KO"
      },
      "execution_count": 7,
      "outputs": []
    },
    {
      "cell_type": "code",
      "source": [
        "train = pd.read_csv('WISDM.csv',header=None)\n",
        "train = train[(train != '?').all(axis=1)]\n",
        "#test = pd.read_csv('test.csv')\n",
        "labels = train[train.columns[len(train.columns)-1]]\n",
        "Data = train[train.columns[:-1]]\n",
        "peek=train.head()\n",
        "print(peek)\n",
        "print(train.shape)"
      ],
      "metadata": {
        "colab": {
          "base_uri": "https://localhost:8080/"
        },
        "id": "RxzKqCpL9C-2",
        "outputId": "45aa1ec2-6908-479a-bc82-7dd637b135ec"
      },
      "execution_count": 8,
      "outputs": [
        {
          "output_type": "stream",
          "name": "stdout",
          "text": [
            "   0     1     2     3     4     5     6     7     8     9   ...      35  \\\n",
            "0  33  0.04  0.09  0.14  0.12  0.11  0.10  0.08  0.13  0.13  ...  293.94   \n",
            "1  33  0.12  0.12  0.06  0.07  0.11  0.10  0.11  0.09  0.12  ...  269.44   \n",
            "2  33  0.14  0.09  0.11  0.09  0.09  0.11  0.12  0.08  0.05  ...  248.65   \n",
            "3  33  0.06  0.10  0.09  0.09  0.11  0.07  0.12  0.10  0.14  ...  709.09   \n",
            "4  33  0.12  0.11  0.10  0.08  0.10  0.14  0.10  0.11  0.08  ...    3300   \n",
            "\n",
            "        36    37    38    39    40    41    42     43       44  \n",
            "0     1550  3.29  7.21  4.00  4.05  8.17  4.05  11.96  Jogging  \n",
            "1  1233.33  4.23  6.88  4.05  5.43  8.19  5.43  12.05  Jogging  \n",
            "2     1780  4.18  6.89  4.07  5.55  8.19  5.55  11.99  Jogging  \n",
            "3     1380  2.26  4.13  2.49  2.87  4.95  2.87  10.69  Walking  \n",
            "4     1775  2.29  3.94  2.41  3.08  4.64  3.08  10.80  Walking  \n",
            "\n",
            "[5 rows x 45 columns]\n",
            "(4944, 45)\n"
          ]
        }
      ]
    },
    {
      "cell_type": "code",
      "source": [
        "import metric_learn"
      ],
      "metadata": {
        "id": "vr2aL0Wu9frM"
      },
      "execution_count": 11,
      "outputs": []
    },
    {
      "cell_type": "code",
      "source": [
        "encoder = LabelEncoder()\n",
        "\n",
        "#encoding test labels\n",
        "\n",
        "encoder.fit(labels)\n",
        "labels_int = encoder.transform(labels)"
      ],
      "metadata": {
        "id": "T3jDmwSd9uYX"
      },
      "execution_count": 13,
      "outputs": []
    },
    {
      "cell_type": "code",
      "source": [
        "mmc = metric_learn.MMC_Supervised()\n",
        "X_mmc = mmc.fit_transform(Data, labels_int)"
      ],
      "metadata": {
        "id": "Hl7rdD8E9Idi"
      },
      "execution_count": 14,
      "outputs": []
    },
    {
      "cell_type": "code",
      "source": [
        "Data.shape"
      ],
      "metadata": {
        "colab": {
          "base_uri": "https://localhost:8080/"
        },
        "id": "YVU_WSVY9-Xr",
        "outputId": "aaf31eee-d43a-485e-b308-b71b1fc183a0"
      },
      "execution_count": 17,
      "outputs": [
        {
          "output_type": "execute_result",
          "data": {
            "text/plain": [
              "(4944, 44)"
            ]
          },
          "metadata": {},
          "execution_count": 17
        }
      ]
    },
    {
      "cell_type": "code",
      "source": [
        "X_mmc.shape"
      ],
      "metadata": {
        "colab": {
          "base_uri": "https://localhost:8080/"
        },
        "id": "x2y3PSST943K",
        "outputId": "3754f26d-2179-4ccf-b258-36ef5cfd3882"
      },
      "execution_count": 16,
      "outputs": [
        {
          "output_type": "execute_result",
          "data": {
            "text/plain": [
              "(4944, 44)"
            ]
          },
          "metadata": {},
          "execution_count": 16
        }
      ]
    },
    {
      "cell_type": "code",
      "source": [
        "MM = mmc.get_mahalanobis_matrix()"
      ],
      "metadata": {
        "id": "-2-b7wCM-dF_"
      },
      "execution_count": 19,
      "outputs": []
    },
    {
      "cell_type": "code",
      "source": [
        "MM.shape"
      ],
      "metadata": {
        "colab": {
          "base_uri": "https://localhost:8080/"
        },
        "id": "GQAQesvA-keD",
        "outputId": "53ed0a86-1fe0-4a06-cf1f-eb1962f8b59e"
      },
      "execution_count": 20,
      "outputs": [
        {
          "output_type": "execute_result",
          "data": {
            "text/plain": [
              "(44, 44)"
            ]
          },
          "metadata": {},
          "execution_count": 20
        }
      ]
    },
    {
      "cell_type": "code",
      "source": [
        "from sklearn.model_selection import train_test_split\n",
        "Data, X_test, labels, y_test = train_test_split(Data, labels, test_size=0.20, random_state=42)"
      ],
      "metadata": {
        "id": "s-ce4xFe_BOj"
      },
      "execution_count": 22,
      "outputs": []
    },
    {
      "cell_type": "code",
      "source": [
        "encoder = LabelEncoder()\n",
        "\n",
        "#encoding test labels\n",
        "\n",
        "encoder.fit(y_test)\n",
        "testLabelE = encoder.transform(y_test)\n",
        "\n",
        "#encoding train labels\n",
        "\n",
        "encoder.fit(labels)\n",
        "trainLabelE = encoder.transform(labels)\n"
      ],
      "metadata": {
        "id": "qh5Kc5x7_OWw"
      },
      "execution_count": 23,
      "outputs": []
    },
    {
      "cell_type": "code",
      "source": [
        "scaler = MinMaxScaler()\n",
        "scaler.fit(Data)\n",
        "trainData = scaler.transform(Data)\n",
        "testData = scaler.transform(X_test)"
      ],
      "metadata": {
        "id": "2YXj8kk6_aNV"
      },
      "execution_count": 25,
      "outputs": []
    },
    {
      "cell_type": "code",
      "source": [
        "clf2= KNeighborsClassifier(n_neighbors=12)\n",
        "knnModel2 = clf2.fit(trainData,trainLabelE)\n",
        "y_te_pred2 = clf2.predict(testData)\n",
        "\n",
        "acc2 = accuracy_score(testLabelE,y_te_pred2)\n",
        "print(\"K-Nearest Neighbors Accuracy: %.5f\" %(acc2)) #.907\n",
        "cfs=confusion_matrix(testLabelE,y_te_pred2)\n",
        "pyplot.figure()\n",
        "class_names = encoder.classes_\n",
        "plot_confusion_matrix(cfs,classes=class_names,title=\"Original: Confusuion Matrix\")\n",
        "print(classification_report(testLabelE,y_te_pred2))"
      ],
      "metadata": {
        "colab": {
          "base_uri": "https://localhost:8080/",
          "height": 676
        },
        "id": "NQVk-F6G-xjL",
        "outputId": "f986a581-71d0-4809-dd6f-be5f63fc0717"
      },
      "execution_count": 27,
      "outputs": [
        {
          "output_type": "stream",
          "name": "stdout",
          "text": [
            "K-Nearest Neighbors Accuracy: 0.82710\n",
            "Confusion matrix, without normalization\n",
            "[[ 33   1   0   0  18  54]\n",
            " [  2 328   0   0   1   5]\n",
            " [  1   0  18   1   0   1]\n",
            " [  2   1   0  11   1   3]\n",
            " [ 19   4   0   0  39  42]\n",
            " [ 12   0   0   0   3 389]]\n"
          ]
        },
        {
          "output_type": "display_data",
          "data": {
            "text/plain": [
              "<Figure size 432x288 with 2 Axes>"
            ],
            "image/png": "[encoded data removed]"
          },
          "metadata": {
            "needs_background": "light"
          }
        },
        {
          "output_type": "stream",
          "name": "stdout",
          "text": [
            "              precision    recall  f1-score   support\n",
            "\n",
            "           0       0.48      0.31      0.38       106\n",
            "           1       0.98      0.98      0.98       336\n",
            "           2       1.00      0.86      0.92        21\n",
            "           3       0.92      0.61      0.73        18\n",
            "           4       0.63      0.38      0.47       104\n",
            "           5       0.79      0.96      0.87       404\n",
            "\n",
            "    accuracy                           0.83       989\n",
            "   macro avg       0.80      0.68      0.72       989\n",
            "weighted avg       0.81      0.83      0.81       989\n",
            "\n"
          ]
        }
      ]
    },
    {
      "cell_type": "code",
      "source": [
        "clf2= KNeighborsClassifier(n_neighbors=12, metric = mmc.get_metric())\n",
        "knnModel2 = clf2.fit(trainData,trainLabelE)\n",
        "y_te_pred2 = clf2.predict(testData)\n",
        "\n",
        "acc2 = accuracy_score(testLabelE,y_te_pred2)\n",
        "print(\"K-Nearest Neighbors Accuracy: %.5f\" %(acc2)) #.907\n",
        "cfs=confusion_matrix(testLabelE,y_te_pred2)\n",
        "pyplot.figure()\n",
        "class_names = encoder.classes_\n",
        "plot_confusion_matrix(cfs,classes=class_names,title=\"Original: Confusuion Matrix\")\n",
        "print(classification_report(testLabelE,y_te_pred2))"
      ],
      "metadata": {
        "colab": {
          "base_uri": "https://localhost:8080/",
          "height": 676
        },
        "id": "TAH0uVhL_pda",
        "outputId": "c093d329-a831-48bd-a803-f8d5dae090d2"
      },
      "execution_count": 28,
      "outputs": [
        {
          "output_type": "stream",
          "name": "stdout",
          "text": [
            "K-Nearest Neighbors Accuracy: 0.86653\n",
            "Confusion matrix, without normalization\n",
            "[[ 60   1   0   0  13  32]\n",
            " [  2 328   0   0   1   5]\n",
            " [  1   0  15   1   2   2]\n",
            " [  2   1   0  10   5   0]\n",
            " [ 28   3   0   0  53  20]\n",
            " [  9   0   0   0   4 391]]\n"
          ]
        },
        {
          "output_type": "display_data",
          "data": {
            "text/plain": [
              "<Figure size 432x288 with 2 Axes>"
            ],
            "image/png": "[encoded data removed]"
          },
          "metadata": {
            "needs_background": "light"
          }
        },
        {
          "output_type": "stream",
          "name": "stdout",
          "text": [
            "              precision    recall  f1-score   support\n",
            "\n",
            "           0       0.59      0.57      0.58       106\n",
            "           1       0.98      0.98      0.98       336\n",
            "           2       1.00      0.71      0.83        21\n",
            "           3       0.91      0.56      0.69        18\n",
            "           4       0.68      0.51      0.58       104\n",
            "           5       0.87      0.97      0.92       404\n",
            "\n",
            "    accuracy                           0.87       989\n",
            "   macro avg       0.84      0.71      0.76       989\n",
            "weighted avg       0.86      0.87      0.86       989\n",
            "\n"
          ]
        }
      ]
    },
    {
      "cell_type": "code",
      "source": [],
      "metadata": {
        "id": "HFbGOe6yEDx-"
      },
      "execution_count": null,
      "outputs": []
    }
  ],
  "metadata": {
    "colab": {
      "provenance": [],
      "mount_file_id": "1TVbiGBOWdgKrSduJy3BJAyjdMky6zTRu",
      "authorship_tag": "ABX9TyP14jbcbyLItWNPtnndrz0H",
      "include_colab_link": true
    },
    "kernelspec": {
      "display_name": "Python 3",
      "name": "python3"
    },
    "language_info": {
      "name": "python"
    }
  },
  "nbformat": 4,
  "nbformat_minor": 0
}