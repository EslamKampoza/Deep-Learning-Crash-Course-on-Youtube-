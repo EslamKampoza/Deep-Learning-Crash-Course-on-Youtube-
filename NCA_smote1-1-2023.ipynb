{
  "cells": [
    {
      "cell_type": "markdown",
      "metadata": {
        "id": "view-in-github",
        "colab_type": "text"
      },
      "source": [
        "<a href=\"https://colab.research.google.com/github/EslamKampoza/machine-intelligence-paper-/blob/main/NCA_smote1-1-2023.ipynb\" target=\"_parent\"><img src=\"https://colab.research.google.com/assets/colab-badge.svg\" alt=\"Open In Colab\"/></a>"
      ]
    },
    {
      "cell_type": "code",
      "execution_count": 91,
      "metadata": {
        "colab": {
          "base_uri": "https://localhost:8080/"
        },
        "id": "LFyFXfkfBB6H",
        "outputId": "a3e4c1ee-b735-4ab9-9d43-905ad0bf5967"
      },
      "outputs": [
        {
          "output_type": "stream",
          "name": "stdout",
          "text": [
            "Looking in indexes: https://pypi.org/simple, https://us-python.pkg.dev/colab-wheels/public/simple/\n",
            "Requirement already satisfied: metric-learn in /usr/local/lib/python3.8/dist-packages (0.6.2)\n",
            "Requirement already satisfied: scikit-learn>=0.20.3 in /usr/local/lib/python3.8/dist-packages (from metric-learn) (1.0.2)\n",
            "Requirement already satisfied: numpy in /usr/local/lib/python3.8/dist-packages (from metric-learn) (1.21.6)\n",
            "Requirement already satisfied: scipy in /usr/local/lib/python3.8/dist-packages (from metric-learn) (1.7.3)\n",
            "Requirement already satisfied: joblib>=0.11 in /usr/local/lib/python3.8/dist-packages (from scikit-learn>=0.20.3->metric-learn) (1.2.0)\n",
            "Requirement already satisfied: threadpoolctl>=2.0.0 in /usr/local/lib/python3.8/dist-packages (from scikit-learn>=0.20.3->metric-learn) (3.1.0)\n"
          ]
        }
      ],
      "source": [
        "!pip install metric-learn"
      ]
    },
    {
      "cell_type": "code",
      "execution_count": 92,
      "metadata": {
        "id": "BA0yo_4Izxs5"
      },
      "outputs": [],
      "source": [
        "import pandas as pd\n",
        "import time\n",
        "from matplotlib import pyplot\n",
        "import numpy as np\n",
        "import itertools\n",
        "from mpl_toolkits.mplot3d import Axes3D\n",
        "from sklearn.utils import shuffle\n",
        "from sklearn.preprocessing import LabelEncoder, StandardScaler , MinMaxScaler\n",
        "from sklearn.pipeline import Pipeline\n",
        "import sklearn.neural_network as nn\n",
        "from sklearn.metrics import confusion_matrix,accuracy_score\n",
        "from sklearn.linear_model import LogisticRegression\n",
        "from sklearn.model_selection import KFold, GridSearchCV, StratifiedKFold,cross_val_score\n",
        "from sklearn.feature_selection import RFE\n",
        "from sklearn.ensemble import ExtraTreesClassifier,AdaBoostClassifier,RandomForestClassifier\n",
        "from sklearn.tree import DecisionTreeClassifier\n",
        "from sklearn.decomposition import PCA\n",
        "from sklearn.neighbors import KNeighborsClassifier\n",
        "from sklearn.svm import SVC\n",
        "from sklearn.discriminant_analysis import QuadraticDiscriminantAnalysis, LinearDiscriminantAnalysis\n",
        "from sklearn.naive_bayes import GaussianNB\n",
        "from sklearn.manifold import TSNE\n",
        "from sklearn.metrics import classification_report\n",
        "from imblearn.metrics import classification_report_imbalanced\n",
        "#Neural Network\n",
        "from keras.models import Sequential\n",
        "from keras.layers import Dense, Dropout,Activation\n",
        "from keras.wrappers.scikit_learn import KerasClassifier\n",
        "from keras.utils.np_utils import to_categorical\n",
        "#from imblearn.over_sampling import SMOTE\n",
        "from sklearn.decomposition import TruncatedSVD\n",
        "#import smote"
      ]
    },
    {
      "cell_type": "code",
      "source": [
        "def plot_confusion_matrix (cm, classes, normalize=False, title='Confusion Matrix', cmap=pyplot.cm.Blues,\n",
        "                           decsnTreeClf=None):\n",
        "    #This function prints and plots the confusion matrix.\n",
        "    pyplot.imshow(cm,interpolation='nearest',cmap=cmap)\n",
        "    pyplot.title(title)\n",
        "    pyplot.colorbar()\n",
        "    tick_marks=np.arange(len(classes))\n",
        "    pyplot.xticks(tick_marks,classes,rotation=45)\n",
        "    pyplot.yticks(tick_marks,classes)\n",
        "\n",
        "    if normalize:\n",
        "        cm = cm.astype('float') / cm.sum(axis=1)[:,np.newaxis]\n",
        "        print(\"Normalized confusion matrix\")\n",
        "    else:\n",
        "        print(\"Confusion matrix, without normalization\")\n",
        "\n",
        "    print(cm)\n",
        "\n",
        "    thresh = cm.max()/2.\n",
        "    for i,j in itertools.product(range(cm.shape[0]), range(cm.shape[1])):\n",
        "        pyplot.text(j,i,cm[i,j],horizontalalignment=\"center\", color=\"white\" if cm[i,j]> thresh else \"black\" )\n",
        "\n",
        "    pyplot.tight_layout()\n",
        "    pyplot.ylabel('True Label')\n",
        "    pyplot.xlabel('Predicted Label')\n",
        "    pyplot.show()\n"
      ],
      "metadata": {
        "id": "b2mi9Npl88KO"
      },
      "execution_count": 93,
      "outputs": []
    },
    {
      "cell_type": "code",
      "source": [
        "train = pd.read_csv('WISDM.csv',header=None)\n",
        "train = train[(train != '?').all(axis=1)]\n",
        "#test = pd.read_csv('test.csv')\n",
        "labels = train[train.columns[len(train.columns)-1]]\n",
        "Data = train[train.columns[:-1]]\n",
        "peek=train.head()\n",
        "print(peek)\n",
        "print(train.shape)"
      ],
      "metadata": {
        "colab": {
          "base_uri": "https://localhost:8080/"
        },
        "id": "RxzKqCpL9C-2",
        "outputId": "60a5d435-637c-4439-b708-cf27ed293d1c"
      },
      "execution_count": 94,
      "outputs": [
        {
          "output_type": "stream",
          "name": "stdout",
          "text": [
            "   0     1     2     3     4     5     6     7     8     9   ...      35  \\\n",
            "0  33  0.04  0.09  0.14  0.12  0.11  0.10  0.08  0.13  0.13  ...  293.94   \n",
            "1  33  0.12  0.12  0.06  0.07  0.11  0.10  0.11  0.09  0.12  ...  269.44   \n",
            "2  33  0.14  0.09  0.11  0.09  0.09  0.11  0.12  0.08  0.05  ...  248.65   \n",
            "3  33  0.06  0.10  0.09  0.09  0.11  0.07  0.12  0.10  0.14  ...  709.09   \n",
            "4  33  0.12  0.11  0.10  0.08  0.10  0.14  0.10  0.11  0.08  ...    3300   \n",
            "\n",
            "        36    37    38    39    40    41    42     43       44  \n",
            "0     1550  3.29  7.21  4.00  4.05  8.17  4.05  11.96  Jogging  \n",
            "1  1233.33  4.23  6.88  4.05  5.43  8.19  5.43  12.05  Jogging  \n",
            "2     1780  4.18  6.89  4.07  5.55  8.19  5.55  11.99  Jogging  \n",
            "3     1380  2.26  4.13  2.49  2.87  4.95  2.87  10.69  Walking  \n",
            "4     1775  2.29  3.94  2.41  3.08  4.64  3.08  10.80  Walking  \n",
            "\n",
            "[5 rows x 45 columns]\n",
            "(4944, 45)\n"
          ]
        }
      ]
    },
    {
      "cell_type": "code",
      "source": [
        "import metric_learn"
      ],
      "metadata": {
        "id": "vr2aL0Wu9frM"
      },
      "execution_count": 95,
      "outputs": []
    },
    {
      "cell_type": "code",
      "source": [
        "encoder = LabelEncoder()\n",
        "\n",
        "#encoding test labels\n",
        "\n",
        "encoder.fit(labels)\n",
        "labels_int = encoder.transform(labels)"
      ],
      "metadata": {
        "id": "T3jDmwSd9uYX"
      },
      "execution_count": 96,
      "outputs": []
    },
    {
      "cell_type": "code",
      "source": [
        "#mmc = metric_learn.MMC_Supervised()\n",
        "#X_mmc = mmc.fit_transform(Data, labels_int)\n",
        "mmc = metric_learn.NCA()\n",
        "X_mmc = mmc.fit(Data, labels_int)"
      ],
      "metadata": {
        "id": "Hl7rdD8E9Idi"
      },
      "execution_count": 97,
      "outputs": []
    },
    {
      "cell_type": "code",
      "source": [
        "Data.shape"
      ],
      "metadata": {
        "colab": {
          "base_uri": "https://localhost:8080/"
        },
        "id": "YVU_WSVY9-Xr",
        "outputId": "1bc6ce2b-cd91-4ed2-ee80-1c40741a704b"
      },
      "execution_count": 98,
      "outputs": [
        {
          "output_type": "execute_result",
          "data": {
            "text/plain": [
              "(4944, 44)"
            ]
          },
          "metadata": {},
          "execution_count": 98
        }
      ]
    },
    {
      "cell_type": "code",
      "source": [
        "MM = mmc.get_mahalanobis_matrix()"
      ],
      "metadata": {
        "id": "-2-b7wCM-dF_"
      },
      "execution_count": 99,
      "outputs": []
    },
    {
      "cell_type": "code",
      "source": [
        "MM.shape"
      ],
      "metadata": {
        "colab": {
          "base_uri": "https://localhost:8080/"
        },
        "id": "GQAQesvA-keD",
        "outputId": "d17effb4-b0d1-41ab-f168-e3f2a4491415"
      },
      "execution_count": 100,
      "outputs": [
        {
          "output_type": "execute_result",
          "data": {
            "text/plain": [
              "(44, 44)"
            ]
          },
          "metadata": {},
          "execution_count": 100
        }
      ]
    },
    {
      "cell_type": "code",
      "source": [
        "import numpy as np\n",
        "import random\n",
        "from sklearn.neighbors import NearestNeighbors\n",
        "import math\n",
        "from random import randint\n",
        "import matplotlib.pyplot as plt\n",
        "from sklearn.decomposition import PCA\n",
        "\n",
        "\n",
        "\n",
        "\n",
        "class Smote(object):\n",
        "\t\"\"\"docstring for Smote\"\"\"\n",
        "\n",
        "\tdef __init__(self,distance,MM):\n",
        "\t\tsuper(Smote, self).__init__()\n",
        "\t\tself.synthetic_arr=  []\n",
        "\t\tself.newindex = 0\n",
        "\t\tself.distance_measure = distance\n",
        "\t\tself.mmc = MM       \n",
        "\n",
        "\n",
        "\n",
        "\tdef Populate(self,N,i,indices,min_samples,k):\n",
        "\t\t\"\"\"\n",
        "    \t\tPopulates the synthitic array\n",
        "\n",
        "\n",
        "    \t\tReturns:Synthetic Array to generate_syntheic_points \n",
        "    \t\"\"\"\n",
        "\n",
        "\t\twhile N!=0:\n",
        "\t\t\tarr = []\n",
        "\t\t\tnn = randint(0,k-2)\n",
        "\t\t\tfeatures = len(min_samples[0])\n",
        "\t\t\t\n",
        "\t\t\tfor attr in range(features):\n",
        "\t\t\t\tdiff = min_samples[indices[nn]][attr] - min_samples[i][attr]\n",
        "\t\t\t\tgap = random.uniform(0,1)\n",
        "\t\t\t\tarr.append(min_samples[i][attr] + gap*diff)\n",
        "\t\t\t\n",
        "\t\t\tself.synthetic_arr.append(arr)\n",
        "\t\t\tself.newindex = self.newindex + 1\n",
        "\t\t\tN = N-1\n",
        "\n",
        "\n",
        "\n",
        "\tdef k_neighbors(self,euclid_distance,k):\n",
        "\t\tnearest_idx_npy = np.empty([euclid_distance.shape[0],euclid_distance.shape[0]],dtype=np.int64)\n",
        "\t\t\n",
        "\t\tfor i in range(len(euclid_distance)):\n",
        "\t\t\tidx = np.argsort(euclid_distance[i])\n",
        "\t\t\tnearest_idx_npy[i] = idx\n",
        "\t\t\tidx = 0\n",
        "\n",
        "\t\treturn nearest_idx_npy[:,1:k]\n",
        "\n",
        "\n",
        "\n",
        "\n",
        "\tdef find_k(self,X,k):\n",
        "\n",
        "\t\t\"\"\"\n",
        "   \t\t\tFinds k nearest neighbors using euclidian distance\n",
        "\n",
        "   \t\t\tReturns: The k nearest neighbor   \n",
        "    \t\"\"\"\n",
        "\n",
        "\n",
        "\n",
        "\n",
        "\t\teuclid_distance = np.empty([X.shape[0],X.shape[0]],dtype = np.float32)\n",
        "\t\t\n",
        "\t\tfor i in range(len(X)):\n",
        "\t\t\tdist_arr = []\n",
        "\t\t\tfor j in range(len(X)):\n",
        "\t\t\t\tdist_arr.append(math.sqrt(sum((X[j]-X[i])**2)))\n",
        "\t\t\tdist_arr = np.asarray(dist_arr,dtype = np.float32)\n",
        "\t\t\teuclid_distance[i] = dist_arr\n",
        "\n",
        "\t\treturn self.k_neighbors(euclid_distance,k)\n",
        "\n",
        "\n",
        "\n",
        "\n",
        "\n",
        "\n",
        "\tdef generate_synthetic_points(self,min_samples,N,k):\n",
        "\n",
        "\t\t\"\"\"\n",
        "    \t\tReturns (N/100) * n_minority_samples synthetic minority samples.\n",
        "    \t\tParameters\n",
        "    \t\t----------\n",
        "    \t\tmin_samples : Numpy_array-like, shape = [n_minority_samples, n_features]\n",
        "    \t\t    Holds the minority samples\n",
        "    \t\tN : percetange of new synthetic samples: \n",
        "    \t\t    n_synthetic_samples = N/100 * n_minority_samples. Can be < 100.\n",
        "    \t\tk : int. Number of nearest neighbours. \n",
        "    \t\tReturns\n",
        "    \t\t-------\n",
        "    \t\tS : Synthetic samples. array, \n",
        "    \t\t    shape = [(N/100) * n_minority_samples, n_features]. \n",
        "    \t\"\"\"\n",
        "\t\t\n",
        "\n",
        "\t\tif N < 100:\n",
        "\t\t\traise ValueError(\"Value of N cannot be less than 100%\")\n",
        "\n",
        "\t\tif self.distance_measure not in ('euclidian','ball_tree','Mahal'):\n",
        "\t\t\traise ValueError(\"Invalid Distance Measure.You can use only Euclidian or ball_tree\")\n",
        "\n",
        "\n",
        "\t\tif k>min_samples.shape[0]:\n",
        "\t\t\traise ValueError(\"Size of k cannot exceed the number of samples.\")\n",
        "\n",
        "\t\t\n",
        "\t\tN = int(N/100)\n",
        "\t\tT = min_samples.shape[0]\n",
        "\t\t\n",
        "\t\t\n",
        "\n",
        "\t\tif self.distance_measure == 'euclidian':\n",
        "\t\t\t\tindices = self.find_k(min_samples,k)\n",
        "\t\t\t\n",
        "\t\telif self.distance_measure=='ball_tree':\n",
        "\t\t\tnb = NearestNeighbors(n_neighbors = k,algorithm= 'ball_tree').fit(min_samples)\n",
        "\t\t\tdistance,indices = nb.kneighbors(min_samples)\n",
        "\t\t\tindices = indices[:,1:]\t\n",
        "\t\telif self.distance_measure=='Mahal':\n",
        "\t\t\tnb = NearestNeighbors(n_neighbors = k,metric = mmc.get_metric()).fit(min_samples)\n",
        "\t\t\tdistance,indices = nb.kneighbors(min_samples)\n",
        "\t\t\tindices = indices[:,1:]\t\n",
        "\n",
        "\n",
        "\t\tfor i in range(indices.shape[0]):\n",
        "\t\t\tself.Populate(N,i,indices[i],min_samples,k)\n",
        "\t\t\n",
        "\t\treturn np.asarray(self.synthetic_arr)\n",
        "\n",
        "\t\t\n",
        "\n",
        "\n",
        "\tdef plot_synthetic_points(self,min_samples,N,k):\n",
        "\t\t\"\"\"\n",
        "\n",
        "\t\t\tPlot the over sampled synthtic samples in a scatterplot\n",
        "\n",
        "\n",
        "\n",
        "\t\t\"\"\"\n",
        "\n",
        "\n",
        "\t\tif N < 100:\n",
        "\t\t\traise ValueError(\"Value of N cannot be less than 100%\")\n",
        "\n",
        "\t\tif self.distance_measure not in ('euclidian','ball_tree','Mahal'):\n",
        "\t\t\traise ValueError(\"Invalid Distance Measure.You can use only Euclidian or ball_tree\")\n",
        "\n",
        "\n",
        "\t\tif k>min_samples.shape[0]:\n",
        "\t\t\traise ValueError(\"Size of k cannot exceed the number of samples.\")\n",
        "\n",
        "\t\t\n",
        "\t\tsynthetic_points = self.generate_synthetic_points(min_samples,N,k)\n",
        "\t\t\n",
        "\t\tpca = PCA(n_components=2)\n",
        "\t\tpca.fit(synthetic_points)\n",
        "\t\tpca_synthetic_points = pca.transform(synthetic_points)\n",
        "\t\t\n",
        "\t\tplt.scatter(pca_synthetic_points[:,0],pca_synthetic_points[:,1])\n",
        "\t\tplt.show()\n",
        "\t\t"
      ],
      "metadata": {
        "id": "quwlQ-4LGE9n"
      },
      "execution_count": 101,
      "outputs": []
    },
    {
      "cell_type": "code",
      "source": [
        "from sklearn.model_selection import train_test_split\n",
        "trainData, testData, trainLabel, testLabel = train_test_split(Data, labels, test_size=0.20, random_state=42)"
      ],
      "metadata": {
        "id": "pJJ7mXUx4_pg"
      },
      "execution_count": 102,
      "outputs": []
    },
    {
      "cell_type": "code",
      "source": [
        "trainLabel = trainLabel.values.reshape(-1,1)"
      ],
      "metadata": {
        "id": "qS37VpWO6LbE"
      },
      "execution_count": 103,
      "outputs": []
    },
    {
      "cell_type": "code",
      "source": [
        "trainLabel.shape"
      ],
      "metadata": {
        "id": "0vD_2QSg6T9A",
        "outputId": "a75eb186-7e59-4ad7-9abc-bd4b174c7904",
        "colab": {
          "base_uri": "https://localhost:8080/"
        }
      },
      "execution_count": 104,
      "outputs": [
        {
          "output_type": "execute_result",
          "data": {
            "text/plain": [
              "(3955, 1)"
            ]
          },
          "metadata": {},
          "execution_count": 104
        }
      ]
    },
    {
      "cell_type": "code",
      "source": [
        "\n",
        "train = np.hstack((trainData,trainLabel))"
      ],
      "metadata": {
        "id": "qwqqZUh35VXt"
      },
      "execution_count": 105,
      "outputs": []
    },
    {
      "cell_type": "code",
      "source": [
        "mask = train[:,44] == 'Downstairs'\n",
        "Downstairs = train[mask]"
      ],
      "metadata": {
        "id": "xB8c1QFm6ybR"
      },
      "execution_count": 106,
      "outputs": []
    },
    {
      "cell_type": "code",
      "source": [
        "Downstairs"
      ],
      "metadata": {
        "id": "o9_gpr_v6zp0",
        "outputId": "55e3bd8d-c098-436f-d8bc-830af69440f6",
        "colab": {
          "base_uri": "https://localhost:8080/"
        }
      },
      "execution_count": 107,
      "outputs": [
        {
          "output_type": "execute_result",
          "data": {
            "text/plain": [
              "array([[21, 0.12, 0.1, ..., 2.94, 10.44, 'Downstairs'],\n",
              "       [18, 0.11, 0.13, ..., 5.62, 12.18, 'Downstairs'],\n",
              "       [28, 0.11, 0.1, ..., 2.4, 10.19, 'Downstairs'],\n",
              "       ...,\n",
              "       [29, 0.06, 0.04, ..., 3.36, 4.05, 'Downstairs'],\n",
              "       [15, 0.1, 0.1, ..., 4.84, 10.14, 'Downstairs'],\n",
              "       [31, 0.03, 0.07, ..., 7.9, 9.88, 'Downstairs']], dtype=object)"
            ]
          },
          "metadata": {},
          "execution_count": 107
        }
      ]
    },
    {
      "cell_type": "code",
      "source": [
        "mask = train[:,44] == 'Downstairs'\n",
        "Downstairs = train[mask]\n",
        "Downstairs = Downstairs[:,:44]\n",
        "N = (1625-507) * 100/507\n",
        "k = 12\n",
        "Downstairs = np.float_(Downstairs)\n",
        "smote_test1 = Smote('Mahal',mmc)\n",
        "new_dsta = smote_test1.generate_synthetic_points(Downstairs[:,:44],N,k)\n",
        "\n",
        "myclass = np.array([\"Downstairs\" for x in range(len(new_dsta))])\n",
        "#myclass = [\"Standing\" for x in range(1500)]\n",
        "myclass = myclass.reshape(len(new_dsta),1)\n",
        "new_dsta = np.hstack((new_dsta[:,:44],myclass))"
      ],
      "metadata": {
        "id": "mIPGLY55Ewql"
      },
      "execution_count": 108,
      "outputs": []
    },
    {
      "cell_type": "code",
      "source": [
        "mask = train[:,44] == 'Upstairs'\n",
        "Upstairs = train[mask]\n",
        "Upstairs = Upstairs[:,:44]\n",
        "N = (1625-587) * 100/587\n",
        "k = 12\n",
        "Upstairs = np.float_(Upstairs)\n",
        "smote_test1 = Smote('Mahal',mmc)\n",
        "new_Upsta= smote_test1.generate_synthetic_points(Upstairs[:,:44],N,k)\n",
        "myclass = np.array([\"Upstairs\" for x in range(len(new_Upsta))])\n",
        "#myclass = [\"Standing\" for x in range(1500)]\n",
        "myclass = myclass.reshape(len(new_Upsta),1)\n",
        "new_Upsta = np.hstack((new_Upsta[:,:44],myclass))"
      ],
      "metadata": {
        "id": "T2BNHR16G7kp"
      },
      "execution_count": 109,
      "outputs": []
    },
    {
      "cell_type": "code",
      "source": [
        "mask = train[:,44] == 'Sitting'\n",
        "Sitting = train[mask]\n",
        "Sitting = Sitting[:,:44]\n",
        "N = (1625-134) * 100/134\n",
        "k = 12\n",
        "Sitting = np.float_(Sitting)\n",
        "smote_test1 = Smote('Mahal',mmc)\n",
        "new_Sit= smote_test1.generate_synthetic_points(Sitting[:,:44],N,k)\n",
        "myclass = np.array([\"Sitting\" for x in range(len(new_Sit))])\n",
        "#myclass = [\"Standing\" for x in range(1500)]\n",
        "myclass = myclass.reshape(len(new_Sit),1)\n",
        "new_Sit = np.hstack((new_Sit[:,:44],myclass))"
      ],
      "metadata": {
        "id": "kkOScJ8THVJm"
      },
      "execution_count": 110,
      "outputs": []
    },
    {
      "cell_type": "code",
      "source": [
        "mask1 = train[:,44] == 'Standing'\n",
        "Standing = train[mask1]\n",
        "Standing = Standing[:,:44]\n",
        "N = (1625-75) * 100/75\n",
        "k = 12\n",
        "Standing = np.float_(Standing)\n",
        "smote_test = Smote('Mahal',mmc)\n",
        "new_sta = smote_test.generate_synthetic_points(Standing[:,:44],N,k)\n",
        "myclass = np.array([\"Standing\" for x in range(len(new_sta))])\n",
        "#myclass = [\"Standing\" for x in range(1500)]\n",
        "myclass = myclass.reshape(len(new_sta),1)\n",
        "my_sta = np.hstack((new_sta[:,:44],myclass))"
      ],
      "metadata": {
        "id": "G7IOmkf6Hp51"
      },
      "execution_count": 111,
      "outputs": []
    },
    {
      "cell_type": "code",
      "source": [
        "new_train_data = np.concatenate((Data, my_sta[:,:44]), axis=0)\n",
        "new_train_data = np.concatenate((new_train_data, new_dsta[:,:44]), axis=0)\n",
        "new_train_data = np.concatenate((new_train_data, new_Upsta[:,:44]), axis=0)\n",
        "new_train_data = np.concatenate((new_train_data, new_Sit[:,:44]), axis=0)\n",
        "\n",
        "new_train_labels = np.concatenate((labels, my_sta[:,-1]), axis=0)\n",
        "new_train_labels = np.concatenate((new_train_labels, new_dsta[:,-1]), axis=0)\n",
        "new_train_labels = np.concatenate((new_train_labels, new_Upsta[:,-1]), axis=0)\n",
        "new_train_labels = np.concatenate((new_train_labels, new_Sit[:,-1]), axis=0)\n",
        "\n",
        "new_train_labels = new_train_labels.reshape(len(new_train_labels),1)\n"
      ],
      "metadata": {
        "id": "Qg7NF2fdHNhp"
      },
      "execution_count": 112,
      "outputs": []
    },
    {
      "cell_type": "code",
      "source": [
        "full= np.hstack((new_train_data,new_train_labels))\n",
        "unique,counts = np.unique(new_train_labels,return_counts = True)\n",
        "dict(zip(unique,counts))"
      ],
      "metadata": {
        "colab": {
          "base_uri": "https://localhost:8080/"
        },
        "id": "VQq0ZqHkITUB",
        "outputId": "8fa10273-5e1a-4991-c2e4-f5d2ee2e95ee"
      },
      "execution_count": 113,
      "outputs": [
        {
          "output_type": "execute_result",
          "data": {
            "text/plain": [
              "{'Downstairs': 1309,\n",
              " 'Jogging': 1612,\n",
              " 'Sitting': 1377,\n",
              " 'Standing': 1215,\n",
              " 'Upstairs': 1070,\n",
              " 'Walking': 2029}"
            ]
          },
          "metadata": {},
          "execution_count": 113
        }
      ]
    },
    {
      "cell_type": "code",
      "source": [
        "#new_train_data = Data\n",
        "#new_train_labels = labels\n",
        "full= np.hstack((new_train_data,new_train_labels))\n",
        "unique,counts = np.unique(new_train_labels,return_counts = True)\n",
        "dict(zip(unique,counts))"
      ],
      "metadata": {
        "colab": {
          "base_uri": "https://localhost:8080/"
        },
        "id": "OKf6p9qYIeBw",
        "outputId": "08f696ee-60db-4895-ace5-798131dcf3de"
      },
      "execution_count": 114,
      "outputs": [
        {
          "output_type": "execute_result",
          "data": {
            "text/plain": [
              "{'Downstairs': 1309,\n",
              " 'Jogging': 1612,\n",
              " 'Sitting': 1377,\n",
              " 'Standing': 1215,\n",
              " 'Upstairs': 1070,\n",
              " 'Walking': 2029}"
            ]
          },
          "metadata": {},
          "execution_count": 114
        }
      ]
    },
    {
      "cell_type": "code",
      "source": [
        "unique,counts = np.unique(testLabel,return_counts = True)\n",
        "dict(zip(unique,counts))\n",
        "#testData, trainLabel, testLabel"
      ],
      "metadata": {
        "colab": {
          "base_uri": "https://localhost:8080/"
        },
        "id": "jzcICSqKK6yR",
        "outputId": "d13d736f-9573-4d26-cc29-efad6c63f03c"
      },
      "execution_count": 115,
      "outputs": [
        {
          "output_type": "execute_result",
          "data": {
            "text/plain": [
              "{'Downstairs': 106,\n",
              " 'Jogging': 336,\n",
              " 'Sitting': 21,\n",
              " 'Standing': 18,\n",
              " 'Upstairs': 104,\n",
              " 'Walking': 404}"
            ]
          },
          "metadata": {},
          "execution_count": 115
        }
      ]
    },
    {
      "cell_type": "code",
      "source": [
        "Data_res = new_train_data\n",
        "labels_res = new_train_labels"
      ],
      "metadata": {
        "id": "_7rbBfx1LA-f"
      },
      "execution_count": 116,
      "outputs": []
    },
    {
      "cell_type": "code",
      "source": [
        "yy = labels_res.reshape((len(labels_res),1))\n",
        "print(yy.shape)"
      ],
      "metadata": {
        "colab": {
          "base_uri": "https://localhost:8080/"
        },
        "id": "sO_syiwILOxF",
        "outputId": "1d4d9a26-07ab-42f2-fa6b-9f07b1ca3a0b"
      },
      "execution_count": 117,
      "outputs": [
        {
          "output_type": "stream",
          "name": "stdout",
          "text": [
            "(8612, 1)\n"
          ]
        }
      ]
    },
    {
      "cell_type": "code",
      "source": [
        "y_test = testLabel.values.reshape(-1,1)\n",
        "#y_test = testLabel.reshape((len(testLabel) ,1))\n",
        "print(y_test.shape)"
      ],
      "metadata": {
        "colab": {
          "base_uri": "https://localhost:8080/"
        },
        "id": "fnRi-6pxLP5e",
        "outputId": "fdf103c7-95f0-48cf-9b43-92ff26174753"
      },
      "execution_count": 118,
      "outputs": [
        {
          "output_type": "stream",
          "name": "stdout",
          "text": [
            "(989, 1)\n"
          ]
        }
      ]
    },
    {
      "cell_type": "code",
      "source": [
        "train_data_res = np.hstack((Data_res,yy))\n",
        "test_data = np.hstack(( testData, y_test))\n",
        "#shuffling data\n",
        "test =shuffle(test_data) # ruin the sequence data\n",
        "train=shuffle(train_data_res)\n",
        "trainData = train[:,:-1]\n",
        "trainLabel = train[:,-1]\n",
        "#Separate Input and Output Labels\n",
        "testData = test_data[:,:-1]\n",
        "testLabel = test_data[:,-1]"
      ],
      "metadata": {
        "id": "mZPe4Pe_LTjp"
      },
      "execution_count": 119,
      "outputs": []
    },
    {
      "cell_type": "code",
      "source": [
        "#encoding Labels\n",
        "\n",
        "encoder = LabelEncoder()\n",
        "\n",
        "#encoding test labels\n",
        "\n",
        "encoder.fit(testLabel)\n",
        "testLabelE = encoder.transform(testLabel)\n",
        "\n",
        "#encoding train labels\n",
        "\n",
        "encoder.fit(trainLabel)\n",
        "trainLabelE = encoder.transform(trainLabel)"
      ],
      "metadata": {
        "id": "kw6lFAFZLXq1"
      },
      "execution_count": 120,
      "outputs": []
    },
    {
      "cell_type": "code",
      "source": [
        "scaler = MinMaxScaler()\n",
        "scaler.fit(trainData)\n",
        "trainData = scaler.transform(trainData)\n",
        "testData = scaler.transform(testData)"
      ],
      "metadata": {
        "id": "LcLm8XNvLbZ3"
      },
      "execution_count": 121,
      "outputs": []
    },
    {
      "cell_type": "code",
      "source": [
        "knn = KNeighborsClassifier()\n",
        "from sklearn.model_selection import GridSearchCV\n",
        "k_range = list(range(1, 31))\n",
        "param_grid = dict(n_neighbors=k_range)\n",
        "  \n",
        "# defining parameter range\n",
        "grid = GridSearchCV(knn, param_grid, cv=10, scoring='accuracy', return_train_score=False,verbose=1)\n",
        "  \n",
        "# fitting the model for grid search\n",
        "grid_search=grid.fit(trainData,trainLabelE)\n",
        "print(grid_search.best_params_)\n",
        "accuracy = grid_search.best_score_ *100\n",
        "print(\"Accuracy for our training dataset with tuning is : {:.2f}%\".format(accuracy) )"
      ],
      "metadata": {
        "colab": {
          "base_uri": "https://localhost:8080/"
        },
        "id": "LEuGgCdz--ix",
        "outputId": "95f11284-5635-4186-c150-8ce6f692c72d"
      },
      "execution_count": 122,
      "outputs": [
        {
          "output_type": "stream",
          "name": "stdout",
          "text": [
            "Fitting 10 folds for each of 30 candidates, totalling 300 fits\n",
            "{'n_neighbors': 1}\n",
            "Accuracy for our training dataset with tuning is : 89.83%\n"
          ]
        }
      ]
    },
    {
      "cell_type": "code",
      "source": [
        "clf2= KNeighborsClassifier(n_neighbors=4)\n",
        "knnModel2 = clf2.fit(trainData,trainLabelE)\n",
        "y_te_pred2 = clf2.predict(testData)\n",
        "\n",
        "acc2 = accuracy_score(testLabelE,y_te_pred2)\n",
        "print(\"K-Nearest Neighbors Accuracy: %.5f\" %(acc2)) #.907\n",
        "cfs=confusion_matrix(testLabelE,y_te_pred2)\n",
        "pyplot.figure()\n",
        "class_names = encoder.classes_\n",
        "plot_confusion_matrix(cfs,classes=class_names,title=\"Original: Confusuion Matrix\")\n",
        "print(classification_report(testLabelE,y_te_pred2))\n",
        "print(classification_report_imbalanced(testLabelE,y_te_pred2,     target_names=class_names))"
      ],
      "metadata": {
        "colab": {
          "base_uri": "https://localhost:8080/",
          "height": 867
        },
        "id": "NQVk-F6G-xjL",
        "outputId": "29022943-3b45-4910-cc29-0fafb9202648"
      },
      "execution_count": 123,
      "outputs": [
        {
          "output_type": "stream",
          "name": "stdout",
          "text": [
            "K-Nearest Neighbors Accuracy: 0.89383\n",
            "Confusion matrix, without normalization\n",
            "[[ 87   1   0   0  13   5]\n",
            " [  3 331   0   0   1   1]\n",
            " [  0   0  21   0   0   0]\n",
            " [  2   0   0  16   0   0]\n",
            " [ 34   0   0   0  65   5]\n",
            " [ 32   0   0   0   8 364]]\n"
          ]
        },
        {
          "output_type": "display_data",
          "data": {
            "text/plain": [
              "<Figure size 432x288 with 2 Axes>"
            ],
            "image/png": "[encoded data removed]"
          },
          "metadata": {
            "needs_background": "light"
          }
        },
        {
          "output_type": "stream",
          "name": "stdout",
          "text": [
            "              precision    recall  f1-score   support\n",
            "\n",
            "           0       0.55      0.82      0.66       106\n",
            "           1       1.00      0.99      0.99       336\n",
            "           2       1.00      1.00      1.00        21\n",
            "           3       1.00      0.89      0.94        18\n",
            "           4       0.75      0.62      0.68       104\n",
            "           5       0.97      0.90      0.93       404\n",
            "\n",
            "    accuracy                           0.89       989\n",
            "   macro avg       0.88      0.87      0.87       989\n",
            "weighted avg       0.91      0.89      0.90       989\n",
            "\n",
            "                   pre       rec       spe        f1       geo       iba       sup\n",
            "\n",
            " Downstairs       0.55      0.82      0.92      0.66      0.87      0.75       106\n",
            "    Jogging       1.00      0.99      1.00      0.99      0.99      0.98       336\n",
            "    Sitting       1.00      1.00      1.00      1.00      1.00      1.00        21\n",
            "   Standing       1.00      0.89      1.00      0.94      0.94      0.88        18\n",
            "   Upstairs       0.75      0.62      0.98      0.68      0.78      0.59       104\n",
            "    Walking       0.97      0.90      0.98      0.93      0.94      0.88       404\n",
            "\n",
            "avg / total       0.91      0.89      0.98      0.90      0.93      0.87       989\n",
            "\n"
          ]
        }
      ]
    },
    {
      "cell_type": "code",
      "source": [
        "clf2= KNeighborsClassifier(n_neighbors=4, metric = mmc.get_metric())\n",
        "knnModel2 = clf2.fit(trainData,trainLabelE)\n",
        "y_te_pred2 = clf2.predict(testData)\n",
        "\n",
        "acc2 = accuracy_score(testLabelE,y_te_pred2)\n",
        "print(\"K-Nearest Neighbors Accuracy: %.5f\" %(acc2)) #.907\n",
        "cfs=confusion_matrix(testLabelE,y_te_pred2)\n",
        "pyplot.figure()\n",
        "class_names = encoder.classes_\n",
        "plot_confusion_matrix(cfs,classes=class_names,title=\"Original: Confusuion Matrix\")\n",
        "print(classification_report(testLabelE,y_te_pred2))\n",
        "print(classification_report_imbalanced(testLabelE,y_te_pred2,     target_names=class_names))"
      ],
      "metadata": {
        "colab": {
          "base_uri": "https://localhost:8080/",
          "height": 867
        },
        "id": "TAH0uVhL_pda",
        "outputId": "2e389c22-5d7e-4272-fa20-8de64980c5df"
      },
      "execution_count": 124,
      "outputs": [
        {
          "output_type": "stream",
          "name": "stdout",
          "text": [
            "K-Nearest Neighbors Accuracy: 0.87968\n",
            "Confusion matrix, without normalization\n",
            "[[ 80   0   0   0  15  11]\n",
            " [  2 333   0   0   0   1]\n",
            " [  0   0  21   0   0   0]\n",
            " [  2   0   0  15   1   0]\n",
            " [ 31   1   0   0  66   6]\n",
            " [ 40   0   0   0   9 355]]\n"
          ]
        },
        {
          "output_type": "display_data",
          "data": {
            "text/plain": [
              "<Figure size 432x288 with 2 Axes>"
            ],
            "image/png": "[encoded data removed]"
          },
          "metadata": {
            "needs_background": "light"
          }
        },
        {
          "output_type": "stream",
          "name": "stdout",
          "text": [
            "              precision    recall  f1-score   support\n",
            "\n",
            "           0       0.52      0.75      0.61       106\n",
            "           1       1.00      0.99      0.99       336\n",
            "           2       1.00      1.00      1.00        21\n",
            "           3       1.00      0.83      0.91        18\n",
            "           4       0.73      0.63      0.68       104\n",
            "           5       0.95      0.88      0.91       404\n",
            "\n",
            "    accuracy                           0.88       989\n",
            "   macro avg       0.87      0.85      0.85       989\n",
            "weighted avg       0.90      0.88      0.89       989\n",
            "\n",
            "                   pre       rec       spe        f1       geo       iba       sup\n",
            "\n",
            " Downstairs       0.52      0.75      0.92      0.61      0.83      0.68       106\n",
            "    Jogging       1.00      0.99      1.00      0.99      0.99      0.99       336\n",
            "    Sitting       1.00      1.00      1.00      1.00      1.00      1.00        21\n",
            "   Standing       1.00      0.83      1.00      0.91      0.91      0.82        18\n",
            "   Upstairs       0.73      0.63      0.97      0.68      0.79      0.60       104\n",
            "    Walking       0.95      0.88      0.97      0.91      0.92      0.84       404\n",
            "\n",
            "avg / total       0.90      0.88      0.97      0.89      0.92      0.85       989\n",
            "\n"
          ]
        }
      ]
    },
    {
      "cell_type": "code",
      "source": [
        "clf2= KNeighborsClassifier(n_neighbors=1, metric = mmc.get_metric())\n",
        "knnModel2 = clf2.fit(trainData,trainLabelE)\n",
        "y_te_pred2 = clf2.predict(testData)\n",
        "\n",
        "acc2 = accuracy_score(testLabelE,y_te_pred2)\n",
        "print(\"K-Nearest Neighbors Accuracy: %.5f\" %(acc2)) #.907\n",
        "cfs=confusion_matrix(testLabelE,y_te_pred2)\n",
        "pyplot.figure()\n",
        "class_names = encoder.classes_\n",
        "plot_confusion_matrix(cfs,classes=class_names,title=\"Original: Confusuion Matrix\")\n",
        "print(classification_report(testLabelE,y_te_pred2))\n",
        "print(classification_report_imbalanced(testLabelE,y_te_pred2,     target_names=class_names))"
      ],
      "metadata": {
        "colab": {
          "base_uri": "https://localhost:8080/",
          "height": 867
        },
        "id": "65ITlhkJvo91",
        "outputId": "240f94f2-dcc6-4d0d-d6d0-358d79451c02"
      },
      "execution_count": 125,
      "outputs": [
        {
          "output_type": "stream",
          "name": "stdout",
          "text": [
            "K-Nearest Neighbors Accuracy: 1.00000\n",
            "Confusion matrix, without normalization\n",
            "[[106   0   0   0   0   0]\n",
            " [  0 336   0   0   0   0]\n",
            " [  0   0  21   0   0   0]\n",
            " [  0   0   0  18   0   0]\n",
            " [  0   0   0   0 104   0]\n",
            " [  0   0   0   0   0 404]]\n"
          ]
        },
        {
          "output_type": "display_data",
          "data": {
            "text/plain": [
              "<Figure size 432x288 with 2 Axes>"
            ],
            "image/png": "[encoded data removed]"
          },
          "metadata": {
            "needs_background": "light"
          }
        },
        {
          "output_type": "stream",
          "name": "stdout",
          "text": [
            "              precision    recall  f1-score   support\n",
            "\n",
            "           0       1.00      1.00      1.00       106\n",
            "           1       1.00      1.00      1.00       336\n",
            "           2       1.00      1.00      1.00        21\n",
            "           3       1.00      1.00      1.00        18\n",
            "           4       1.00      1.00      1.00       104\n",
            "           5       1.00      1.00      1.00       404\n",
            "\n",
            "    accuracy                           1.00       989\n",
            "   macro avg       1.00      1.00      1.00       989\n",
            "weighted avg       1.00      1.00      1.00       989\n",
            "\n",
            "                   pre       rec       spe        f1       geo       iba       sup\n",
            "\n",
            " Downstairs       1.00      1.00      1.00      1.00      1.00      1.00       106\n",
            "    Jogging       1.00      1.00      1.00      1.00      1.00      1.00       336\n",
            "    Sitting       1.00      1.00      1.00      1.00      1.00      1.00        21\n",
            "   Standing       1.00      1.00      1.00      1.00      1.00      1.00        18\n",
            "   Upstairs       1.00      1.00      1.00      1.00      1.00      1.00       104\n",
            "    Walking       1.00      1.00      1.00      1.00      1.00      1.00       404\n",
            "\n",
            "avg / total       1.00      1.00      1.00      1.00      1.00      1.00       989\n",
            "\n"
          ]
        }
      ]
    },
    {
      "cell_type": "code",
      "source": [
        "from sklearn import svm\n",
        "\n",
        "model = svm.SVC(kernel='rbf') \n",
        "model.fit(trainData,trainLabelE)\n",
        "y_pred= model.predict(testData)\n",
        "\n",
        "acc2 = accuracy_score(testLabelE,y_pred)\n",
        "print(\"K-Nearest Neighbors Accuracy: %.5f\" %(acc2)) #.907\n",
        "cfs=confusion_matrix(testLabelE,y_pred)\n",
        "pyplot.figure()\n",
        "class_names = encoder.classes_\n",
        "plot_confusion_matrix(cfs,classes=class_names,title=\"Original: Confusuion Matrix\")\n",
        "print(classification_report(testLabelE,y_pred))\n",
        "print(classification_report_imbalanced(testLabelE,y_pred,     target_names=class_names))"
      ],
      "metadata": {
        "colab": {
          "base_uri": "https://localhost:8080/",
          "height": 867
        },
        "id": "eFUmdMPd1EKW",
        "outputId": "61fd7e3d-73d1-463a-d72f-1d6012aa9f61"
      },
      "execution_count": 126,
      "outputs": [
        {
          "output_type": "stream",
          "name": "stdout",
          "text": [
            "K-Nearest Neighbors Accuracy: 0.82305\n",
            "Confusion matrix, without normalization\n",
            "[[ 38   4   0   1  24  39]\n",
            " [  2 334   0   0   0   0]\n",
            " [  0   0  21   0   0   0]\n",
            " [  0   0   0  18   0   0]\n",
            " [ 23   8   0   0  42  31]\n",
            " [ 33   0   0   0  10 361]]\n"
          ]
        },
        {
          "output_type": "display_data",
          "data": {
            "text/plain": [
              "<Figure size 432x288 with 2 Axes>"
            ],
            "image/png": "[encoded data removed]"
          },
          "metadata": {
            "needs_background": "light"
          }
        },
        {
          "output_type": "stream",
          "name": "stdout",
          "text": [
            "              precision    recall  f1-score   support\n",
            "\n",
            "           0       0.40      0.36      0.38       106\n",
            "           1       0.97      0.99      0.98       336\n",
            "           2       1.00      1.00      1.00        21\n",
            "           3       0.95      1.00      0.97        18\n",
            "           4       0.55      0.40      0.47       104\n",
            "           5       0.84      0.89      0.86       404\n",
            "\n",
            "    accuracy                           0.82       989\n",
            "   macro avg       0.78      0.77      0.78       989\n",
            "weighted avg       0.81      0.82      0.81       989\n",
            "\n",
            "                   pre       rec       spe        f1       geo       iba       sup\n",
            "\n",
            " Downstairs       0.40      0.36      0.93      0.38      0.58      0.32       106\n",
            "    Jogging       0.97      0.99      0.98      0.98      0.99      0.98       336\n",
            "    Sitting       1.00      1.00      1.00      1.00      1.00      1.00        21\n",
            "   Standing       0.95      1.00      1.00      0.97      1.00      1.00        18\n",
            "   Upstairs       0.55      0.40      0.96      0.47      0.62      0.37       104\n",
            "    Walking       0.84      0.89      0.88      0.86      0.89      0.79       404\n",
            "\n",
            "avg / total       0.81      0.82      0.93      0.81      0.86      0.77       989\n",
            "\n"
          ]
        }
      ]
    },
    {
      "cell_type": "code",
      "source": [
        "from xgboost import XGBClassifier\n",
        "model = XGBClassifier() \n",
        "model.fit(trainData,trainLabelE)\n",
        "y_pred= model.predict(testData)\n",
        "\n",
        "acc2 = accuracy_score(testLabelE,y_pred)\n",
        "print(\"K-Nearest Neighbors Accuracy: %.5f\" %(acc2)) #.907\n",
        "cfs=confusion_matrix(testLabelE,y_pred)\n",
        "pyplot.figure()\n",
        "class_names = encoder.classes_\n",
        "plot_confusion_matrix(cfs,classes=class_names,title=\"Original: Confusuion Matrix\")\n",
        "print(classification_report(testLabelE,y_pred))\n",
        "print(classification_report_imbalanced(testLabelE,y_pred,     target_names=class_names))"
      ],
      "metadata": {
        "colab": {
          "base_uri": "https://localhost:8080/",
          "height": 867
        },
        "id": "SeGaOvUh9OOU",
        "outputId": "3bca8ea7-8f5a-490a-b8f6-de715cad8d2f"
      },
      "execution_count": 127,
      "outputs": [
        {
          "output_type": "stream",
          "name": "stdout",
          "text": [
            "K-Nearest Neighbors Accuracy: 0.91102\n",
            "Confusion matrix, without normalization\n",
            "[[ 63   0   0   0  11  32]\n",
            " [  0 335   0   0   0   1]\n",
            " [  0   0  21   0   0   0]\n",
            " [  0   0   0  18   0   0]\n",
            " [ 14   3   0   0  71  16]\n",
            " [  7   0   0   0   4 393]]\n"
          ]
        },
        {
          "output_type": "display_data",
          "data": {
            "text/plain": [
              "<Figure size 432x288 with 2 Axes>"
            ],
            "image/png": "[encoded data removed]"
          },
          "metadata": {
            "needs_background": "light"
          }
        },
        {
          "output_type": "stream",
          "name": "stdout",
          "text": [
            "              precision    recall  f1-score   support\n",
            "\n",
            "           0       0.75      0.59      0.66       106\n",
            "           1       0.99      1.00      0.99       336\n",
            "           2       1.00      1.00      1.00        21\n",
            "           3       1.00      1.00      1.00        18\n",
            "           4       0.83      0.68      0.75       104\n",
            "           5       0.89      0.97      0.93       404\n",
            "\n",
            "    accuracy                           0.91       989\n",
            "   macro avg       0.91      0.87      0.89       989\n",
            "weighted avg       0.91      0.91      0.91       989\n",
            "\n",
            "                   pre       rec       spe        f1       geo       iba       sup\n",
            "\n",
            " Downstairs       0.75      0.59      0.98      0.66      0.76      0.56       106\n",
            "    Jogging       0.99      1.00      1.00      0.99      1.00      0.99       336\n",
            "    Sitting       1.00      1.00      1.00      1.00      1.00      1.00        21\n",
            "   Standing       1.00      1.00      1.00      1.00      1.00      1.00        18\n",
            "   Upstairs       0.83      0.68      0.98      0.75      0.82      0.65       104\n",
            "    Walking       0.89      0.97      0.92      0.93      0.94      0.90       404\n",
            "\n",
            "avg / total       0.91      0.91      0.96      0.91      0.93      0.87       989\n",
            "\n"
          ]
        }
      ]
    }
  ],
  "metadata": {
    "colab": {
      "provenance": [],
      "mount_file_id": "1TVbiGBOWdgKrSduJy3BJAyjdMky6zTRu",
      "authorship_tag": "ABX9TyObdNz0qMeUCm6veL89gIpZ",
      "include_colab_link": true
    },
    "kernelspec": {
      "display_name": "Python 3",
      "name": "python3"
    },
    "language_info": {
      "name": "python"
    }
  },
  "nbformat": 4,
  "nbformat_minor": 0
}