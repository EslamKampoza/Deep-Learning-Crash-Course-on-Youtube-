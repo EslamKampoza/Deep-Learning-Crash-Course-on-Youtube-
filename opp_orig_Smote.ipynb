{
  "cells": [
    {
      "cell_type": "markdown",
      "metadata": {
        "id": "view-in-github",
        "colab_type": "text"
      },
      "source": [
        "<a href=\"https://colab.research.google.com/github/EslamKampoza/Deep-Learning-Crash-Course-on-Youtube-/blob/main/opp_orig_Smote.ipynb\" target=\"_parent\"><img src=\"https://colab.research.google.com/assets/colab-badge.svg\" alt=\"Open In Colab\"/></a>"
      ]
    },
    {
      "cell_type": "code",
      "execution_count": 1,
      "metadata": {
        "id": "xtuNJ9meatPj"
      },
      "outputs": [],
      "source": [
        "import pandas as pd\n",
        "import numpy as np\n",
        "import matplotlib.pyplot as plt\n",
        "from scipy import stats\n",
        "import tensorflow as tf\n",
        "from sklearn import metrics\n",
        "import h5py\n",
        "import matplotlib.pyplot as plt\n",
        "from tensorflow.keras import regularizers\n",
        "from tensorflow.keras.layers import Input, Conv2D, Dense, Flatten, Dropout, SimpleRNN, GRU, LSTM, GlobalMaxPooling1D,GlobalMaxPooling2D,MaxPooling2D,BatchNormalization\n",
        "from tensorflow.keras.models import Model\n",
        "from tensorflow.keras.optimizers import Adam\n",
        "from sklearn.preprocessing import MinMaxScaler, StandardScaler\n",
        "from sklearn.model_selection import train_test_split\n",
        "from sklearn.metrics import confusion_matrix\n",
        "import itertools"
      ]
    },
    {
      "cell_type": "code",
      "source": [
        "from google.colab import drive\n",
        "drive.mount('/content/drive')"
      ],
      "metadata": {
        "colab": {
          "base_uri": "https://localhost:8080/"
        },
        "id": "eGfS04SEaxYD",
        "outputId": "e0fa91de-d0f3-4b52-e0fa-ce3a25c23507"
      },
      "execution_count": 2,
      "outputs": [
        {
          "output_type": "stream",
          "name": "stdout",
          "text": [
            "Drive already mounted at /content/drive; to attempt to forcibly remount, call drive.mount(\"/content/drive\", force_remount=True).\n"
          ]
        }
      ]
    },
    {
      "cell_type": "code",
      "execution_count": 3,
      "metadata": {
        "id": "R7iybO6natPq"
      },
      "outputs": [],
      "source": [
        "class models():\n",
        "    def __init__(self, path):\n",
        "        self.path = path\n",
        "       \n",
        "    \n",
        "    def read_h5(self):\n",
        "        f = h5py.File(path, 'r')\n",
        "        X = f.get('inputs')\n",
        "        y = f.get('labels') \n",
        "        #print(type(X))\n",
        "        #print(type(y))\n",
        "        self.X = np.array(X)\n",
        "        self.y = np.array(y)\n",
        "        self.x_train, self.x_test, self.y_train, self.y_test = train_test_split(self.X, self.y, test_size=0.4, random_state = 1)\n",
        "    \n",
        "        print(\"X = \", self.X.shape)\n",
        "        print(\"y =\",self.y.shape)\n",
        "        print(set(self.y))\n",
        "        #return X,y\n",
        "    \n",
        "    def cnn_model(self):\n",
        "       # K = len(set(y_train))\n",
        "        #print(K)\n",
        "        K = len(set(self.y))\n",
        "        #X = np.expand_dims(X, -1)\n",
        "        self.x_train = np.expand_dims(self.x_train, -1)\n",
        "        self.x_test = np.expand_dims(self.x_test,-1)\n",
        "        #print(X)\n",
        "        #print(X[0].shape)\n",
        "        #i = Input(shape=X[0].shape)\n",
        "        i = Input(shape=self.x_train[0].shape)\n",
        "        x = Conv2D(32, (3,3), strides = 2, activation = 'relu',padding='same',kernel_regularizer=regularizers.l2(0.0005))(i)\n",
        "        x = BatchNormalization()(x)\n",
        "        x = MaxPooling2D((2,2))(x)\n",
        "        x = Dropout(0.2)(x)\n",
        "        x = Conv2D(64, (3,3), strides = 2, activation = 'relu',padding='same',kernel_regularizer=regularizers.l2(0.0005))(x)\n",
        "        x = BatchNormalization()(x)\n",
        "        x = Dropout(0.4)(x)\n",
        "        x = Conv2D(128, (3,3), strides = 2, activation = 'relu',padding='same',kernel_regularizer=regularizers.l2(0.0005))(x)\n",
        "        x = BatchNormalization()(x)\n",
        "        x = MaxPooling2D((2,2))(x)\n",
        "        x = Dropout(0.2)(x)\n",
        "        x = Flatten()(x)    \n",
        "        x = Dropout(0.2)(x)\n",
        "        x = Dense(1024,activation = 'relu')(x)\n",
        "        x = Dropout(0.2)(x)\n",
        "        x = Dense(K, activation = 'softmax')(x)       \n",
        "        self.model = Model(i,x)\n",
        "        self.model.compile(optimizer = Adam(lr=0.001),\n",
        "              loss = 'sparse_categorical_crossentropy',\n",
        "              metrics = ['accuracy'])\n",
        "\n",
        "        #self.r = model.fit(X, y, validation_split = 0.4, epochs = 50, batch_size = 32 )\n",
        "        self.r = self.model.fit(self.x_train, self.y_train, validation_data = (self.x_test, self.y_test), epochs = 50, batch_size = 32 )\n",
        "        print(self.model.summary())\n",
        "        # It is better than using keras do the splitting!!\n",
        "        return self.r\n",
        "    \n",
        "    def dnn_model(self):\n",
        "       # K = len(set(y_train))\n",
        "        #print(K)\n",
        "        K = len(set(self.y))\n",
        "        print(self.x_train[0].shape)\n",
        "        i = Input(shape=self.x_train[0].shape)\n",
        "        x = Flatten()(i)\n",
        "        x = Dense(128,activation = 'relu')(x)\n",
        "        x = Dense(128,activation = 'relu')(x)\n",
        "        x = Dropout(0.2)(x)\n",
        "        x = Dense(256,activation = 'relu')(x)\n",
        "        x = Dense(256,activation = 'relu')(x)\n",
        "        x = Dense(256,activation = 'relu')(x)\n",
        "        #x = Dropout(0.2)(x)\n",
        "        x = Dense(1024,activation = 'relu')(x)\n",
        "        x = Dense(K,activation = 'softmax')(x)\n",
        "        self.model = Model(i,x)      \n",
        "        self.model.compile(optimizer = Adam(lr=0.001),\n",
        "              loss = 'sparse_categorical_crossentropy',\n",
        "              metrics = ['accuracy'])\n",
        "        \n",
        "        '''\n",
        "        K = len(set(self.y))\n",
        "        model = tf.keras.models.Sequential([\n",
        "        tf.keras.layers.Flatten(input_shape=self.x_train[0].shape),\n",
        "        tf.keras.layers.Dense(256, activation = 'relu'),\n",
        "        tf.keras.layers.Dropout(0.5),\n",
        "        tf.keras.layers.Dense(256, activation = 'relu'),\n",
        "        tf.keras.layers.Dropout(0.2),\n",
        "        tf.keras.layers.Dense(K,activation = 'softmax')\n",
        "        ])\n",
        "        model.compile(optimizer = Adam(lr=0.0005),\n",
        "              loss = 'sparse_categorical_crossentropy',\n",
        "              metrics = ['accuracy'])\n",
        "        '''\n",
        "        self.r = self.model.fit(self.x_train, self.y_train, validation_data = (self.x_test, self.y_test), epochs = 50 )\n",
        "        print(self.model.summary())\n",
        "        return self.r\n",
        "    \n",
        "\n",
        "    def rnn_model(self):\n",
        "        K = len(set(self.y))\n",
        "        i = Input(shape = self.x_train[0].shape)\n",
        "        x = LSTM(256, return_sequences=True)(i)\n",
        "        x = Dense(128,activation = 'relu')(x)\n",
        "        x = GlobalMaxPooling1D()(x)\n",
        "        x = Dense(K,activation = 'softmax')(x)\n",
        "        self.model = Model(i,x)      \n",
        "        self.model.compile(optimizer = Adam(lr=0.001),\n",
        "              loss = 'sparse_categorical_crossentropy',\n",
        "              metrics = ['accuracy'])\n",
        "        self.r = self.model.fit(self.x_train, self.y_train, validation_data = (self.x_test, self.y_test), epochs = 50, batch_size = 32 )\n",
        "        #self.r = model.fit(X, y, validation_split = 0.2, epochs = 10, batch_size = 32 )\n",
        "        print(self.model.summary())\n",
        "        return self.r\n",
        "   \n",
        "    def draw(self):\n",
        "        f1 = plt.figure(1)\n",
        "        plt.title('Loss')\n",
        "        plt.plot(self.r.history['loss'], label = 'loss')\n",
        "        plt.plot(self.r.history['val_loss'], label = 'val_loss')\n",
        "        plt.legend()\n",
        "        f1.show()\n",
        "        \n",
        "        f2 = plt.figure(2)\n",
        "        plt.plot(self.r.history['acc'], label = 'accuracy')\n",
        "        plt.plot(self.r.history['val_acc'], label = 'val_accuracy')\n",
        "        plt.legend()\n",
        "        f2.show()\n",
        "        \n",
        "    # summary, confusion matrix and heatmap\n",
        "    def con_matrix(self):\n",
        "        K = len(set(self.y_train))\n",
        "        self.y_pred = self.model.predict(self.x_test).argmax(axis=1)\n",
        "        cm = confusion_matrix(self.y_test,self.y_pred)\n",
        "        self.plot_confusion_matrix(cm,list(range(K)))\n",
        "            \n",
        "    \n",
        "    def plot_confusion_matrix(self, cm, classes, normalize = False, title='Confusion matrix', cmap=plt.cm.Blues):\n",
        "        if normalize:\n",
        "            cm = cm.astype('float') / cm.sum(axis=1)[:,np.newaxis]\n",
        "            print(\"Normalized confusion matrix\")\n",
        "        else:\n",
        "            print(\"Confusion matrix, without normalization\")\n",
        "        print(cm)\n",
        "        f3 = plt.figure(3)\n",
        "        plt.imshow(cm, interpolation='nearest', cmap=cmap)\n",
        "        plt.title(title)\n",
        "        plt.colorbar()\n",
        "        tick_marks = np.arange(len(classes))\n",
        "        plt.xticks(tick_marks, classes, rotation=45)\n",
        "        plt.yticks(tick_marks, classes)\n",
        "        \n",
        "        fmt = '.2f' if normalize else 'd'\n",
        "        thresh = cm.max()/2.\n",
        "        for i, j in itertools.product(range(cm.shape[0]), range(cm.shape[1])):\n",
        "            plt.text(j, i, format(cm[i, j], fmt),\n",
        "                     horizontalalignment = \"center\",\n",
        "                     color = \"white\" if cm[i, j] > thresh else \"black\")\n",
        "            plt.tight_layout()\n",
        "            plt.ylabel('True label')\n",
        "            plt.xlabel('predicted label')\n",
        "            f3.show()\n",
        "\n"
      ]
    },
    {
      "cell_type": "code",
      "execution_count": 4,
      "metadata": {
        "colab": {
          "base_uri": "https://localhost:8080/"
        },
        "id": "7DHQYCZFatPt",
        "outputId": "671f7f0d-38f2-4ad6-a6b8-aca54f8addb1"
      },
      "outputs": [
        {
          "output_type": "stream",
          "name": "stdout",
          "text": [
            "read h5 file....\n",
            "X =  (31042, 25, 220)\n",
            "y = (31042,)\n",
            "{0, 1, 2, 3}\n"
          ]
        }
      ],
      "source": [
        "model_name = \"rnn\" # can be cnn/dnn/rnn\n",
        "loco = True # True is to use locomotion as labels. False is to use high level activities as labels\n",
        "#path = \"loco_2.h5\"\n",
        "path = \"\"\n",
        "if loco:\n",
        "    path = \"./drive/MyDrive/datasets/loco_2.h5\"\n",
        "else:\n",
        "    path = \"./drive/MyDrive/datasets/hl_2.h5\"\n",
        "        \n",
        "oppo = models(path)\n",
        "    \n",
        "print(\"read h5 file....\")\n",
        "oppo.read_h5()   \n",
        "#if model_name == \"cnn\":\n",
        "#    oppo.cnn_model()\n",
        "#elif model_name == \"dnn\":\n",
        "#     oppo.dnn_model()\n",
        "#elif model_name == \"rnn\":\n",
        "#     oppo.rnn_model()\n",
        "#oppo.draw()\n",
        "#oppo.con_matrix()"
      ]
    },
    {
      "cell_type": "code",
      "execution_count": 5,
      "metadata": {
        "colab": {
          "base_uri": "https://localhost:8080/"
        },
        "id": "abjg6WXdatPv",
        "outputId": "74237c45-c2a5-47fe-b6f8-dbd0e4513eec"
      },
      "outputs": [
        {
          "output_type": "execute_result",
          "data": {
            "text/plain": [
              "{0: 1665, 1: 13968, 2: 7427, 3: 7982}"
            ]
          },
          "metadata": {},
          "execution_count": 5
        }
      ],
      "source": [
        "unique,counts = np.unique(oppo.y,return_counts = True)\n",
        "dict(zip(unique,counts))"
      ]
    },
    {
      "cell_type": "code",
      "execution_count": 6,
      "metadata": {
        "id": "1Q1oKUwUatPw"
      },
      "outputs": [],
      "source": [
        "from imblearn.over_sampling import SMOTE\n",
        "from matplotlib import pyplot\n",
        "from sklearn.metrics import classification_report"
      ]
    },
    {
      "cell_type": "code",
      "execution_count": 7,
      "metadata": {
        "id": "xZGwmVpPatPx"
      },
      "outputs": [],
      "source": [
        "##Ploting Confusion Matrix\n",
        "def plot_confusion_matrix (cm, classes, normalize=False, title='Confusion Matrix', cmap=pyplot.cm.Blues,\n",
        "                           decsnTreeClf=None):\n",
        "    #This function prints and plots the confusion matrix.\n",
        "    pyplot.imshow(cm,interpolation='nearest',cmap=cmap)\n",
        "    pyplot.title(title)\n",
        "    pyplot.colorbar()\n",
        "    tick_marks=np.arange(len(classes))\n",
        "    pyplot.xticks(tick_marks,classes,rotation=45)\n",
        "    pyplot.yticks(tick_marks,classes)\n",
        "\n",
        "    if normalize:\n",
        "        cm = cm.astype('float') / cm.sum(axis=1)[:,np.newaxis]\n",
        "        print(\"Normalized confusion matrix\")\n",
        "    else:\n",
        "        print(\"Confusion matrix, without normalization\")\n",
        "\n",
        "    print(cm)\n",
        "\n",
        "    thresh = cm.max()/2.\n",
        "    for i,j in itertools.product(range(cm.shape[0]), range(cm.shape[1])):\n",
        "        pyplot.text(j,i,cm[i,j],horizontalalignment=\"center\", color=\"white\" if cm[i,j]> thresh else \"black\" )\n",
        "\n",
        "    pyplot.tight_layout()\n",
        "    pyplot.ylabel('True Label')\n",
        "    pyplot.xlabel('Predicted Label')\n",
        "    pyplot.show()"
      ]
    },
    {
      "cell_type": "code",
      "execution_count": 8,
      "metadata": {
        "id": "JJ2C69cUatPy"
      },
      "outputs": [],
      "source": [
        "xshape = oppo.x_train.shape\n",
        "newx_train = oppo.x_train.reshape(xshape[0],(xshape[1]*xshape[2]))"
      ]
    },
    {
      "cell_type": "code",
      "execution_count": 9,
      "metadata": {
        "id": "ehWKeosEatPz"
      },
      "outputs": [],
      "source": [
        "xshape = oppo.x_test.shape\n",
        "newx_test = oppo.x_test.reshape(xshape[0],(xshape[1]*xshape[2]))"
      ]
    },
    {
      "cell_type": "code",
      "source": [
        "sm = SMOTE(random_state = 2)\n",
        "Data_res,labels_res = sm.fit_resample(newx_train,oppo.y_train)"
      ],
      "metadata": {
        "id": "hdFY67Uze9UJ"
      },
      "execution_count": 10,
      "outputs": []
    },
    {
      "cell_type": "code",
      "source": [
        "unique,counts = np.unique(oppo.y_train,return_counts = True)\n",
        "dict(zip(unique,counts))"
      ],
      "metadata": {
        "colab": {
          "base_uri": "https://localhost:8080/"
        },
        "id": "vRX44bs4fYuN",
        "outputId": "d9212d00-117d-401a-d7aa-0e631c068ac1"
      },
      "execution_count": 11,
      "outputs": [
        {
          "output_type": "execute_result",
          "data": {
            "text/plain": [
              "{0: 1041, 1: 8356, 2: 4445, 3: 4783}"
            ]
          },
          "metadata": {},
          "execution_count": 11
        }
      ]
    },
    {
      "cell_type": "code",
      "source": [
        "unique,counts = np.unique(labels_res,return_counts = True)\n",
        "dict(zip(unique,counts))"
      ],
      "metadata": {
        "colab": {
          "base_uri": "https://localhost:8080/"
        },
        "id": "V4Kl_orlfKGg",
        "outputId": "c649cb2a-88be-4efa-907f-35ed0fd3d427"
      },
      "execution_count": 12,
      "outputs": [
        {
          "output_type": "execute_result",
          "data": {
            "text/plain": [
              "{0: 8356, 1: 8356, 2: 8356, 3: 8356}"
            ]
          },
          "metadata": {},
          "execution_count": 12
        }
      ]
    },
    {
      "cell_type": "code",
      "execution_count": 13,
      "metadata": {
        "id": "1_55ZnMmatPz"
      },
      "outputs": [],
      "source": [
        "from sklearn.preprocessing import LabelEncoder, StandardScaler , MinMaxScaler\n",
        "scaler = MinMaxScaler()\n",
        "scaler.fit(Data_res)\n",
        "trainData = scaler.transform(Data_res)\n",
        "testData = scaler.transform(newx_test)"
      ]
    },
    {
      "cell_type": "code",
      "source": [
        "#encoding Labels\n",
        "\n",
        "encoder = LabelEncoder()\n",
        "\n",
        "#encoding test labels\n",
        "\n",
        "encoder.fit(oppo.y_test)\n",
        "testLabelE = encoder.transform(oppo.y_test)\n",
        "\n",
        "#encoding train labels\n",
        "\n",
        "encoder.fit(labels_res)\n",
        "trainLabelE = encoder.transform(labels_res)"
      ],
      "metadata": {
        "id": "jcjvwV_ai7Z6"
      },
      "execution_count": 17,
      "outputs": []
    },
    {
      "cell_type": "code",
      "execution_count": 18,
      "metadata": {
        "colab": {
          "base_uri": "https://localhost:8080/",
          "height": 606
        },
        "id": "q5OEic48atP4",
        "outputId": "9c21f8f3-6c3f-4560-e20b-d92c25cf9df2"
      },
      "outputs": [
        {
          "output_type": "stream",
          "name": "stdout",
          "text": [
            "K-Nearest Neighbors Accuracy: 0.90038\n",
            "Confusion matrix, without normalization\n",
            "[[ 624    0    0    0]\n",
            " [   0 5184  393   35]\n",
            " [   0  737 2216   29]\n",
            " [  16   16   11 3156]]\n"
          ]
        },
        {
          "output_type": "display_data",
          "data": {
            "text/plain": [
              "<Figure size 432x288 with 2 Axes>"
            ],
            "image/png": "[encoded data removed]"
          },
          "metadata": {
            "needs_background": "light"
          }
        },
        {
          "output_type": "stream",
          "name": "stdout",
          "text": [
            "              precision    recall  f1-score   support\n",
            "\n",
            "           0       0.97      1.00      0.99       624\n",
            "           1       0.87      0.92      0.90      5612\n",
            "           2       0.85      0.74      0.79      2982\n",
            "           3       0.98      0.99      0.98      3199\n",
            "\n",
            "    accuracy                           0.90     12417\n",
            "   macro avg       0.92      0.91      0.91     12417\n",
            "weighted avg       0.90      0.90      0.90     12417\n",
            "\n"
          ]
        }
      ],
      "source": [
        "from sklearn.metrics import classification_report\n",
        "from sklearn.neighbors import KNeighborsClassifier\n",
        "from sklearn.metrics import confusion_matrix,accuracy_score\n",
        "clf2= KNeighborsClassifier(n_neighbors=12)\n",
        "knnModel2 = clf2.fit(trainData,trainLabelE)\n",
        "y_te_pred2 = clf2.predict(testData)\n",
        "\n",
        "acc2 = accuracy_score(testLabelE,y_te_pred2)\n",
        "print(\"K-Nearest Neighbors Accuracy: %.5f\" %(acc2)) #.907\n",
        "cfs=confusion_matrix(oppo.y_test,y_te_pred2)\n",
        "pyplot.figure()\n",
        "class_names = encoder.classes_\n",
        "plot_confusion_matrix(cfs,classes=class_names,title=\"Original: Confusuion Matrix\")\n",
        "print(classification_report(oppo.y_test,y_te_pred2))"
      ]
    },
    {
      "cell_type": "code",
      "execution_count": null,
      "metadata": {
        "id": "Vhjghu7tatP5",
        "outputId": "92f0a3b5-65da-450c-f601-d74a7af12d16"
      },
      "outputs": [
        {
          "name": "stdout",
          "output_type": "stream",
          "text": [
            "K-Nearest Neighbors Accuracy: 0.87968\n",
            "Confusion matrix, without normalization\n",
            "[[ 614    2    2    6]\n",
            " [   4 5000  556   52]\n",
            " [   2  797 2172   11]\n",
            " [   9   39   14 3137]]\n"
          ]
        },
        {
          "data": {
            "image/png": "[encoded data removed]",
            "text/plain": [
              "<Figure size 432x288 with 2 Axes>"
            ]
          },
          "metadata": {
            "needs_background": "light"
          },
          "output_type": "display_data"
        },
        {
          "name": "stdout",
          "output_type": "stream",
          "text": [
            "              precision    recall  f1-score   support\n",
            "\n",
            "           0       0.98      0.98      0.98       624\n",
            "           1       0.86      0.89      0.87      5612\n",
            "           2       0.79      0.73      0.76      2982\n",
            "           3       0.98      0.98      0.98      3199\n",
            "\n",
            "    accuracy                           0.88     12417\n",
            "   macro avg       0.90      0.90      0.90     12417\n",
            "weighted avg       0.88      0.88      0.88     12417\n",
            "\n"
          ]
        }
      ],
      "source": [
        "clf= KNeighborsClassifier(n_neighbors=12)\n",
        "knnModel = clf.fit(Scaled_trainData,oppo.y_train)\n",
        "y_te_pred = clf.predict(Scaled_testData)\n",
        "\n",
        "acc = accuracy_score(oppo.y_test,y_te_pred)\n",
        "print(\"K-Nearest Neighbors Accuracy: %.5f\" %(acc)) #.907\n",
        "cfs=confusion_matrix(oppo.y_test,y_te_pred)\n",
        "pyplot.figure()\n",
        "class_names = encoder.classes_\n",
        "plot_confusion_matrix(cfs,classes=class_names,title=\"LDA: Confusuion Matrix\")\n",
        "\n",
        "print(classification_report(oppo.y_test,y_te_pred))"
      ]
    },
    {
      "cell_type": "code",
      "execution_count": null,
      "metadata": {
        "id": "iJIl2LzDatP6",
        "outputId": "bbd886e6-fc9a-4b28-86c4-1d8e8a17a6d5"
      },
      "outputs": [
        {
          "name": "stdout",
          "output_type": "stream",
          "text": [
            "K-Nearest Neighbors Accuracy: 0.89281\n",
            "Confusion matrix, without normalization\n",
            "[[ 622    0    1    1]\n",
            " [   0 5296  292   24]\n",
            " [   0  934 2021   27]\n",
            " [   8   26   18 3147]]\n"
          ]
        },
        {
          "data": {
            "image/png": "[encoded data removed]",
            "text/plain": [
              "<Figure size 432x288 with 2 Axes>"
            ]
          },
          "metadata": {
            "needs_background": "light"
          },
          "output_type": "display_data"
        },
        {
          "name": "stdout",
          "output_type": "stream",
          "text": [
            "              precision    recall  f1-score   support\n",
            "\n",
            "           0       0.99      1.00      0.99       624\n",
            "           1       0.85      0.94      0.89      5612\n",
            "           2       0.87      0.68      0.76      2982\n",
            "           3       0.98      0.98      0.98      3199\n",
            "\n",
            "    accuracy                           0.89     12417\n",
            "   macro avg       0.92      0.90      0.91     12417\n",
            "weighted avg       0.89      0.89      0.89     12417\n",
            "\n"
          ]
        }
      ],
      "source": [
        "clf1= KNeighborsClassifier(n_neighbors=12)\n",
        "knnModel1 = clf1.fit(Reduced_trainData,oppo.y_train)\n",
        "y_te_pred1 = clf1.predict(Reduced_testData)\n",
        "\n",
        "acc1 = accuracy_score(oppo.y_test,y_te_pred1)\n",
        "print(\"K-Nearest Neighbors Accuracy: %.5f\" %(acc1)) #.907\n",
        "cfs=confusion_matrix(oppo.y_test,y_te_pred1)\n",
        "pyplot.figure()\n",
        "class_names = encoder.classes_\n",
        "plot_confusion_matrix(cfs,classes=class_names,title=\"PCA: Confusuion Matrix\")\n",
        "print(classification_report(oppo.y_test,y_te_pred1))"
      ]
    },
    {
      "cell_type": "code",
      "execution_count": null,
      "metadata": {
        "id": "xVNrXEmOatP7"
      },
      "outputs": [],
      "source": [
        "sm = SMOTE(random_state = 2)"
      ]
    },
    {
      "cell_type": "code",
      "execution_count": null,
      "metadata": {
        "id": "3wVJCjzJatP7"
      },
      "outputs": [],
      "source": [
        "Data_res,labels_res = sm.fit_sample(Reduced_trainData,oppo.y_train)\n"
      ]
    },
    {
      "cell_type": "code",
      "execution_count": null,
      "metadata": {
        "id": "Ek318MdbatP7",
        "outputId": "da8a4673-95e1-4d1b-a4c6-c45ed5f272b7"
      },
      "outputs": [
        {
          "name": "stdout",
          "output_type": "stream",
          "text": [
            "K-Nearest Neighbors Accuracy: 0.90835\n",
            "Confusion matrix, without normalization\n",
            "[[ 624    0    0    0]\n",
            " [   0 4978  598   36]\n",
            " [   0  438 2519   25]\n",
            " [  14    8   19 3158]]\n"
          ]
        },
        {
          "data": {
            "image/png": "[encoded data removed]",
            "text/plain": [
              "<Figure size 432x288 with 2 Axes>"
            ]
          },
          "metadata": {
            "needs_background": "light"
          },
          "output_type": "display_data"
        },
        {
          "name": "stdout",
          "output_type": "stream",
          "text": [
            "              precision    recall  f1-score   support\n",
            "\n",
            "           0       0.98      1.00      0.99       624\n",
            "           1       0.92      0.89      0.90      5612\n",
            "           2       0.80      0.84      0.82      2982\n",
            "           3       0.98      0.99      0.98      3199\n",
            "\n",
            "    accuracy                           0.91     12417\n",
            "   macro avg       0.92      0.93      0.92     12417\n",
            "weighted avg       0.91      0.91      0.91     12417\n",
            "\n"
          ]
        }
      ],
      "source": [
        "clf1= KNeighborsClassifier(n_neighbors=12)\n",
        "knnModel1 = clf1.fit(Data_res,labels_res)\n",
        "y_te_pred1 = clf1.predict(Reduced_testData)\n",
        "\n",
        "acc1 = accuracy_score(oppo.y_test,y_te_pred1)\n",
        "print(\"K-Nearest Neighbors Accuracy: %.5f\" %(acc1)) #.907\n",
        "cfs=confusion_matrix(oppo.y_test,y_te_pred1)\n",
        "pyplot.figure()\n",
        "class_names = encoder.classes_\n",
        "plot_confusion_matrix(cfs,classes=class_names,title=\"PCA: Confusuion Matrix\")\n",
        "print(classification_report(oppo.y_test,y_te_pred1))"
      ]
    }
  ],
  "metadata": {
    "kernelspec": {
      "display_name": "Python 3",
      "language": "python",
      "name": "python3"
    },
    "language_info": {
      "codemirror_mode": {
        "name": "ipython",
        "version": 3
      },
      "file_extension": ".py",
      "mimetype": "text/x-python",
      "name": "python",
      "nbconvert_exporter": "python",
      "pygments_lexer": "ipython3",
      "version": "3.7.7"
    },
    "colab": {
      "provenance": [],
      "include_colab_link": true
    }
  },
  "nbformat": 4,
  "nbformat_minor": 0
}