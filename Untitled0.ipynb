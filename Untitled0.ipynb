{
  "nbformat": 4,
  "nbformat_minor": 0,
  "metadata": {
    "colab": {
      "provenance": [],
      "authorship_tag": "ABX9TyN6FeGrw+Oix0RTRTPaFxdX",
      "include_colab_link": true
    },
    "kernelspec": {
      "name": "python3",
      "display_name": "Python 3"
    },
    "language_info": {
      "name": "python"
    }
  },
  "cells": [
    {
      "cell_type": "markdown",
      "metadata": {
        "id": "view-in-github",
        "colab_type": "text"
      },
      "source": [
        "<a href=\"https://colab.research.google.com/github/EslamKampoza/Deep-Learning-Crash-Course-on-Youtube-/blob/main/Untitled0.ipynb\" target=\"_parent\"><img src=\"https://colab.research.google.com/assets/colab-badge.svg\" alt=\"Open In Colab\"/></a>"
      ]
    },
    {
      "cell_type": "code",
      "execution_count": 1,
      "metadata": {
        "colab": {
          "base_uri": "https://localhost:8080/"
        },
        "id": "LFyFXfkfBB6H",
        "outputId": "cc238caa-4744-40b4-90de-b483dd6c8dec"
      },
      "outputs": [
        {
          "output_type": "stream",
          "name": "stdout",
          "text": [
            "Looking in indexes: https://pypi.org/simple, https://us-python.pkg.dev/colab-wheels/public/simple/\n",
            "Collecting pyDML\n",
            "  Downloading pyDML-0.1.0.tar.gz (54 kB)\n",
            "\u001b[K     |████████████████████████████████| 54 kB 2.1 MB/s \n",
            "\u001b[?25hRequirement already satisfied: numpy in /usr/local/lib/python3.7/dist-packages (from pyDML) (1.21.6)\n",
            "Requirement already satisfied: pandas in /usr/local/lib/python3.7/dist-packages (from pyDML) (1.3.5)\n",
            "Requirement already satisfied: scikit-learn in /usr/local/lib/python3.7/dist-packages (from pyDML) (1.0.2)\n",
            "Requirement already satisfied: matplotlib in /usr/local/lib/python3.7/dist-packages (from pyDML) (3.2.2)\n",
            "Requirement already satisfied: Cython in /usr/local/lib/python3.7/dist-packages (from pyDML) (0.29.32)\n",
            "Requirement already satisfied: scipy in /usr/local/lib/python3.7/dist-packages (from pyDML) (1.7.3)\n",
            "Requirement already satisfied: seaborn in /usr/local/lib/python3.7/dist-packages (from pyDML) (0.11.2)\n",
            "Requirement already satisfied: pyparsing!=2.0.4,!=2.1.2,!=2.1.6,>=2.0.1 in /usr/local/lib/python3.7/dist-packages (from matplotlib->pyDML) (3.0.9)\n",
            "Requirement already satisfied: cycler>=0.10 in /usr/local/lib/python3.7/dist-packages (from matplotlib->pyDML) (0.11.0)\n",
            "Requirement already satisfied: kiwisolver>=1.0.1 in /usr/local/lib/python3.7/dist-packages (from matplotlib->pyDML) (1.4.4)\n",
            "Requirement already satisfied: python-dateutil>=2.1 in /usr/local/lib/python3.7/dist-packages (from matplotlib->pyDML) (2.8.2)\n",
            "Requirement already satisfied: typing-extensions in /usr/local/lib/python3.7/dist-packages (from kiwisolver>=1.0.1->matplotlib->pyDML) (4.1.1)\n",
            "Requirement already satisfied: six>=1.5 in /usr/local/lib/python3.7/dist-packages (from python-dateutil>=2.1->matplotlib->pyDML) (1.15.0)\n",
            "Requirement already satisfied: pytz>=2017.3 in /usr/local/lib/python3.7/dist-packages (from pandas->pyDML) (2022.6)\n",
            "Requirement already satisfied: joblib>=0.11 in /usr/local/lib/python3.7/dist-packages (from scikit-learn->pyDML) (1.2.0)\n",
            "Requirement already satisfied: threadpoolctl>=2.0.0 in /usr/local/lib/python3.7/dist-packages (from scikit-learn->pyDML) (3.1.0)\n",
            "Building wheels for collected packages: pyDML\n",
            "  Building wheel for pyDML (setup.py) ... \u001b[?25l\u001b[?25hdone\n",
            "  Created wheel for pyDML: filename=pyDML-0.1.0-cp37-cp37m-linux_x86_64.whl size=4055234 sha256=0b8f3f982c9e9f87d399282d89c1dd1f0b0d55d28a3e4a14648ea69b38dec9fa\n",
            "  Stored in directory: /root/.cache/pip/wheels/c6/03/a6/b75ed66dfeb7354269a640cd9cf401a96afdaac17f2bc98ff4\n",
            "Successfully built pyDML\n",
            "Installing collected packages: pyDML\n",
            "Successfully installed pyDML-0.1.0\n"
          ]
        }
      ],
      "source": [
        "!pip install pyDML"
      ]
    },
    {
      "cell_type": "code",
      "source": [],
      "metadata": {
        "id": "BA0yo_4Izxs5"
      },
      "execution_count": null,
      "outputs": []
    },
    {
      "cell_type": "code",
      "source": [
        "import pandas as pd\n",
        "import time\n",
        "from matplotlib import pyplot\n",
        "import numpy as np\n",
        "import itertools\n",
        "from mpl_toolkits.mplot3d import Axes3D\n",
        "from sklearn.utils import shuffle\n",
        "from sklearn.preprocessing import LabelEncoder, StandardScaler , MinMaxScaler\n",
        "from sklearn.pipeline import Pipeline\n",
        "import sklearn.neural_network as nn\n",
        "from sklearn.metrics import confusion_matrix,accuracy_score\n",
        "from sklearn.linear_model import LogisticRegression\n",
        "from sklearn.model_selection import KFold, GridSearchCV, StratifiedKFold,cross_val_score\n",
        "from sklearn.feature_selection import RFE\n",
        "from sklearn.ensemble import ExtraTreesClassifier,AdaBoostClassifier,RandomForestClassifier\n",
        "from sklearn.tree import DecisionTreeClassifier\n",
        "from sklearn.decomposition import PCA\n",
        "from sklearn.neighbors import KNeighborsClassifier\n",
        "from sklearn.svm import SVC\n",
        "from sklearn.discriminant_analysis import QuadraticDiscriminantAnalysis, LinearDiscriminantAnalysis\n",
        "from sklearn.naive_bayes import GaussianNB\n",
        "from sklearn.manifold import TSNE\n",
        "from sklearn.metrics import classification_report\n",
        "#Neural Network\n",
        "from keras.models import Sequential\n",
        "from keras.layers import Dense, Dropout,Activation\n",
        "from keras.wrappers.scikit_learn import KerasClassifier\n",
        "from keras.utils.np_utils import to_categorical\n",
        "#from imblearn.over_sampling import SMOTE\n",
        "from sklearn.decomposition import TruncatedSVD\n",
        "import smote"
      ],
      "metadata": {
        "id": "rBxroieq0jit"
      },
      "execution_count": 2,
      "outputs": []
    },
    {
      "cell_type": "code",
      "source": [
        "from dml import NCA,kNN"
      ],
      "metadata": {
        "id": "ac6CEMf80nsx"
      },
      "execution_count": 3,
      "outputs": []
    },
    {
      "cell_type": "code",
      "source": [
        "##Ploting Confusion Matrix\n",
        "def plot_confusion_matrix (cm, classes, normalize=False, title='Confusion Matrix', cmap=pyplot.cm.Blues,\n",
        "                           decsnTreeClf=None):\n",
        "    #This function prints and plots the confusion matrix.\n",
        "    pyplot.imshow(cm,interpolation='nearest',cmap=cmap)\n",
        "    pyplot.title(title)\n",
        "    pyplot.colorbar()\n",
        "    tick_marks=np.arange(len(classes))\n",
        "    pyplot.xticks(tick_marks,classes,rotation=45)\n",
        "    pyplot.yticks(tick_marks,classes)\n",
        "\n",
        "    if normalize:\n",
        "        cm = cm.astype('float') / cm.sum(axis=1)[:,np.newaxis]\n",
        "        print(\"Normalized confusion matrix\")\n",
        "    else:\n",
        "        print(\"Confusion matrix, without normalization\")\n",
        "\n",
        "    print(cm)\n",
        "\n",
        "    thresh = cm.max()/2.\n",
        "    for i,j in itertools.product(range(cm.shape[0]), range(cm.shape[1])):\n",
        "        pyplot.text(j,i,cm[i,j],horizontalalignment=\"center\", color=\"white\" if cm[i,j]> thresh else \"black\" )\n",
        "\n",
        "    pyplot.tight_layout()\n",
        "    pyplot.ylabel('True Label')\n",
        "    pyplot.xlabel('Predicted Label')\n",
        "    pyplot.show()"
      ],
      "metadata": {
        "id": "QV3O866f0rJZ"
      },
      "execution_count": 4,
      "outputs": []
    },
    {
      "cell_type": "code",
      "source": [
        "train = pd.read_csv('WISDM.csv',header=None)\n",
        "train = train[(train != '?').all(axis=1)]\n",
        "#test = pd.read_csv('test.csv')\n",
        "labels = train[train.columns[len(train.columns)-1]]\n",
        "Data = train[train.columns[:-1]]\n",
        "peek=train.head()\n",
        "print(peek)\n",
        "print(train.shape)"
      ],
      "metadata": {
        "colab": {
          "base_uri": "https://localhost:8080/"
        },
        "id": "pbF6LzV_0uYW",
        "outputId": "b64ced7f-203f-4af2-da65-57bae13f8b61"
      },
      "execution_count": 6,
      "outputs": [
        {
          "output_type": "stream",
          "name": "stdout",
          "text": [
            "   0     1     2     3     4     5     6     7     8     9   ...      35  \\\n",
            "0  33  0.04  0.09  0.14  0.12  0.11  0.10  0.08  0.13  0.13  ...  293.94   \n",
            "1  33  0.12  0.12  0.06  0.07  0.11  0.10  0.11  0.09  0.12  ...  269.44   \n",
            "2  33  0.14  0.09  0.11  0.09  0.09  0.11  0.12  0.08  0.05  ...  248.65   \n",
            "3  33  0.06  0.10  0.09  0.09  0.11  0.07  0.12  0.10  0.14  ...  709.09   \n",
            "4  33  0.12  0.11  0.10  0.08  0.10  0.14  0.10  0.11  0.08  ...    3300   \n",
            "\n",
            "        36    37    38    39    40    41    42     43       44  \n",
            "0     1550  3.29  7.21  4.00  4.05  8.17  4.05  11.96  Jogging  \n",
            "1  1233.33  4.23  6.88  4.05  5.43  8.19  5.43  12.05  Jogging  \n",
            "2     1780  4.18  6.89  4.07  5.55  8.19  5.55  11.99  Jogging  \n",
            "3     1380  2.26  4.13  2.49  2.87  4.95  2.87  10.69  Walking  \n",
            "4     1775  2.29  3.94  2.41  3.08  4.64  3.08  10.80  Walking  \n",
            "\n",
            "[5 rows x 45 columns]\n",
            "(4944, 45)\n"
          ]
        }
      ]
    },
    {
      "cell_type": "code",
      "source": [
        "from sklearn.model_selection import train_test_split\n",
        "Data, X_test, labels, y_test = train_test_split(Data, labels, test_size=0.20, random_state=42)"
      ],
      "metadata": {
        "id": "komcZPxI0xPr"
      },
      "execution_count": 7,
      "outputs": []
    },
    {
      "cell_type": "code",
      "source": [
        "#encoding Labels\n",
        "\n",
        "encoder = LabelEncoder()\n",
        "\n",
        "#encoding test labels\n",
        "\n",
        "encoder.fit(y_test)\n",
        "testLabelE = encoder.transform(y_test)\n",
        "\n",
        "#encoding train labels\n",
        "\n",
        "encoder.fit(labels)\n",
        "trainLabelE = encoder.transform(labels)"
      ],
      "metadata": {
        "id": "OIQbVgNx1T1w"
      },
      "execution_count": 8,
      "outputs": []
    },
    {
      "cell_type": "code",
      "source": [
        "scaler = MinMaxScaler()\n",
        "scaler.fit(Data)\n",
        "trainData = scaler.transform(Data)\n",
        "testData = scaler.transform(X_test)"
      ],
      "metadata": {
        "id": "_YNBbTJ41V-0"
      },
      "execution_count": 9,
      "outputs": []
    },
    {
      "cell_type": "code",
      "source": [
        "clf2= KNeighborsClassifier(n_neighbors=12)\n",
        "knnModel2 = clf2.fit(trainData,trainLabelE)\n",
        "y_te_pred2 = clf2.predict(testData)\n",
        "\n",
        "acc2 = accuracy_score(testLabelE,y_te_pred2)\n",
        "print(\"K-Nearest Neighbors Accuracy: %.5f\" %(acc2)) #.907\n",
        "cfs=confusion_matrix(testLabelE,y_te_pred2)\n",
        "pyplot.figure()\n",
        "class_names = encoder.classes_\n",
        "plot_confusion_matrix(cfs,classes=class_names,title=\"Original: Confusuion Matrix\")\n",
        "print(classification_report(testLabelE,y_te_pred2))"
      ],
      "metadata": {
        "id": "d1PhnYrp1Yhd",
        "outputId": "475e6c9d-1b50-47eb-d594-05e527fecc4a",
        "colab": {
          "base_uri": "https://localhost:8080/",
          "height": 676
        }
      },
      "execution_count": 10,
      "outputs": [
        {
          "output_type": "stream",
          "name": "stdout",
          "text": [
            "K-Nearest Neighbors Accuracy: 0.82710\n",
            "Confusion matrix, without normalization\n",
            "[[ 33   1   0   0  18  54]\n",
            " [  2 328   0   0   1   5]\n",
            " [  1   0  18   1   0   1]\n",
            " [  2   1   0  11   1   3]\n",
            " [ 19   4   0   0  39  42]\n",
            " [ 12   0   0   0   3 389]]\n"
          ]
        },
        {
          "output_type": "display_data",
          "data": {
            "text/plain": [
              "<Figure size 432x288 with 2 Axes>"
            ],
            "image/png": "[encoded data removed]"
          },
          "metadata": {
            "needs_background": "light"
          }
        },
        {
          "output_type": "stream",
          "name": "stdout",
          "text": [
            "              precision    recall  f1-score   support\n",
            "\n",
            "           0       0.48      0.31      0.38       106\n",
            "           1       0.98      0.98      0.98       336\n",
            "           2       1.00      0.86      0.92        21\n",
            "           3       0.92      0.61      0.73        18\n",
            "           4       0.63      0.38      0.47       104\n",
            "           5       0.79      0.96      0.87       404\n",
            "\n",
            "    accuracy                           0.83       989\n",
            "   macro avg       0.80      0.68      0.72       989\n",
            "weighted avg       0.81      0.83      0.81       989\n",
            "\n"
          ]
        }
      ]
    },
    {
      "cell_type": "code",
      "source": [
        "nca  = NCA()\n",
        "nca = nca.fit(trainData,trainLabelE)"
      ],
      "metadata": {
        "id": "10tI1nMP1elK"
      },
      "execution_count": null,
      "outputs": []
    },
    {
      "cell_type": "code",
      "source": [
        "from dml import NCA, kNN, MultiDML_kNN"
      ],
      "metadata": {
        "id": "jvs3FaHiB1af"
      },
      "execution_count": null,
      "outputs": []
    },
    {
      "cell_type": "code",
      "source": [
        "import numpy as np\n",
        "from sklearn.datasets import load_iris\n",
        "iris = load_iris()\n",
        "X = iris['data']\n",
        "y = iris['target']\n",
        "\n",
        "# Initializing transformer and predictor\n",
        "nca = NCA()\n",
        "knn = kNN(n_neighbors=7,dml_algorithm=nca)\n",
        "\n",
        "# Fitting transformer and predictor\n",
        "nca.fit(X,y)\n",
        "knn.fit(X,y)"
      ],
      "metadata": {
        "colab": {
          "base_uri": "https://localhost:8080/"
        },
        "id": "w2VQiPRCB4K0",
        "outputId": "760be211-7d37-4308-e821-cec28a29be30"
      },
      "execution_count": 12,
      "outputs": [
        {
          "output_type": "execute_result",
          "data": {
            "text/plain": [
              "<dml.knn.kNN at 0x7f9e95b9b710>"
            ]
          },
          "metadata": {},
          "execution_count": 12
        }
      ]
    }
  ]
}