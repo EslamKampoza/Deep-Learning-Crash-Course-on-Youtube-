{
  "nbformat": 4,
  "nbformat_minor": 0,
  "metadata": {
    "colab": {
      "provenance": [],
      "authorship_tag": "ABX9TyNsKz/JRu0JyMuqx3FEzO4r",
      "include_colab_link": true
    },
    "kernelspec": {
      "name": "python3",
      "display_name": "Python 3"
    },
    "language_info": {
      "name": "python"
    }
  },
  "cells": [
    {
      "cell_type": "markdown",
      "metadata": {
        "id": "view-in-github",
        "colab_type": "text"
      },
      "source": [
        "<a href=\"https://colab.research.google.com/github/EslamKampoza/machine-intelligence-paper-/blob/main/builtin_smote1-1-2023.ipynb\" target=\"_parent\"><img src=\"https://colab.research.google.com/assets/colab-badge.svg\" alt=\"Open In Colab\"/></a>"
      ]
    },
    {
      "cell_type": "code",
      "execution_count": 32,
      "metadata": {
        "id": "xf8kcgSdSGvo"
      },
      "outputs": [],
      "source": [
        "import pandas as pd\n",
        "import time\n",
        "from matplotlib import pyplot\n",
        "import numpy as np\n",
        "import itertools\n",
        "from mpl_toolkits.mplot3d import Axes3D\n",
        "from sklearn.utils import shuffle\n",
        "from sklearn.preprocessing import LabelEncoder, StandardScaler , MinMaxScaler\n",
        "from sklearn.pipeline import Pipeline\n",
        "import sklearn.neural_network as nn\n",
        "from sklearn.metrics import confusion_matrix,accuracy_score\n",
        "from sklearn.linear_model import LogisticRegression\n",
        "from sklearn.model_selection import KFold, GridSearchCV, StratifiedKFold,cross_val_score\n",
        "from sklearn.feature_selection import RFE\n",
        "from sklearn.ensemble import ExtraTreesClassifier,AdaBoostClassifier,RandomForestClassifier\n",
        "from sklearn.tree import DecisionTreeClassifier\n",
        "from sklearn.decomposition import PCA\n",
        "from sklearn.neighbors import KNeighborsClassifier\n",
        "from sklearn.svm import SVC\n",
        "from sklearn.discriminant_analysis import QuadraticDiscriminantAnalysis, LinearDiscriminantAnalysis\n",
        "from sklearn.naive_bayes import GaussianNB\n",
        "from sklearn.manifold import TSNE\n",
        "from sklearn.metrics import classification_report\n",
        "from imblearn.metrics import classification_report_imbalanced\n",
        "#Neural Network\n",
        "from keras.models import Sequential\n",
        "from keras.layers import Dense, Dropout,Activation\n",
        "from keras.wrappers.scikit_learn import KerasClassifier\n",
        "from keras.utils.np_utils import to_categorical\n",
        "from imblearn.over_sampling import SMOTE\n",
        "from sklearn.decomposition import TruncatedSVD"
      ]
    },
    {
      "cell_type": "code",
      "source": [
        "##Ploting Confusion Matrix\n",
        "def plot_confusion_matrix (cm, classes, normalize=False, title='Confusion Matrix', cmap=pyplot.cm.Blues,\n",
        "                           decsnTreeClf=None):\n",
        "    #This function prints and plots the confusion matrix.\n",
        "    pyplot.imshow(cm,interpolation='nearest',cmap=cmap)\n",
        "    pyplot.title(title)\n",
        "    pyplot.colorbar()\n",
        "    tick_marks=np.arange(len(classes))\n",
        "    pyplot.xticks(tick_marks,classes,rotation=45)\n",
        "    pyplot.yticks(tick_marks,classes)\n",
        "\n",
        "    if normalize:\n",
        "        cm = cm.astype('float') / cm.sum(axis=1)[:,np.newaxis]\n",
        "        print(\"Normalized confusion matrix\")\n",
        "    else:\n",
        "        print(\"Confusion matrix, without normalization\")\n",
        "\n",
        "    print(cm)\n",
        "\n",
        "    thresh = cm.max()/2.\n",
        "    for i,j in itertools.product(range(cm.shape[0]), range(cm.shape[1])):\n",
        "        pyplot.text(j,i,cm[i,j],horizontalalignment=\"center\", color=\"white\" if cm[i,j]> thresh else \"black\" )\n",
        "\n",
        "    pyplot.tight_layout()\n",
        "    pyplot.ylabel('True Label')\n",
        "    pyplot.xlabel('Predicted Label')\n",
        "    pyplot.show()"
      ],
      "metadata": {
        "id": "osdmJMA9SIfb"
      },
      "execution_count": 33,
      "outputs": []
    },
    {
      "cell_type": "code",
      "source": [
        "train = pd.read_csv('WISDM.csv',header=None)\n",
        "train = train[(train != '?').all(axis=1)]\n",
        "#test = pd.read_csv('test.csv')\n",
        "labels1 = train[train.columns[len(train.columns)-1]]\n",
        "Data1 = train[train.columns[:-1]]\n",
        "peek=train.head()\n",
        "print(peek)\n",
        "print(train.shape)\n"
      ],
      "metadata": {
        "colab": {
          "base_uri": "https://localhost:8080/"
        },
        "id": "NTBszTEnSNoi",
        "outputId": "e6eae92c-d95f-4c9c-d3e5-8eb13a590445"
      },
      "execution_count": 34,
      "outputs": [
        {
          "output_type": "stream",
          "name": "stdout",
          "text": [
            "   0     1     2     3     4     5     6     7     8     9   ...      35  \\\n",
            "0  33  0.04  0.09  0.14  0.12  0.11  0.10  0.08  0.13  0.13  ...  293.94   \n",
            "1  33  0.12  0.12  0.06  0.07  0.11  0.10  0.11  0.09  0.12  ...  269.44   \n",
            "2  33  0.14  0.09  0.11  0.09  0.09  0.11  0.12  0.08  0.05  ...  248.65   \n",
            "3  33  0.06  0.10  0.09  0.09  0.11  0.07  0.12  0.10  0.14  ...  709.09   \n",
            "4  33  0.12  0.11  0.10  0.08  0.10  0.14  0.10  0.11  0.08  ...    3300   \n",
            "\n",
            "        36    37    38    39    40    41    42     43       44  \n",
            "0     1550  3.29  7.21  4.00  4.05  8.17  4.05  11.96  Jogging  \n",
            "1  1233.33  4.23  6.88  4.05  5.43  8.19  5.43  12.05  Jogging  \n",
            "2     1780  4.18  6.89  4.07  5.55  8.19  5.55  11.99  Jogging  \n",
            "3     1380  2.26  4.13  2.49  2.87  4.95  2.87  10.69  Walking  \n",
            "4     1775  2.29  3.94  2.41  3.08  4.64  3.08  10.80  Walking  \n",
            "\n",
            "[5 rows x 45 columns]\n",
            "(4944, 45)\n"
          ]
        }
      ]
    },
    {
      "cell_type": "code",
      "source": [
        "unique,counts = np.unique(labels1,return_counts = True)\n",
        "dict(zip(unique,counts))"
      ],
      "metadata": {
        "colab": {
          "base_uri": "https://localhost:8080/"
        },
        "id": "f499IFJmSQwj",
        "outputId": "83adb937-eab1-4d72-e4d9-855689cc98ac"
      },
      "execution_count": 35,
      "outputs": [
        {
          "output_type": "execute_result",
          "data": {
            "text/plain": [
              "{'Downstairs': 507,\n",
              " 'Jogging': 1612,\n",
              " 'Sitting': 134,\n",
              " 'Standing': 75,\n",
              " 'Upstairs': 587,\n",
              " 'Walking': 2029}"
            ]
          },
          "metadata": {},
          "execution_count": 35
        }
      ]
    },
    {
      "cell_type": "code",
      "source": [
        "from sklearn.model_selection import train_test_split\n",
        "trainData, testData, trainLabel, testLabel = train_test_split(Data1, labels1, test_size=0.20, random_state=42)"
      ],
      "metadata": {
        "id": "k-Y05dUQ0jzx"
      },
      "execution_count": 36,
      "outputs": []
    },
    {
      "cell_type": "code",
      "source": [],
      "metadata": {
        "id": "g_T9dtwq1ACx"
      },
      "execution_count": 36,
      "outputs": []
    },
    {
      "cell_type": "code",
      "source": [
        "sm = SMOTE(random_state = 2)\n",
        "Data_res,labels_res = sm.fit_resample(trainData,trainLabel)"
      ],
      "metadata": {
        "id": "cp6g5D3-SX_S"
      },
      "execution_count": 37,
      "outputs": []
    },
    {
      "cell_type": "code",
      "source": [
        "unique,counts = np.unique(labels_res,return_counts = True)\n",
        "dict(zip(unique,counts))"
      ],
      "metadata": {
        "colab": {
          "base_uri": "https://localhost:8080/"
        },
        "id": "NzmQtR0ASkG1",
        "outputId": "94f56f17-702b-4f76-b2b9-6ce809514470"
      },
      "execution_count": 38,
      "outputs": [
        {
          "output_type": "execute_result",
          "data": {
            "text/plain": [
              "{'Downstairs': 1625,\n",
              " 'Jogging': 1625,\n",
              " 'Sitting': 1625,\n",
              " 'Standing': 1625,\n",
              " 'Upstairs': 1625,\n",
              " 'Walking': 1625}"
            ]
          },
          "metadata": {},
          "execution_count": 38
        }
      ]
    },
    {
      "cell_type": "code",
      "source": [
        "trainData = Data_res\n",
        "trainLabel = labels_res"
      ],
      "metadata": {
        "id": "ltarq_oL1JVL"
      },
      "execution_count": 39,
      "outputs": []
    },
    {
      "cell_type": "code",
      "source": [
        "#encoding Labels\n",
        "\n",
        "encoder = LabelEncoder()\n",
        "\n",
        "#encoding test labels\n",
        "\n",
        "encoder.fit(testLabel)\n",
        "testLabelE = encoder.transform(testLabel)\n",
        "\n",
        "#encoding train labels\n",
        "\n",
        "encoder.fit(trainLabel)\n",
        "trainLabelE = encoder.transform(trainLabel)"
      ],
      "metadata": {
        "id": "fwtSm7m-SzRY"
      },
      "execution_count": 40,
      "outputs": []
    },
    {
      "cell_type": "code",
      "source": [
        "scaler = MinMaxScaler()\n",
        "scaler.fit(trainData)\n",
        "Scaled_trainData = scaler.transform(trainData)\n",
        "Scaled_testData = scaler.transform(testData)"
      ],
      "metadata": {
        "id": "wNLzKz67TNN0"
      },
      "execution_count": 41,
      "outputs": []
    },
    {
      "cell_type": "code",
      "source": [
        "unique,counts = np.unique(testLabelE,return_counts = True)\n",
        "dict(zip(unique,counts))"
      ],
      "metadata": {
        "colab": {
          "base_uri": "https://localhost:8080/"
        },
        "id": "ppCgkFaG1v-G",
        "outputId": "6ede3bd7-8e55-403c-cc3f-3f94c7b88fe1"
      },
      "execution_count": 42,
      "outputs": [
        {
          "output_type": "execute_result",
          "data": {
            "text/plain": [
              "{0: 106, 1: 336, 2: 21, 3: 18, 4: 104, 5: 404}"
            ]
          },
          "metadata": {},
          "execution_count": 42
        }
      ]
    },
    {
      "cell_type": "code",
      "source": [
        "clf2= KNeighborsClassifier(n_neighbors=12)\n",
        "knnModel2 = clf2.fit(trainData,trainLabelE)\n",
        "y_te_pred2 = clf2.predict(testData)\n",
        "\n",
        "acc2 = accuracy_score(testLabelE,y_te_pred2)\n",
        "print(\"K-Nearest Neighbors Accuracy: %.5f\" %(acc2)) #.907\n",
        "cfs=confusion_matrix(testLabelE,y_te_pred2)\n",
        "pyplot.figure()\n",
        "class_names = encoder.classes_\n",
        "plot_confusion_matrix(cfs,classes=class_names,title=\"Original: Confusuion Matrix\")\n",
        "print(classification_report(testLabelE,y_te_pred2))"
      ],
      "metadata": {
        "colab": {
          "base_uri": "https://localhost:8080/",
          "height": 676
        },
        "id": "6O0zRxc5TS_n",
        "outputId": "2fa77594-92aa-46c5-9bc6-f7f8596a1bf3"
      },
      "execution_count": 43,
      "outputs": [
        {
          "output_type": "stream",
          "name": "stdout",
          "text": [
            "K-Nearest Neighbors Accuracy: 0.40546\n",
            "Confusion matrix, without normalization\n",
            "[[ 29   8   3   5  31  30]\n",
            " [ 44 189   2  19  48  34]\n",
            " [  1   0  12   7   1   0]\n",
            " [  0   6   6   5   1   0]\n",
            " [ 28   9   3   7  29  28]\n",
            " [119  40   1   8  99 137]]\n"
          ]
        },
        {
          "output_type": "display_data",
          "data": {
            "text/plain": [
              "<Figure size 432x288 with 2 Axes>"
            ],
            "image/png": "[encoded data removed]"
          },
          "metadata": {
            "needs_background": "light"
          }
        },
        {
          "output_type": "stream",
          "name": "stdout",
          "text": [
            "              precision    recall  f1-score   support\n",
            "\n",
            "           0       0.13      0.27      0.18       106\n",
            "           1       0.75      0.56      0.64       336\n",
            "           2       0.44      0.57      0.50        21\n",
            "           3       0.10      0.28      0.14        18\n",
            "           4       0.14      0.28      0.19       104\n",
            "           5       0.60      0.34      0.43       404\n",
            "\n",
            "    accuracy                           0.41       989\n",
            "   macro avg       0.36      0.38      0.35       989\n",
            "weighted avg       0.54      0.41      0.45       989\n",
            "\n"
          ]
        }
      ]
    },
    {
      "cell_type": "code",
      "source": [
        "knn = KNeighborsClassifier()\n",
        "from sklearn.model_selection import GridSearchCV\n",
        "k_range = list(range(1, 31))\n",
        "param_grid = dict(n_neighbors=k_range)\n",
        "  \n",
        "# defining parameter range\n",
        "grid = GridSearchCV(knn, param_grid, cv=10, scoring='accuracy', return_train_score=False,verbose=1)\n",
        "  \n",
        "# fitting the model for grid search\n",
        "grid_search=grid.fit(trainData,trainLabelE)"
      ],
      "metadata": {
        "id": "9_LFsPa80hWF",
        "outputId": "dc51cb12-0ca1-425d-afd8-d7cfbbd9e256",
        "colab": {
          "base_uri": "https://localhost:8080/"
        }
      },
      "execution_count": 44,
      "outputs": [
        {
          "output_type": "stream",
          "name": "stdout",
          "text": [
            "Fitting 10 folds for each of 30 candidates, totalling 300 fits\n"
          ]
        }
      ]
    },
    {
      "cell_type": "code",
      "source": [
        "print(grid_search.best_params_)"
      ],
      "metadata": {
        "id": "q6He1DfN1XuU",
        "outputId": "f8c822eb-84eb-4a0a-ed13-69d00e4762e8",
        "colab": {
          "base_uri": "https://localhost:8080/"
        }
      },
      "execution_count": 45,
      "outputs": [
        {
          "output_type": "stream",
          "name": "stdout",
          "text": [
            "{'n_neighbors': 1}\n"
          ]
        }
      ]
    },
    {
      "cell_type": "code",
      "source": [
        "accuracy = grid_search.best_score_ *100\n",
        "print(\"Accuracy for our training dataset with tuning is : {:.2f}%\".format(accuracy) )"
      ],
      "metadata": {
        "id": "l-9FAmdM1bAq",
        "outputId": "83939047-e109-44cf-a55f-cddd0131347f",
        "colab": {
          "base_uri": "https://localhost:8080/"
        }
      },
      "execution_count": 46,
      "outputs": [
        {
          "output_type": "stream",
          "name": "stdout",
          "text": [
            "Accuracy for our training dataset with tuning is : 77.55%\n"
          ]
        }
      ]
    },
    {
      "cell_type": "code",
      "source": [
        "knn = KNeighborsClassifier()\n",
        "from sklearn.model_selection import GridSearchCV\n",
        "k_range = list(range(1, 31))\n",
        "param_grid = dict(n_neighbors=k_range)\n",
        "  \n",
        "# defining parameter range\n",
        "grid = GridSearchCV(knn, param_grid, cv=10, scoring='accuracy', return_train_score=False,verbose=1)\n",
        "  \n",
        "# fitting the model for grid search\n",
        "grid_search=grid.fit(Scaled_trainData,trainLabelE)"
      ],
      "metadata": {
        "id": "VLnUVF8-1kPY",
        "outputId": "533c797a-c0ae-4543-bb19-5399a0560b0a",
        "colab": {
          "base_uri": "https://localhost:8080/"
        }
      },
      "execution_count": 47,
      "outputs": [
        {
          "output_type": "stream",
          "name": "stdout",
          "text": [
            "Fitting 10 folds for each of 30 candidates, totalling 300 fits\n"
          ]
        }
      ]
    },
    {
      "cell_type": "code",
      "source": [
        "print(grid_search.best_params_)\n",
        "accuracy = grid_search.best_score_ *100\n",
        "print(\"Accuracy for our training dataset with tuning is : {:.2f}%\".format(accuracy) )"
      ],
      "metadata": {
        "id": "pJGqAgVT1nqE",
        "outputId": "4b2765e1-5d91-4650-b6f5-4f314bfe21dc",
        "colab": {
          "base_uri": "https://localhost:8080/"
        }
      },
      "execution_count": 48,
      "outputs": [
        {
          "output_type": "stream",
          "name": "stdout",
          "text": [
            "{'n_neighbors': 1}\n",
            "Accuracy for our training dataset with tuning is : 95.14%\n"
          ]
        }
      ]
    },
    {
      "cell_type": "code",
      "source": [
        "clf2= KNeighborsClassifier(n_neighbors=1)\n",
        "knnModel2 = clf2.fit(Scaled_trainData,trainLabelE)\n",
        "y_te_pred2 = clf2.predict(Scaled_testData)\n",
        "\n",
        "acc2 = accuracy_score(testLabelE,y_te_pred2)\n",
        "print(\"K-Nearest Neighbors Accuracy: %.5f\" %(acc2)) #.907\n",
        "cfs=confusion_matrix(testLabelE,y_te_pred2)\n",
        "pyplot.figure()\n",
        "class_names = encoder.classes_\n",
        "plot_confusion_matrix(cfs,classes=class_names,title=\"Original: Confusuion Matrix\")\n",
        "print(classification_report(testLabelE,y_te_pred2))\n",
        "print(classification_report_imbalanced(testLabelE,y_te_pred2,     target_names=class_names))"
      ],
      "metadata": {
        "colab": {
          "base_uri": "https://localhost:8080/",
          "height": 867
        },
        "id": "ExwGHOlF_AmO",
        "outputId": "e7d52568-f089-49f3-a610-680e1ab442f5"
      },
      "execution_count": 49,
      "outputs": [
        {
          "output_type": "stream",
          "name": "stdout",
          "text": [
            "K-Nearest Neighbors Accuracy: 0.83418\n",
            "Confusion matrix, without normalization\n",
            "[[ 58   1   0   1  27  19]\n",
            " [  2 329   0   0   5   0]\n",
            " [  0   0  21   0   0   0]\n",
            " [  2   0   0  15   0   1]\n",
            " [ 35   0   0   0  60   9]\n",
            " [ 35   0   0   0  27 342]]\n"
          ]
        },
        {
          "output_type": "display_data",
          "data": {
            "text/plain": [
              "<Figure size 432x288 with 2 Axes>"
            ],
            "image/png": "[encoded data removed]"
          },
          "metadata": {
            "needs_background": "light"
          }
        },
        {
          "output_type": "stream",
          "name": "stdout",
          "text": [
            "              precision    recall  f1-score   support\n",
            "\n",
            "           0       0.44      0.55      0.49       106\n",
            "           1       1.00      0.98      0.99       336\n",
            "           2       1.00      1.00      1.00        21\n",
            "           3       0.94      0.83      0.88        18\n",
            "           4       0.50      0.58      0.54       104\n",
            "           5       0.92      0.85      0.88       404\n",
            "\n",
            "    accuracy                           0.83       989\n",
            "   macro avg       0.80      0.80      0.80       989\n",
            "weighted avg       0.85      0.83      0.84       989\n",
            "\n",
            "                   pre       rec       spe        f1       geo       iba       sup\n",
            "\n",
            " Downstairs       0.44      0.55      0.92      0.49      0.71      0.48       106\n",
            "    Jogging       1.00      0.98      1.00      0.99      0.99      0.98       336\n",
            "    Sitting       1.00      1.00      1.00      1.00      1.00      1.00        21\n",
            "   Standing       0.94      0.83      1.00      0.88      0.91      0.82        18\n",
            "   Upstairs       0.50      0.58      0.93      0.54      0.73      0.52       104\n",
            "    Walking       0.92      0.85      0.95      0.88      0.90      0.80       404\n",
            "\n",
            "avg / total       0.85      0.83      0.96      0.84      0.89      0.80       989\n",
            "\n"
          ]
        }
      ]
    },
    {
      "cell_type": "code",
      "source": [
        "clf2= KNeighborsClassifier(n_neighbors=4)\n",
        "knnModel2 = clf2.fit(Scaled_trainData,trainLabelE)\n",
        "y_te_pred2 = clf2.predict(Scaled_testData)\n",
        "\n",
        "acc2 = accuracy_score(testLabelE,y_te_pred2)\n",
        "print(\"K-Nearest Neighbors Accuracy: %.5f\" %(acc2)) #.907\n",
        "cfs=confusion_matrix(testLabelE,y_te_pred2)\n",
        "pyplot.figure()\n",
        "class_names = encoder.classes_\n",
        "plot_confusion_matrix(cfs,classes=class_names,title=\"Original: Confusuion Matrix\")\n",
        "print(classification_report(testLabelE,y_te_pred2))\n",
        "print(classification_report_imbalanced(testLabelE,y_te_pred2,     target_names=class_names))"
      ],
      "metadata": {
        "id": "hTjxRb4fxIPr",
        "outputId": "766790fa-f26f-40ff-a737-475057cac3bc",
        "colab": {
          "base_uri": "https://localhost:8080/",
          "height": 867
        }
      },
      "execution_count": 50,
      "outputs": [
        {
          "output_type": "stream",
          "name": "stdout",
          "text": [
            "K-Nearest Neighbors Accuracy: 0.78564\n",
            "Confusion matrix, without normalization\n",
            "[[ 73   1   0   1  23   8]\n",
            " [  1 331   0   0   4   0]\n",
            " [  0   0  21   0   0   0]\n",
            " [  1   0   0  16   1   0]\n",
            " [ 42   1   0   0  54   7]\n",
            " [ 73   0   0   0  49 282]]\n"
          ]
        },
        {
          "output_type": "display_data",
          "data": {
            "text/plain": [
              "<Figure size 432x288 with 2 Axes>"
            ],
            "image/png": "[encoded data removed]"
          },
          "metadata": {
            "needs_background": "light"
          }
        },
        {
          "output_type": "stream",
          "name": "stdout",
          "text": [
            "              precision    recall  f1-score   support\n",
            "\n",
            "           0       0.38      0.69      0.49       106\n",
            "           1       0.99      0.99      0.99       336\n",
            "           2       1.00      1.00      1.00        21\n",
            "           3       0.94      0.89      0.91        18\n",
            "           4       0.41      0.52      0.46       104\n",
            "           5       0.95      0.70      0.80       404\n",
            "\n",
            "    accuracy                           0.79       989\n",
            "   macro avg       0.78      0.80      0.78       989\n",
            "weighted avg       0.85      0.79      0.80       989\n",
            "\n",
            "                   pre       rec       spe        f1       geo       iba       sup\n",
            "\n",
            " Downstairs       0.38      0.69      0.87      0.49      0.77      0.59       106\n",
            "    Jogging       0.99      0.99      1.00      0.99      0.99      0.98       336\n",
            "    Sitting       1.00      1.00      1.00      1.00      1.00      1.00        21\n",
            "   Standing       0.94      0.89      1.00      0.91      0.94      0.88        18\n",
            "   Upstairs       0.41      0.52      0.91      0.46      0.69      0.46       104\n",
            "    Walking       0.95      0.70      0.97      0.80      0.82      0.66       404\n",
            "\n",
            "avg / total       0.85      0.79      0.97      0.80      0.87      0.75       989\n",
            "\n"
          ]
        }
      ]
    },
    {
      "cell_type": "code",
      "source": [
        "from sklearn import svm\n",
        "\n",
        "model = svm.SVC(kernel='rbf') \n",
        "model.fit(Scaled_trainData,trainLabelE)\n",
        "y_pred= model.predict(Scaled_testData)\n",
        "\n",
        "acc2 = accuracy_score(testLabelE,y_pred)\n",
        "print(\"K-Nearest Neighbors Accuracy: %.5f\" %(acc2)) #.907\n",
        "cfs=confusion_matrix(testLabelE,y_pred)\n",
        "pyplot.figure()\n",
        "class_names = encoder.classes_\n",
        "plot_confusion_matrix(cfs,classes=class_names,title=\"Original: Confusuion Matrix\")\n",
        "print(classification_report(testLabelE,y_pred))\n",
        "print(classification_report_imbalanced(testLabelE,y_te_pred2,     target_names=class_names))"
      ],
      "metadata": {
        "id": "W6ljUTWN7kTv",
        "outputId": "1d600d7c-18de-4a7d-fd93-f12fe5d22499",
        "colab": {
          "base_uri": "https://localhost:8080/",
          "height": 867
        }
      },
      "execution_count": 51,
      "outputs": [
        {
          "output_type": "stream",
          "name": "stdout",
          "text": [
            "K-Nearest Neighbors Accuracy: 0.78969\n",
            "Confusion matrix, without normalization\n",
            "[[ 51   3   0   1  29  22]\n",
            " [  1 332   0   0   3   0]\n",
            " [  0   0  21   0   0   0]\n",
            " [  0   0   1  16   1   0]\n",
            " [ 27   6   0   0  50  21]\n",
            " [ 64   0   0   0  29 311]]\n"
          ]
        },
        {
          "output_type": "display_data",
          "data": {
            "text/plain": [
              "<Figure size 432x288 with 2 Axes>"
            ],
            "image/png": "[encoded data removed]"
          },
          "metadata": {
            "needs_background": "light"
          }
        },
        {
          "output_type": "stream",
          "name": "stdout",
          "text": [
            "              precision    recall  f1-score   support\n",
            "\n",
            "           0       0.36      0.48      0.41       106\n",
            "           1       0.97      0.99      0.98       336\n",
            "           2       0.95      1.00      0.98        21\n",
            "           3       0.94      0.89      0.91        18\n",
            "           4       0.45      0.48      0.46       104\n",
            "           5       0.88      0.77      0.82       404\n",
            "\n",
            "    accuracy                           0.79       989\n",
            "   macro avg       0.76      0.77      0.76       989\n",
            "weighted avg       0.81      0.79      0.80       989\n",
            "\n",
            "                   pre       rec       spe        f1       geo       iba       sup\n",
            "\n",
            " Downstairs       0.38      0.69      0.87      0.49      0.77      0.59       106\n",
            "    Jogging       0.99      0.99      1.00      0.99      0.99      0.98       336\n",
            "    Sitting       1.00      1.00      1.00      1.00      1.00      1.00        21\n",
            "   Standing       0.94      0.89      1.00      0.91      0.94      0.88        18\n",
            "   Upstairs       0.41      0.52      0.91      0.46      0.69      0.46       104\n",
            "    Walking       0.95      0.70      0.97      0.80      0.82      0.66       404\n",
            "\n",
            "avg / total       0.85      0.79      0.97      0.80      0.87      0.75       989\n",
            "\n"
          ]
        }
      ]
    },
    {
      "cell_type": "code",
      "source": [
        "from xgboost import XGBClassifier\n",
        "model = XGBClassifier() \n",
        "model.fit(Scaled_trainData,trainLabelE)\n",
        "y_pred= model.predict(Scaled_testData)\n",
        "\n",
        "acc2 = accuracy_score(testLabelE,y_pred)\n",
        "print(\"K-Nearest Neighbors Accuracy: %.5f\" %(acc2)) #.907\n",
        "cfs=confusion_matrix(testLabelE,y_pred)\n",
        "pyplot.figure()\n",
        "class_names = encoder.classes_\n",
        "plot_confusion_matrix(cfs,classes=class_names,title=\"Original: Confusuion Matrix\")\n",
        "print(classification_report(testLabelE,y_pred))\n",
        "print(classification_report_imbalanced(testLabelE,y_te_pred2,     target_names=class_names))"
      ],
      "metadata": {
        "id": "gkkfqZQo9bzA",
        "outputId": "7bbd6365-488d-40fe-c49c-0679eb047d44",
        "colab": {
          "base_uri": "https://localhost:8080/",
          "height": 867
        }
      },
      "execution_count": 52,
      "outputs": [
        {
          "output_type": "stream",
          "name": "stdout",
          "text": [
            "K-Nearest Neighbors Accuracy: 0.86653\n",
            "Confusion matrix, without normalization\n",
            "[[ 50   0   1   0  25  30]\n",
            " [  3 328   0   0   1   4]\n",
            " [  0   0  20   0   1   0]\n",
            " [  2   0   0  16   0   0]\n",
            " [ 18   5   0   0  70  11]\n",
            " [ 16   0   2   0  13 373]]\n"
          ]
        },
        {
          "output_type": "display_data",
          "data": {
            "text/plain": [
              "<Figure size 432x288 with 2 Axes>"
            ],
            "image/png": "[encoded data removed]"
          },
          "metadata": {
            "needs_background": "light"
          }
        },
        {
          "output_type": "stream",
          "name": "stdout",
          "text": [
            "              precision    recall  f1-score   support\n",
            "\n",
            "           0       0.56      0.47      0.51       106\n",
            "           1       0.98      0.98      0.98       336\n",
            "           2       0.87      0.95      0.91        21\n",
            "           3       1.00      0.89      0.94        18\n",
            "           4       0.64      0.67      0.65       104\n",
            "           5       0.89      0.92      0.91       404\n",
            "\n",
            "    accuracy                           0.87       989\n",
            "   macro avg       0.82      0.81      0.82       989\n",
            "weighted avg       0.86      0.87      0.86       989\n",
            "\n",
            "                   pre       rec       spe        f1       geo       iba       sup\n",
            "\n",
            " Downstairs       0.38      0.69      0.87      0.49      0.77      0.59       106\n",
            "    Jogging       0.99      0.99      1.00      0.99      0.99      0.98       336\n",
            "    Sitting       1.00      1.00      1.00      1.00      1.00      1.00        21\n",
            "   Standing       0.94      0.89      1.00      0.91      0.94      0.88        18\n",
            "   Upstairs       0.41      0.52      0.91      0.46      0.69      0.46       104\n",
            "    Walking       0.95      0.70      0.97      0.80      0.82      0.66       404\n",
            "\n",
            "avg / total       0.85      0.79      0.97      0.80      0.87      0.75       989\n",
            "\n"
          ]
        }
      ]
    }
  ]
}