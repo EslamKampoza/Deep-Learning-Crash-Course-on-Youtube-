{
  "nbformat": 4,
  "nbformat_minor": 0,
  "metadata": {
    "colab": {
      "provenance": [],
      "authorship_tag": "ABX9TyM5gZaI2WqQ6XUuLCQyVxrh",
      "include_colab_link": true
    },
    "kernelspec": {
      "name": "python3",
      "display_name": "Python 3"
    },
    "language_info": {
      "name": "python"
    }
  },
  "cells": [
    {
      "cell_type": "markdown",
      "metadata": {
        "id": "view-in-github",
        "colab_type": "text"
      },
      "source": [
        "<a href=\"https://colab.research.google.com/github/EslamKampoza/machine-intelligence-paper-/blob/main/Oppo2_no_smote2-1-2023.ipynb\" target=\"_parent\"><img src=\"https://colab.research.google.com/assets/colab-badge.svg\" alt=\"Open In Colab\"/></a>"
      ]
    },
    {
      "cell_type": "code",
      "execution_count": 15,
      "metadata": {
        "id": "lZmt3evkC4fy"
      },
      "outputs": [],
      "source": [
        "import pandas as pd\n",
        "import numpy as np\n",
        "import matplotlib.pyplot as plt\n",
        "from scipy import stats\n",
        "import tensorflow as tf\n",
        "from sklearn import metrics\n",
        "import h5py\n",
        "import matplotlib.pyplot as plt\n",
        "from tensorflow.keras import regularizers\n",
        "from tensorflow.keras.layers import Input, Conv2D, Dense, Flatten, Dropout, SimpleRNN, GRU, LSTM, GlobalMaxPooling1D,GlobalMaxPooling2D,MaxPooling2D,BatchNormalization\n",
        "from tensorflow.keras.models import Model\n",
        "from tensorflow.keras.optimizers import Adam\n",
        "from sklearn.preprocessing import MinMaxScaler, StandardScaler\n",
        "from sklearn.model_selection import train_test_split\n",
        "from sklearn.metrics import confusion_matrix\n",
        "import itertools"
      ]
    },
    {
      "cell_type": "code",
      "source": [
        "from google.colab import drive\n",
        "drive.mount('/content/drive')"
      ],
      "metadata": {
        "colab": {
          "base_uri": "https://localhost:8080/"
        },
        "id": "tLmn1C2CC5kQ",
        "outputId": "c543755c-7914-4f57-88e4-84533cef1404"
      },
      "execution_count": 16,
      "outputs": [
        {
          "output_type": "stream",
          "name": "stdout",
          "text": [
            "Drive already mounted at /content/drive; to attempt to forcibly remount, call drive.mount(\"/content/drive\", force_remount=True).\n"
          ]
        }
      ]
    },
    {
      "cell_type": "code",
      "source": [
        "class models():\n",
        "    def __init__(self, path):\n",
        "        self.path = path\n",
        "       \n",
        "    \n",
        "    def read_h5(self):\n",
        "        f = h5py.File(path, 'r')\n",
        "        X = f.get('inputs')\n",
        "        y = f.get('labels') \n",
        "        #print(type(X))\n",
        "        #print(type(y))\n",
        "        self.X = np.array(X)\n",
        "        self.y = np.array(y)\n",
        "        self.x_train, self.x_test, self.y_train, self.y_test = train_test_split(self.X, self.y, test_size=0.4, random_state = 1)\n",
        "    \n",
        "        print(\"X = \", self.X.shape)\n",
        "        print(\"y =\",self.y.shape)\n",
        "        print(set(self.y))\n",
        "        #return X,y\n",
        "    \n",
        "    def cnn_model(self):\n",
        "       # K = len(set(y_train))\n",
        "        #print(K)\n",
        "        K = len(set(self.y))\n",
        "        #X = np.expand_dims(X, -1)\n",
        "        self.x_train = np.expand_dims(self.x_train, -1)\n",
        "        self.x_test = np.expand_dims(self.x_test,-1)\n",
        "        #print(X)\n",
        "        #print(X[0].shape)\n",
        "        #i = Input(shape=X[0].shape)\n",
        "        i = Input(shape=self.x_train[0].shape)\n",
        "        x = Conv2D(32, (3,3), strides = 2, activation = 'relu',padding='same',kernel_regularizer=regularizers.l2(0.0005))(i)\n",
        "        x = BatchNormalization()(x)\n",
        "        x = MaxPooling2D((2,2))(x)\n",
        "        x = Dropout(0.2)(x)\n",
        "        x = Conv2D(64, (3,3), strides = 2, activation = 'relu',padding='same',kernel_regularizer=regularizers.l2(0.0005))(x)\n",
        "        x = BatchNormalization()(x)\n",
        "        x = Dropout(0.4)(x)\n",
        "        x = Conv2D(128, (3,3), strides = 2, activation = 'relu',padding='same',kernel_regularizer=regularizers.l2(0.0005))(x)\n",
        "        x = BatchNormalization()(x)\n",
        "        x = MaxPooling2D((2,2))(x)\n",
        "        x = Dropout(0.2)(x)\n",
        "        x = Flatten()(x)    \n",
        "        x = Dropout(0.2)(x)\n",
        "        x = Dense(1024,activation = 'relu')(x)\n",
        "        x = Dropout(0.2)(x)\n",
        "        x = Dense(K, activation = 'softmax')(x)       \n",
        "        self.model = Model(i,x)\n",
        "        self.model.compile(optimizer = Adam(lr=0.001),\n",
        "              loss = 'sparse_categorical_crossentropy',\n",
        "              metrics = ['accuracy'])\n",
        "\n",
        "        #self.r = model.fit(X, y, validation_split = 0.4, epochs = 50, batch_size = 32 )\n",
        "        self.r = self.model.fit(self.x_train, self.y_train, validation_data = (self.x_test, self.y_test), epochs = 50, batch_size = 32 )\n",
        "        print(self.model.summary())\n",
        "        # It is better than using keras do the splitting!!\n",
        "        return self.r\n",
        "    \n",
        "    def dnn_model(self):\n",
        "       # K = len(set(y_train))\n",
        "        #print(K)\n",
        "        K = len(set(self.y))\n",
        "        print(self.x_train[0].shape)\n",
        "        i = Input(shape=self.x_train[0].shape)\n",
        "        x = Flatten()(i)\n",
        "        x = Dense(128,activation = 'relu')(x)\n",
        "        x = Dense(128,activation = 'relu')(x)\n",
        "        x = Dropout(0.2)(x)\n",
        "        x = Dense(256,activation = 'relu')(x)\n",
        "        x = Dense(256,activation = 'relu')(x)\n",
        "        x = Dense(256,activation = 'relu')(x)\n",
        "        #x = Dropout(0.2)(x)\n",
        "        x = Dense(1024,activation = 'relu')(x)\n",
        "        x = Dense(K,activation = 'softmax')(x)\n",
        "        self.model = Model(i,x)      \n",
        "        self.model.compile(optimizer = Adam(lr=0.001),\n",
        "              loss = 'sparse_categorical_crossentropy',\n",
        "              metrics = ['accuracy'])\n",
        "        \n",
        "        '''\n",
        "        K = len(set(self.y))\n",
        "        model = tf.keras.models.Sequential([\n",
        "        tf.keras.layers.Flatten(input_shape=self.x_train[0].shape),\n",
        "        tf.keras.layers.Dense(256, activation = 'relu'),\n",
        "        tf.keras.layers.Dropout(0.5),\n",
        "        tf.keras.layers.Dense(256, activation = 'relu'),\n",
        "        tf.keras.layers.Dropout(0.2),\n",
        "        tf.keras.layers.Dense(K,activation = 'softmax')\n",
        "        ])\n",
        "        model.compile(optimizer = Adam(lr=0.0005),\n",
        "              loss = 'sparse_categorical_crossentropy',\n",
        "              metrics = ['accuracy'])\n",
        "        '''\n",
        "        self.r = self.model.fit(self.x_train, self.y_train, validation_data = (self.x_test, self.y_test), epochs = 50 )\n",
        "        print(self.model.summary())\n",
        "        return self.r\n",
        "    \n",
        "\n",
        "    def rnn_model(self):\n",
        "        K = len(set(self.y))\n",
        "        i = Input(shape = self.x_train[0].shape)\n",
        "        x = LSTM(256, return_sequences=True)(i)\n",
        "        x = Dense(128,activation = 'relu')(x)\n",
        "        x = GlobalMaxPooling1D()(x)\n",
        "        x = Dense(K,activation = 'softmax')(x)\n",
        "        self.model = Model(i,x)      \n",
        "        self.model.compile(optimizer = Adam(lr=0.001),\n",
        "              loss = 'sparse_categorical_crossentropy',\n",
        "              metrics = ['accuracy'])\n",
        "        self.r = self.model.fit(self.x_train, self.y_train, validation_data = (self.x_test, self.y_test), epochs = 50, batch_size = 32 )\n",
        "        #self.r = model.fit(X, y, validation_split = 0.2, epochs = 10, batch_size = 32 )\n",
        "        print(self.model.summary())\n",
        "        return self.r\n",
        "   \n",
        "    def draw(self):\n",
        "        f1 = plt.figure(1)\n",
        "        plt.title('Loss')\n",
        "        plt.plot(self.r.history['loss'], label = 'loss')\n",
        "        plt.plot(self.r.history['val_loss'], label = 'val_loss')\n",
        "        plt.legend()\n",
        "        f1.show()\n",
        "        \n",
        "        f2 = plt.figure(2)\n",
        "        plt.plot(self.r.history['acc'], label = 'accuracy')\n",
        "        plt.plot(self.r.history['val_acc'], label = 'val_accuracy')\n",
        "        plt.legend()\n",
        "        f2.show()\n",
        "        \n",
        "    # summary, confusion matrix and heatmap\n",
        "    def con_matrix(self):\n",
        "        K = len(set(self.y_train))\n",
        "        self.y_pred = self.model.predict(self.x_test).argmax(axis=1)\n",
        "        cm = confusion_matrix(self.y_test,self.y_pred)\n",
        "        self.plot_confusion_matrix(cm,list(range(K)))\n",
        "            \n",
        "    \n",
        "    def plot_confusion_matrix(self, cm, classes, normalize = False, title='Confusion matrix', cmap=plt.cm.Blues):\n",
        "        if normalize:\n",
        "            cm = cm.astype('float') / cm.sum(axis=1)[:,np.newaxis]\n",
        "            print(\"Normalized confusion matrix\")\n",
        "        else:\n",
        "            print(\"Confusion matrix, without normalization\")\n",
        "        print(cm)\n",
        "        f3 = plt.figure(3)\n",
        "        plt.imshow(cm, interpolation='nearest', cmap=cmap)\n",
        "        plt.title(title)\n",
        "        plt.colorbar()\n",
        "        tick_marks = np.arange(len(classes))\n",
        "        plt.xticks(tick_marks, classes, rotation=45)\n",
        "        plt.yticks(tick_marks, classes)\n",
        "        \n",
        "        fmt = '.2f' if normalize else 'd'\n",
        "        thresh = cm.max()/2.\n",
        "        for i, j in itertools.product(range(cm.shape[0]), range(cm.shape[1])):\n",
        "            plt.text(j, i, format(cm[i, j], fmt),\n",
        "                     horizontalalignment = \"center\",\n",
        "                     color = \"white\" if cm[i, j] > thresh else \"black\")\n",
        "            plt.tight_layout()\n",
        "            plt.ylabel('True label')\n",
        "            plt.xlabel('predicted label')\n",
        "            f3.show()\n",
        "\n"
      ],
      "metadata": {
        "id": "tUQw-iOYC7vy"
      },
      "execution_count": 17,
      "outputs": []
    },
    {
      "cell_type": "code",
      "source": [
        "model_name = \"rnn\" # can be cnn/dnn/rnn\n",
        "loco = False # True is to use locomotion as labels. False is to use high level activities as labels\n",
        "#path = \"loco_2.h5\"\n",
        "path = \"\"\n",
        "if loco:\n",
        "    path = \"./drive/MyDrive/datasets/loco_2.h5\"\n",
        "else:\n",
        "    path = \"./drive/MyDrive/datasets/hl_2.h5\"\n",
        "        \n",
        "oppo = models(path)\n",
        "    \n",
        "print(\"read h5 file....\")\n",
        "oppo.read_h5()   \n",
        "#if model_name == \"cnn\":\n",
        "#    oppo.cnn_model()\n",
        "#elif model_name == \"dnn\":\n",
        "#     oppo.dnn_model()\n",
        "#elif model_name == \"rnn\":\n",
        "#     oppo.rnn_model()\n",
        "#oppo.draw()\n",
        "#oppo.con_matrix()"
      ],
      "metadata": {
        "colab": {
          "base_uri": "https://localhost:8080/"
        },
        "id": "F4nLtuX2DHCz",
        "outputId": "1cb3d70d-9bc2-4582-fd96-924f25702fa7"
      },
      "execution_count": 18,
      "outputs": [
        {
          "output_type": "stream",
          "name": "stdout",
          "text": [
            "read h5 file....\n",
            "X =  (34181, 25, 220)\n",
            "y = (34181,)\n",
            "{0, 1, 2, 3, 4}\n"
          ]
        }
      ]
    },
    {
      "cell_type": "code",
      "source": [
        "unique,counts = np.unique(oppo.y,return_counts = True)\n",
        "dict(zip(unique,counts))"
      ],
      "metadata": {
        "colab": {
          "base_uri": "https://localhost:8080/"
        },
        "id": "oJ1jkSboDK15",
        "outputId": "ab361df1-34ef-47b2-e8b2-91a704696c9f"
      },
      "execution_count": 19,
      "outputs": [
        {
          "output_type": "execute_result",
          "data": {
            "text/plain": [
              "{0: 1239, 1: 6066, 2: 9471, 3: 5585, 4: 11820}"
            ]
          },
          "metadata": {},
          "execution_count": 19
        }
      ]
    },
    {
      "cell_type": "code",
      "source": [
        "from imblearn.over_sampling import SMOTE\n",
        "from matplotlib import pyplot\n",
        "from sklearn.metrics import classification_report"
      ],
      "metadata": {
        "id": "7fu_ML5ADa3v"
      },
      "execution_count": 20,
      "outputs": []
    },
    {
      "cell_type": "code",
      "source": [
        "##Ploting Confusion Matrix\n",
        "def plot_confusion_matrix (cm, classes, normalize=False, title='Confusion Matrix', cmap=pyplot.cm.Blues,\n",
        "                           decsnTreeClf=None):\n",
        "    #This function prints and plots the confusion matrix.\n",
        "    pyplot.imshow(cm,interpolation='nearest',cmap=cmap)\n",
        "    pyplot.title(title)\n",
        "    pyplot.colorbar()\n",
        "    tick_marks=np.arange(len(classes))\n",
        "    pyplot.xticks(tick_marks,classes,rotation=45)\n",
        "    pyplot.yticks(tick_marks,classes)\n",
        "\n",
        "    if normalize:\n",
        "        cm = cm.astype('float') / cm.sum(axis=1)[:,np.newaxis]\n",
        "        print(\"Normalized confusion matrix\")\n",
        "    else:\n",
        "        print(\"Confusion matrix, without normalization\")\n",
        "\n",
        "    print(cm)\n",
        "\n",
        "    thresh = cm.max()/2.\n",
        "    for i,j in itertools.product(range(cm.shape[0]), range(cm.shape[1])):\n",
        "        pyplot.text(j,i,cm[i,j],horizontalalignment=\"center\", color=\"white\" if cm[i,j]> thresh else \"black\" )\n",
        "\n",
        "    pyplot.tight_layout()\n",
        "    pyplot.ylabel('True Label')\n",
        "    pyplot.xlabel('Predicted Label')\n",
        "    pyplot.show()"
      ],
      "metadata": {
        "id": "nANCc6gADehi"
      },
      "execution_count": 21,
      "outputs": []
    },
    {
      "cell_type": "code",
      "source": [
        "xshape = oppo.x_train.shape\n",
        "newx_train = oppo.x_train.reshape(xshape[0],(xshape[1]*xshape[2]))"
      ],
      "metadata": {
        "id": "OpeVhwbfDmLT"
      },
      "execution_count": 22,
      "outputs": []
    },
    {
      "cell_type": "code",
      "source": [
        "xshape = oppo.x_test.shape\n",
        "newx_test = oppo.x_test.reshape(xshape[0],(xshape[1]*xshape[2]))"
      ],
      "metadata": {
        "id": "Xu8_rRVUDrVG"
      },
      "execution_count": 23,
      "outputs": []
    },
    {
      "cell_type": "code",
      "source": [
        "from sklearn.preprocessing import LabelEncoder, StandardScaler , MinMaxScaler\n",
        "scaler = MinMaxScaler()\n",
        "scaler.fit(newx_train)\n",
        "trainData = scaler.transform(newx_train)\n",
        "testData = scaler.transform(newx_test)"
      ],
      "metadata": {
        "id": "MNXb9uukDsT3"
      },
      "execution_count": 24,
      "outputs": []
    },
    {
      "cell_type": "code",
      "source": [
        "#encoding Labels\n",
        "\n",
        "encoder = LabelEncoder()\n",
        "\n",
        "#encoding test labels\n",
        "\n",
        "encoder.fit(oppo.y_test)\n",
        "testLabelE = encoder.transform(oppo.y_test)\n",
        "\n",
        "#encoding train labels\n",
        "\n",
        "encoder.fit(oppo.y_train)\n",
        "trainLabelE = encoder.transform(oppo.y_train)"
      ],
      "metadata": {
        "id": "4GbUnlLrD0LR"
      },
      "execution_count": 25,
      "outputs": []
    },
    {
      "cell_type": "code",
      "source": [
        "from sklearn.metrics import classification_report\n",
        "from sklearn.neighbors import KNeighborsClassifier\n",
        "from sklearn.metrics import confusion_matrix,accuracy_score\n",
        "from imblearn.metrics import classification_report_imbalanced\n",
        "clf2= KNeighborsClassifier(n_neighbors=4)\n",
        "knnModel2 = clf2.fit(trainData,trainLabelE)\n",
        "y_te_pred2 = clf2.predict(testData)\n",
        "\n",
        "acc2 = accuracy_score(testLabelE,y_te_pred2)\n",
        "print(\"K-Nearest Neighbors Accuracy: %.5f\" %(acc2)) #.907\n",
        "cfs=confusion_matrix(oppo.y_test,y_te_pred2)\n",
        "pyplot.figure()\n",
        "class_names = encoder.classes_\n",
        "plot_confusion_matrix(cfs,classes=class_names,title=\"Original: Confusuion Matrix\")\n",
        "print(classification_report(oppo.y_test,y_te_pred2))\n",
        "print(classification_report_imbalanced(testLabelE,y_te_pred2))"
      ],
      "metadata": {
        "colab": {
          "base_uri": "https://localhost:8080/",
          "height": 814
        },
        "id": "W9NSQ__0D8mi",
        "outputId": "9f193c46-81e9-4beb-97e9-3b09528ec278"
      },
      "execution_count": 26,
      "outputs": [
        {
          "output_type": "stream",
          "name": "stdout",
          "text": [
            "K-Nearest Neighbors Accuracy: 0.98588\n",
            "Confusion matrix, without normalization\n",
            "[[ 463    0    1   11    0]\n",
            " [   0 2459   15    0    5]\n",
            " [   0   27 3721    0    1]\n",
            " [   3    8    2 2177   18]\n",
            " [   0   81    8   13 4660]]\n"
          ]
        },
        {
          "output_type": "display_data",
          "data": {
            "text/plain": [
              "<Figure size 432x288 with 2 Axes>"
            ],
            "image/png": "[encoded data removed]"
          },
          "metadata": {
            "needs_background": "light"
          }
        },
        {
          "output_type": "stream",
          "name": "stdout",
          "text": [
            "              precision    recall  f1-score   support\n",
            "\n",
            "           0       0.99      0.97      0.98       475\n",
            "           1       0.95      0.99      0.97      2479\n",
            "           2       0.99      0.99      0.99      3749\n",
            "           3       0.99      0.99      0.99      2208\n",
            "           4       0.99      0.98      0.99      4762\n",
            "\n",
            "    accuracy                           0.99     13673\n",
            "   macro avg       0.99      0.98      0.98     13673\n",
            "weighted avg       0.99      0.99      0.99     13673\n",
            "\n",
            "                   pre       rec       spe        f1       geo       iba       sup\n",
            "\n",
            "          0       0.99      0.97      1.00      0.98      0.99      0.97       475\n",
            "          1       0.95      0.99      0.99      0.97      0.99      0.98      2479\n",
            "          2       0.99      0.99      1.00      0.99      0.99      0.99      3749\n",
            "          3       0.99      0.99      1.00      0.99      0.99      0.98      2208\n",
            "          4       0.99      0.98      1.00      0.99      0.99      0.97      4762\n",
            "\n",
            "avg / total       0.99      0.99      1.00      0.99      0.99      0.98     13673\n",
            "\n"
          ]
        }
      ]
    }
  ]
}