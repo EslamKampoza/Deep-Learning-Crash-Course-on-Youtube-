{
  "cells": [
    {
      "cell_type": "markdown",
      "metadata": {
        "id": "view-in-github",
        "colab_type": "text"
      },
      "source": [
        "<a href=\"https://colab.research.google.com/github/EslamKampoza/Deep-Learning-Crash-Course-on-Youtube-/blob/main/unsup_smote.ipynb\" target=\"_parent\"><img src=\"https://colab.research.google.com/assets/colab-badge.svg\" alt=\"Open In Colab\"/></a>"
      ]
    },
    {
      "cell_type": "code",
      "execution_count": 140,
      "metadata": {
        "colab": {
          "base_uri": "https://localhost:8080/"
        },
        "id": "LFyFXfkfBB6H",
        "outputId": "19a90ca1-58ed-44fd-aa97-dd4a4dad96b7"
      },
      "outputs": [
        {
          "output_type": "stream",
          "name": "stdout",
          "text": [
            "Looking in indexes: https://pypi.org/simple, https://us-python.pkg.dev/colab-wheels/public/simple/\n",
            "Requirement already satisfied: metric-learn in /usr/local/lib/python3.7/dist-packages (0.6.2)\n",
            "Requirement already satisfied: scikit-learn>=0.20.3 in /usr/local/lib/python3.7/dist-packages (from metric-learn) (1.0.2)\n",
            "Requirement already satisfied: scipy in /usr/local/lib/python3.7/dist-packages (from metric-learn) (1.7.3)\n",
            "Requirement already satisfied: numpy in /usr/local/lib/python3.7/dist-packages (from metric-learn) (1.21.6)\n",
            "Requirement already satisfied: threadpoolctl>=2.0.0 in /usr/local/lib/python3.7/dist-packages (from scikit-learn>=0.20.3->metric-learn) (3.1.0)\n",
            "Requirement already satisfied: joblib>=0.11 in /usr/local/lib/python3.7/dist-packages (from scikit-learn>=0.20.3->metric-learn) (1.2.0)\n"
          ]
        }
      ],
      "source": [
        "!pip install metric-learn"
      ]
    },
    {
      "cell_type": "code",
      "execution_count": 141,
      "metadata": {
        "id": "BA0yo_4Izxs5"
      },
      "outputs": [],
      "source": [
        "import pandas as pd\n",
        "import time\n",
        "from matplotlib import pyplot\n",
        "import numpy as np\n",
        "import itertools\n",
        "from mpl_toolkits.mplot3d import Axes3D\n",
        "from sklearn.utils import shuffle\n",
        "from sklearn.preprocessing import LabelEncoder, StandardScaler , MinMaxScaler\n",
        "from sklearn.pipeline import Pipeline\n",
        "import sklearn.neural_network as nn\n",
        "from sklearn.metrics import confusion_matrix,accuracy_score\n",
        "from sklearn.linear_model import LogisticRegression\n",
        "from sklearn.model_selection import KFold, GridSearchCV, StratifiedKFold,cross_val_score\n",
        "from sklearn.feature_selection import RFE\n",
        "from sklearn.ensemble import ExtraTreesClassifier,AdaBoostClassifier,RandomForestClassifier\n",
        "from sklearn.tree import DecisionTreeClassifier\n",
        "from sklearn.decomposition import PCA\n",
        "from sklearn.neighbors import KNeighborsClassifier\n",
        "from sklearn.svm import SVC\n",
        "from sklearn.discriminant_analysis import QuadraticDiscriminantAnalysis, LinearDiscriminantAnalysis\n",
        "from sklearn.naive_bayes import GaussianNB\n",
        "from sklearn.manifold import TSNE\n",
        "from sklearn.metrics import classification_report\n",
        "#Neural Network\n",
        "from keras.models import Sequential\n",
        "from keras.layers import Dense, Dropout,Activation\n",
        "from keras.wrappers.scikit_learn import KerasClassifier\n",
        "from keras.utils.np_utils import to_categorical\n",
        "#from imblearn.over_sampling import SMOTE\n",
        "from sklearn.decomposition import TruncatedSVD"
      ]
    },
    {
      "cell_type": "code",
      "source": [
        "def plot_confusion_matrix (cm, classes, normalize=False, title='Confusion Matrix', cmap=pyplot.cm.Blues,\n",
        "                           decsnTreeClf=None):\n",
        "    #This function prints and plots the confusion matrix.\n",
        "    pyplot.imshow(cm,interpolation='nearest',cmap=cmap)\n",
        "    pyplot.title(title)\n",
        "    pyplot.colorbar()\n",
        "    tick_marks=np.arange(len(classes))\n",
        "    pyplot.xticks(tick_marks,classes,rotation=45)\n",
        "    pyplot.yticks(tick_marks,classes)\n",
        "\n",
        "    if normalize:\n",
        "        cm = cm.astype('float') / cm.sum(axis=1)[:,np.newaxis]\n",
        "        print(\"Normalized confusion matrix\")\n",
        "    else:\n",
        "        print(\"Confusion matrix, without normalization\")\n",
        "\n",
        "    print(cm)\n",
        "\n",
        "    thresh = cm.max()/2.\n",
        "    for i,j in itertools.product(range(cm.shape[0]), range(cm.shape[1])):\n",
        "        pyplot.text(j,i,cm[i,j],horizontalalignment=\"center\", color=\"white\" if cm[i,j]> thresh else \"black\" )\n",
        "\n",
        "    pyplot.tight_layout()\n",
        "    pyplot.ylabel('True Label')\n",
        "    pyplot.xlabel('Predicted Label')\n",
        "    pyplot.show()\n"
      ],
      "metadata": {
        "id": "b2mi9Npl88KO"
      },
      "execution_count": 142,
      "outputs": []
    },
    {
      "cell_type": "code",
      "source": [
        "train = pd.read_csv('WISDM.csv',header=None)\n",
        "train = train[(train != '?').all(axis=1)]\n",
        "#test = pd.read_csv('test.csv')\n",
        "labels = train[train.columns[len(train.columns)-1]]\n",
        "Data = train[train.columns[:-1]]\n",
        "peek=train.head()\n",
        "print(peek)\n",
        "print(train.shape)"
      ],
      "metadata": {
        "colab": {
          "base_uri": "https://localhost:8080/"
        },
        "id": "RxzKqCpL9C-2",
        "outputId": "57032519-2467-426f-a9f5-6d00dd825325"
      },
      "execution_count": 143,
      "outputs": [
        {
          "output_type": "stream",
          "name": "stdout",
          "text": [
            "   0     1     2     3     4     5     6     7     8     9   ...      35  \\\n",
            "0  33  0.04  0.09  0.14  0.12  0.11  0.10  0.08  0.13  0.13  ...  293.94   \n",
            "1  33  0.12  0.12  0.06  0.07  0.11  0.10  0.11  0.09  0.12  ...  269.44   \n",
            "2  33  0.14  0.09  0.11  0.09  0.09  0.11  0.12  0.08  0.05  ...  248.65   \n",
            "3  33  0.06  0.10  0.09  0.09  0.11  0.07  0.12  0.10  0.14  ...  709.09   \n",
            "4  33  0.12  0.11  0.10  0.08  0.10  0.14  0.10  0.11  0.08  ...    3300   \n",
            "\n",
            "        36    37    38    39    40    41    42     43       44  \n",
            "0     1550  3.29  7.21  4.00  4.05  8.17  4.05  11.96  Jogging  \n",
            "1  1233.33  4.23  6.88  4.05  5.43  8.19  5.43  12.05  Jogging  \n",
            "2     1780  4.18  6.89  4.07  5.55  8.19  5.55  11.99  Jogging  \n",
            "3     1380  2.26  4.13  2.49  2.87  4.95  2.87  10.69  Walking  \n",
            "4     1775  2.29  3.94  2.41  3.08  4.64  3.08  10.80  Walking  \n",
            "\n",
            "[5 rows x 45 columns]\n",
            "(4944, 45)\n"
          ]
        }
      ]
    },
    {
      "cell_type": "code",
      "source": [
        "import metric_learn"
      ],
      "metadata": {
        "id": "vr2aL0Wu9frM"
      },
      "execution_count": 144,
      "outputs": []
    },
    {
      "cell_type": "code",
      "source": [
        "encoder = LabelEncoder()\n",
        "\n",
        "#encoding test labels\n",
        "\n",
        "encoder.fit(labels)\n",
        "labels_int = encoder.transform(labels)"
      ],
      "metadata": {
        "id": "T3jDmwSd9uYX"
      },
      "execution_count": 145,
      "outputs": []
    },
    {
      "cell_type": "code",
      "source": [
        "!pip install skggm "
      ],
      "metadata": {
        "id": "QD9VdclokbAA",
        "outputId": "27345415-fdc9-43e7-80ef-cd9de1d374a8",
        "colab": {
          "base_uri": "https://localhost:8080/"
        }
      },
      "execution_count": 147,
      "outputs": [
        {
          "output_type": "stream",
          "name": "stdout",
          "text": [
            "Looking in indexes: https://pypi.org/simple, https://us-python.pkg.dev/colab-wheels/public/simple/\n",
            "Collecting skggm\n",
            "  Downloading skggm-0.2.8.tar.gz (191 kB)\n",
            "\u001b[K     |████████████████████████████████| 191 kB 8.4 MB/s \n",
            "\u001b[?25hRequirement already satisfied: Cython>=0.24 in /usr/local/lib/python3.7/dist-packages (from skggm) (0.29.32)\n",
            "Collecting nilearn>=0.2.4\n",
            "  Downloading nilearn-0.9.2-py3-none-any.whl (9.6 MB)\n",
            "\u001b[K     |████████████████████████████████| 9.6 MB 16.5 MB/s \n",
            "\u001b[?25hRequirement already satisfied: numpy>=1.12.1 in /usr/local/lib/python3.7/dist-packages (from skggm) (1.21.6)\n",
            "Requirement already satisfied: scikit-learn>=0.19 in /usr/local/lib/python3.7/dist-packages (from skggm) (1.0.2)\n",
            "Requirement already satisfied: scipy>=0.19.1 in /usr/local/lib/python3.7/dist-packages (from skggm) (1.7.3)\n",
            "Requirement already satisfied: pytest>=2.9.2 in /usr/local/lib/python3.7/dist-packages (from skggm) (3.6.4)\n",
            "Requirement already satisfied: seaborn>=0.7.1 in /usr/local/lib/python3.7/dist-packages (from skggm) (0.11.2)\n",
            "Collecting nose>=1.3.6\n",
            "  Downloading nose-1.3.7-py3-none-any.whl (154 kB)\n",
            "\u001b[K     |████████████████████████████████| 154 kB 64.4 MB/s \n",
            "\u001b[?25hCollecting tabulate==0.7.5\n",
            "  Downloading tabulate-0.7.5.tar.gz (29 kB)\n",
            "Collecting black==18.6b4\n",
            "  Downloading black-18.6b4-py36-none-any.whl (81 kB)\n",
            "\u001b[K     |████████████████████████████████| 81 kB 10.7 MB/s \n",
            "\u001b[?25hRequirement already satisfied: attrs>=17.4.0 in /usr/local/lib/python3.7/dist-packages (from black==18.6b4->skggm) (22.1.0)\n",
            "Requirement already satisfied: click>=6.5 in /usr/local/lib/python3.7/dist-packages (from black==18.6b4->skggm) (7.1.2)\n",
            "Requirement already satisfied: toml>=0.9.4 in /usr/local/lib/python3.7/dist-packages (from black==18.6b4->skggm) (0.10.2)\n",
            "Requirement already satisfied: appdirs in /usr/local/lib/python3.7/dist-packages (from black==18.6b4->skggm) (1.4.4)\n",
            "Requirement already satisfied: pandas>=1.0 in /usr/local/lib/python3.7/dist-packages (from nilearn>=0.2.4->skggm) (1.3.5)\n",
            "Requirement already satisfied: joblib>=0.15 in /usr/local/lib/python3.7/dist-packages (from nilearn>=0.2.4->skggm) (1.2.0)\n",
            "Requirement already satisfied: lxml in /usr/local/lib/python3.7/dist-packages (from nilearn>=0.2.4->skggm) (4.9.1)\n",
            "Requirement already satisfied: nibabel>=3.0.0 in /usr/local/lib/python3.7/dist-packages (from nilearn>=0.2.4->skggm) (3.0.2)\n",
            "Requirement already satisfied: requests>=2 in /usr/local/lib/python3.7/dist-packages (from nilearn>=0.2.4->skggm) (2.23.0)\n",
            "Requirement already satisfied: python-dateutil>=2.7.3 in /usr/local/lib/python3.7/dist-packages (from pandas>=1.0->nilearn>=0.2.4->skggm) (2.8.2)\n",
            "Requirement already satisfied: pytz>=2017.3 in /usr/local/lib/python3.7/dist-packages (from pandas>=1.0->nilearn>=0.2.4->skggm) (2022.6)\n",
            "Requirement already satisfied: six>=1.10.0 in /usr/local/lib/python3.7/dist-packages (from pytest>=2.9.2->skggm) (1.15.0)\n",
            "Requirement already satisfied: pluggy<0.8,>=0.5 in /usr/local/lib/python3.7/dist-packages (from pytest>=2.9.2->skggm) (0.7.1)\n",
            "Requirement already satisfied: more-itertools>=4.0.0 in /usr/local/lib/python3.7/dist-packages (from pytest>=2.9.2->skggm) (9.0.0)\n",
            "Requirement already satisfied: setuptools in /usr/local/lib/python3.7/dist-packages (from pytest>=2.9.2->skggm) (57.4.0)\n",
            "Requirement already satisfied: atomicwrites>=1.0 in /usr/local/lib/python3.7/dist-packages (from pytest>=2.9.2->skggm) (1.4.1)\n",
            "Requirement already satisfied: py>=1.5.0 in /usr/local/lib/python3.7/dist-packages (from pytest>=2.9.2->skggm) (1.11.0)\n",
            "Requirement already satisfied: chardet<4,>=3.0.2 in /usr/local/lib/python3.7/dist-packages (from requests>=2->nilearn>=0.2.4->skggm) (3.0.4)\n",
            "Requirement already satisfied: idna<3,>=2.5 in /usr/local/lib/python3.7/dist-packages (from requests>=2->nilearn>=0.2.4->skggm) (2.10)\n",
            "Requirement already satisfied: certifi>=2017.4.17 in /usr/local/lib/python3.7/dist-packages (from requests>=2->nilearn>=0.2.4->skggm) (2022.9.24)\n",
            "Requirement already satisfied: urllib3!=1.25.0,!=1.25.1,<1.26,>=1.21.1 in /usr/local/lib/python3.7/dist-packages (from requests>=2->nilearn>=0.2.4->skggm) (1.24.3)\n",
            "Requirement already satisfied: threadpoolctl>=2.0.0 in /usr/local/lib/python3.7/dist-packages (from scikit-learn>=0.19->skggm) (3.1.0)\n",
            "Requirement already satisfied: matplotlib>=2.2 in /usr/local/lib/python3.7/dist-packages (from seaborn>=0.7.1->skggm) (3.2.2)\n",
            "Requirement already satisfied: kiwisolver>=1.0.1 in /usr/local/lib/python3.7/dist-packages (from matplotlib>=2.2->seaborn>=0.7.1->skggm) (1.4.4)\n",
            "Requirement already satisfied: cycler>=0.10 in /usr/local/lib/python3.7/dist-packages (from matplotlib>=2.2->seaborn>=0.7.1->skggm) (0.11.0)\n",
            "Requirement already satisfied: pyparsing!=2.0.4,!=2.1.2,!=2.1.6,>=2.0.1 in /usr/local/lib/python3.7/dist-packages (from matplotlib>=2.2->seaborn>=0.7.1->skggm) (3.0.9)\n",
            "Requirement already satisfied: typing-extensions in /usr/local/lib/python3.7/dist-packages (from kiwisolver>=1.0.1->matplotlib>=2.2->seaborn>=0.7.1->skggm) (4.1.1)\n",
            "Building wheels for collected packages: skggm, tabulate\n",
            "  Building wheel for skggm (setup.py) ... \u001b[?25l\u001b[?25hdone\n",
            "  Created wheel for skggm: filename=skggm-0.2.8-cp37-cp37m-linux_x86_64.whl size=129886 sha256=d63bae9287f58d18f07d3ef246615cf407bcf983bdb531ee1b541cc55e54f255\n",
            "  Stored in directory: /root/.cache/pip/wheels/3a/71/bb/68ca67efee3bec146795fc27468d5d9cbcdc761da2831428ac\n",
            "  Building wheel for tabulate (setup.py) ... \u001b[?25l\u001b[?25hdone\n",
            "  Created wheel for tabulate: filename=tabulate-0.7.5-py3-none-any.whl size=17765 sha256=5d95750cee7b93d9666ff3a61ce10da3c2d1ac3721ff7e73a57dc861f805c71e\n",
            "  Stored in directory: /root/.cache/pip/wheels/24/86/23/c14c8f79bc67577fdfda95c301aeb7ca37b3bc9d30e91882d6\n",
            "Successfully built skggm tabulate\n",
            "Installing collected packages: tabulate, nose, nilearn, black, skggm\n",
            "  Attempting uninstall: tabulate\n",
            "    Found existing installation: tabulate 0.8.10\n",
            "    Uninstalling tabulate-0.8.10:\n",
            "      Successfully uninstalled tabulate-0.8.10\n",
            "Successfully installed black-18.6b4 nilearn-0.9.2 nose-1.3.7 skggm-0.2.8 tabulate-0.7.5\n"
          ]
        }
      ]
    },
    {
      "cell_type": "code",
      "source": [
        "#mmc = metric_learn.MMC_Supervised()\n",
        "#X_mmc = mmc.fit_transform(Data, labels_int)\n",
        "#mmc = metric_learn.SDML_Supervised()\n",
        "mmc =metric_learn.Covariance().fit(Data)\n",
        "#X_mmc = mmc.fit(Data, labels_int)"
      ],
      "metadata": {
        "id": "Hl7rdD8E9Idi"
      },
      "execution_count": 149,
      "outputs": []
    },
    {
      "cell_type": "code",
      "source": [
        "Data.shape"
      ],
      "metadata": {
        "colab": {
          "base_uri": "https://localhost:8080/"
        },
        "id": "YVU_WSVY9-Xr",
        "outputId": "e6c8e94c-aa93-4097-aa01-64689ff64804"
      },
      "execution_count": 150,
      "outputs": [
        {
          "output_type": "execute_result",
          "data": {
            "text/plain": [
              "(4944, 44)"
            ]
          },
          "metadata": {},
          "execution_count": 150
        }
      ]
    },
    {
      "cell_type": "code",
      "source": [
        "MM = mmc.get_mahalanobis_matrix()"
      ],
      "metadata": {
        "id": "-2-b7wCM-dF_"
      },
      "execution_count": 151,
      "outputs": []
    },
    {
      "cell_type": "code",
      "source": [
        "MM.shape"
      ],
      "metadata": {
        "colab": {
          "base_uri": "https://localhost:8080/"
        },
        "id": "GQAQesvA-keD",
        "outputId": "0d252dfd-b817-4dac-fabe-37a8740024fd"
      },
      "execution_count": 152,
      "outputs": [
        {
          "output_type": "execute_result",
          "data": {
            "text/plain": [
              "(44, 44)"
            ]
          },
          "metadata": {},
          "execution_count": 152
        }
      ]
    },
    {
      "cell_type": "code",
      "source": [
        "import numpy as np\n",
        "import random\n",
        "from sklearn.neighbors import NearestNeighbors\n",
        "import math\n",
        "from random import randint\n",
        "import matplotlib.pyplot as plt\n",
        "from sklearn.decomposition import PCA\n",
        "\n",
        "\n",
        "\n",
        "\n",
        "class Smote(object):\n",
        "\t\"\"\"docstring for Smote\"\"\"\n",
        "\n",
        "\tdef __init__(self,distance,MM):\n",
        "\t\tsuper(Smote, self).__init__()\n",
        "\t\tself.synthetic_arr=  []\n",
        "\t\tself.newindex = 0\n",
        "\t\tself.distance_measure = distance\n",
        "\t\tself.mmc = MM       \n",
        "\n",
        "\n",
        "\n",
        "\tdef Populate(self,N,i,indices,min_samples,k):\n",
        "\t\t\"\"\"\n",
        "    \t\tPopulates the synthitic array\n",
        "\n",
        "\n",
        "    \t\tReturns:Synthetic Array to generate_syntheic_points \n",
        "    \t\"\"\"\n",
        "\n",
        "\t\twhile N!=0:\n",
        "\t\t\tarr = []\n",
        "\t\t\tnn = randint(0,k-2)\n",
        "\t\t\tfeatures = len(min_samples[0])\n",
        "\t\t\t\n",
        "\t\t\tfor attr in range(features):\n",
        "\t\t\t\tdiff = min_samples[indices[nn]][attr] - min_samples[i][attr]\n",
        "\t\t\t\tgap = random.uniform(0,1)\n",
        "\t\t\t\tarr.append(min_samples[i][attr] + gap*diff)\n",
        "\t\t\t\n",
        "\t\t\tself.synthetic_arr.append(arr)\n",
        "\t\t\tself.newindex = self.newindex + 1\n",
        "\t\t\tN = N-1\n",
        "\n",
        "\n",
        "\n",
        "\tdef k_neighbors(self,euclid_distance,k):\n",
        "\t\tnearest_idx_npy = np.empty([euclid_distance.shape[0],euclid_distance.shape[0]],dtype=np.int64)\n",
        "\t\t\n",
        "\t\tfor i in range(len(euclid_distance)):\n",
        "\t\t\tidx = np.argsort(euclid_distance[i])\n",
        "\t\t\tnearest_idx_npy[i] = idx\n",
        "\t\t\tidx = 0\n",
        "\n",
        "\t\treturn nearest_idx_npy[:,1:k]\n",
        "\n",
        "\n",
        "\n",
        "\n",
        "\tdef find_k(self,X,k):\n",
        "\n",
        "\t\t\"\"\"\n",
        "   \t\t\tFinds k nearest neighbors using euclidian distance\n",
        "\n",
        "   \t\t\tReturns: The k nearest neighbor   \n",
        "    \t\"\"\"\n",
        "\n",
        "\n",
        "\n",
        "\n",
        "\t\teuclid_distance = np.empty([X.shape[0],X.shape[0]],dtype = np.float32)\n",
        "\t\t\n",
        "\t\tfor i in range(len(X)):\n",
        "\t\t\tdist_arr = []\n",
        "\t\t\tfor j in range(len(X)):\n",
        "\t\t\t\tdist_arr.append(math.sqrt(sum((X[j]-X[i])**2)))\n",
        "\t\t\tdist_arr = np.asarray(dist_arr,dtype = np.float32)\n",
        "\t\t\teuclid_distance[i] = dist_arr\n",
        "\n",
        "\t\treturn self.k_neighbors(euclid_distance,k)\n",
        "\n",
        "\n",
        "\n",
        "\n",
        "\n",
        "\n",
        "\tdef generate_synthetic_points(self,min_samples,N,k):\n",
        "\n",
        "\t\t\"\"\"\n",
        "    \t\tReturns (N/100) * n_minority_samples synthetic minority samples.\n",
        "    \t\tParameters\n",
        "    \t\t----------\n",
        "    \t\tmin_samples : Numpy_array-like, shape = [n_minority_samples, n_features]\n",
        "    \t\t    Holds the minority samples\n",
        "    \t\tN : percetange of new synthetic samples: \n",
        "    \t\t    n_synthetic_samples = N/100 * n_minority_samples. Can be < 100.\n",
        "    \t\tk : int. Number of nearest neighbours. \n",
        "    \t\tReturns\n",
        "    \t\t-------\n",
        "    \t\tS : Synthetic samples. array, \n",
        "    \t\t    shape = [(N/100) * n_minority_samples, n_features]. \n",
        "    \t\"\"\"\n",
        "\t\t\n",
        "\n",
        "\t\tif N < 100:\n",
        "\t\t\traise ValueError(\"Value of N cannot be less than 100%\")\n",
        "\n",
        "\t\tif self.distance_measure not in ('euclidian','ball_tree','Mahal'):\n",
        "\t\t\traise ValueError(\"Invalid Distance Measure.You can use only Euclidian or ball_tree\")\n",
        "\n",
        "\n",
        "\t\tif k>min_samples.shape[0]:\n",
        "\t\t\traise ValueError(\"Size of k cannot exceed the number of samples.\")\n",
        "\n",
        "\t\t\n",
        "\t\tN = int(N/100)\n",
        "\t\tT = min_samples.shape[0]\n",
        "\t\t\n",
        "\t\t\n",
        "\n",
        "\t\tif self.distance_measure == 'euclidian':\n",
        "\t\t\t\tindices = self.find_k(min_samples,k)\n",
        "\t\t\t\n",
        "\t\telif self.distance_measure=='ball_tree':\n",
        "\t\t\tnb = NearestNeighbors(n_neighbors = k,algorithm= 'ball_tree').fit(min_samples)\n",
        "\t\t\tdistance,indices = nb.kneighbors(min_samples)\n",
        "\t\t\tindices = indices[:,1:]\t\n",
        "\t\telif self.distance_measure=='Mahal':\n",
        "\t\t\tnb = NearestNeighbors(n_neighbors = k,metric = mmc.get_metric()).fit(min_samples)\n",
        "\t\t\tdistance,indices = nb.kneighbors(min_samples)\n",
        "\t\t\tindices = indices[:,1:]\t\n",
        "\n",
        "\n",
        "\t\tfor i in range(indices.shape[0]):\n",
        "\t\t\tself.Populate(N,i,indices[i],min_samples,k)\n",
        "\t\t\n",
        "\t\treturn np.asarray(self.synthetic_arr)\n",
        "\n",
        "\t\t\n",
        "\n",
        "\n",
        "\tdef plot_synthetic_points(self,min_samples,N,k):\n",
        "\t\t\"\"\"\n",
        "\n",
        "\t\t\tPlot the over sampled synthtic samples in a scatterplot\n",
        "\n",
        "\n",
        "\n",
        "\t\t\"\"\"\n",
        "\n",
        "\n",
        "\t\tif N < 100:\n",
        "\t\t\traise ValueError(\"Value of N cannot be less than 100%\")\n",
        "\n",
        "\t\tif self.distance_measure not in ('euclidian','ball_tree','Mahal'):\n",
        "\t\t\traise ValueError(\"Invalid Distance Measure.You can use only Euclidian or ball_tree\")\n",
        "\n",
        "\n",
        "\t\tif k>min_samples.shape[0]:\n",
        "\t\t\traise ValueError(\"Size of k cannot exceed the number of samples.\")\n",
        "\n",
        "\t\t\n",
        "\t\tsynthetic_points = self.generate_synthetic_points(min_samples,N,k)\n",
        "\t\t\n",
        "\t\tpca = PCA(n_components=2)\n",
        "\t\tpca.fit(synthetic_points)\n",
        "\t\tpca_synthetic_points = pca.transform(synthetic_points)\n",
        "\t\t\n",
        "\t\tplt.scatter(pca_synthetic_points[:,0],pca_synthetic_points[:,1])\n",
        "\t\tplt.show()\n",
        "\t\t"
      ],
      "metadata": {
        "id": "quwlQ-4LGE9n"
      },
      "execution_count": 153,
      "outputs": []
    },
    {
      "cell_type": "code",
      "source": [
        "mask = train[44] == 'Downstairs'\n",
        "Downstairs = train[mask]\n",
        "Downstairs = Downstairs.replace(\"Downstairs\", 1.0)\n",
        "N = (2029-507) * 100/507\n",
        "k = 12\n",
        "Downstairs = np.float_(Downstairs)\n",
        "smote_test1 = Smote('Mahal',mmc)\n",
        "new_dsta = smote_test1.generate_synthetic_points(Downstairs[:,:44],N,k)\n",
        "\n",
        "myclass = np.array([\"Downstairs\" for x in range(len(new_dsta))])\n",
        "#myclass = [\"Standing\" for x in range(1500)]\n",
        "myclass = myclass.reshape(len(new_dsta),1)\n",
        "new_dsta = np.hstack((new_dsta[:,:44],myclass))"
      ],
      "metadata": {
        "id": "mIPGLY55Ewql"
      },
      "execution_count": 154,
      "outputs": []
    },
    {
      "cell_type": "code",
      "source": [
        "mask = train[44] == 'Upstairs'\n",
        "Upstairs = train[mask]\n",
        "Upstairs = Upstairs.replace(\"Upstairs\", 1.0)\n",
        "N = (2029-587) * 100/587\n",
        "k = 12\n",
        "Upstairs = np.float_(Upstairs)\n",
        "smote_test1 = Smote('Mahal',mmc)\n",
        "new_Upsta= smote_test1.generate_synthetic_points(Upstairs[:,:44],N,k)\n",
        "myclass = np.array([\"Upstairs\" for x in range(len(new_Upsta))])\n",
        "#myclass = [\"Standing\" for x in range(1500)]\n",
        "myclass = myclass.reshape(len(new_Upsta),1)\n",
        "new_Upsta = np.hstack((new_Upsta[:,:44],myclass))"
      ],
      "metadata": {
        "id": "T2BNHR16G7kp"
      },
      "execution_count": 155,
      "outputs": []
    },
    {
      "cell_type": "code",
      "source": [
        "mask = train[44] == 'Sitting'\n",
        "Sitting = train[mask]\n",
        "Sitting = Sitting.replace(\"Sitting\", 2.0)\n",
        "N = (2029-134) * 100/134\n",
        "k = 12\n",
        "Sitting = np.float_(Sitting)\n",
        "smote_test1 = Smote('Mahal',mmc)\n",
        "new_Sit= smote_test1.generate_synthetic_points(Sitting[:,:44],N,k)\n",
        "myclass = np.array([\"Sitting\" for x in range(len(new_Sit))])\n",
        "#myclass = [\"Standing\" for x in range(1500)]\n",
        "myclass = myclass.reshape(len(new_Sit),1)\n",
        "new_Sit = np.hstack((new_Sit[:,:44],myclass))"
      ],
      "metadata": {
        "id": "kkOScJ8THVJm"
      },
      "execution_count": 156,
      "outputs": []
    },
    {
      "cell_type": "code",
      "source": [
        "mask1 = train[44] == 'Standing'\n",
        "Standing = train[mask1]\n",
        "Standing = Standing.replace(\"Standing\", 0.0)\n",
        "N = (2029-75) * 100/75\n",
        "k = 12\n",
        "Standing = np.float_(Standing)\n",
        "smote_test = Smote('Mahal',mmc)\n",
        "new_sta = smote_test.generate_synthetic_points(Standing[:,:44],N,k)\n",
        "myclass = np.array([\"Standing\" for x in range(len(new_sta))])\n",
        "#myclass = [\"Standing\" for x in range(1500)]\n",
        "myclass = myclass.reshape(len(myclass),1)\n",
        "my_sta = np.hstack((new_sta[:,:44],myclass))"
      ],
      "metadata": {
        "id": "G7IOmkf6Hp51"
      },
      "execution_count": 157,
      "outputs": []
    },
    {
      "cell_type": "code",
      "source": [
        "new_train_data = np.concatenate((Data, my_sta[:,:44]), axis=0)\n",
        "new_train_data = np.concatenate((new_train_data, new_dsta[:,:44]), axis=0)\n",
        "new_train_data = np.concatenate((new_train_data, new_Upsta[:,:44]), axis=0)\n",
        "new_train_data = np.concatenate((new_train_data, new_Sit[:,:44]), axis=0)\n",
        "\n",
        "new_train_labels = np.concatenate((labels, my_sta[:,-1]), axis=0)\n",
        "new_train_labels = np.concatenate((new_train_labels, new_dsta[:,-1]), axis=0)\n",
        "new_train_labels = np.concatenate((new_train_labels, new_Upsta[:,-1]), axis=0)\n",
        "new_train_labels = np.concatenate((new_train_labels, new_Sit[:,-1]), axis=0)\n",
        "\n",
        "new_train_labels = new_train_labels.reshape(len(new_train_labels),1)\n"
      ],
      "metadata": {
        "id": "Qg7NF2fdHNhp"
      },
      "execution_count": 158,
      "outputs": []
    },
    {
      "cell_type": "code",
      "source": [
        "full= np.hstack((new_train_data,new_train_labels))\n",
        "unique,counts = np.unique(new_train_labels,return_counts = True)\n",
        "dict(zip(unique,counts))"
      ],
      "metadata": {
        "colab": {
          "base_uri": "https://localhost:8080/"
        },
        "id": "VQq0ZqHkITUB",
        "outputId": "bd179992-c074-456d-b341-465eaac470bd"
      },
      "execution_count": 159,
      "outputs": [
        {
          "output_type": "execute_result",
          "data": {
            "text/plain": [
              "{'Downstairs': 2028,\n",
              " 'Jogging': 1612,\n",
              " 'Sitting': 2010,\n",
              " 'Standing': 2025,\n",
              " 'Upstairs': 1761,\n",
              " 'Walking': 2029}"
            ]
          },
          "metadata": {},
          "execution_count": 159
        }
      ]
    },
    {
      "cell_type": "code",
      "source": [
        "from sklearn.model_selection import train_test_split\n",
        "Data, X_test, labels, y_test = train_test_split(new_train_data, new_train_labels, test_size=0.20, random_state=42)"
      ],
      "metadata": {
        "id": "s-ce4xFe_BOj"
      },
      "execution_count": 160,
      "outputs": []
    },
    {
      "cell_type": "code",
      "source": [
        "new_train_data = Data\n",
        "new_train_labels = labels\n",
        "full= np.hstack((new_train_data,new_train_labels))\n",
        "unique,counts = np.unique(new_train_labels,return_counts = True)\n",
        "dict(zip(unique,counts))"
      ],
      "metadata": {
        "colab": {
          "base_uri": "https://localhost:8080/"
        },
        "id": "OKf6p9qYIeBw",
        "outputId": "67ea57a9-416d-45f4-d8a4-3c546b0ecf17"
      },
      "execution_count": 161,
      "outputs": [
        {
          "output_type": "execute_result",
          "data": {
            "text/plain": [
              "{'Downstairs': 1638,\n",
              " 'Jogging': 1303,\n",
              " 'Sitting': 1600,\n",
              " 'Standing': 1612,\n",
              " 'Upstairs': 1418,\n",
              " 'Walking': 1601}"
            ]
          },
          "metadata": {},
          "execution_count": 161
        }
      ]
    },
    {
      "cell_type": "code",
      "source": [
        "unique,counts = np.unique(y_test,return_counts = True)\n",
        "dict(zip(unique,counts))"
      ],
      "metadata": {
        "colab": {
          "base_uri": "https://localhost:8080/"
        },
        "id": "jzcICSqKK6yR",
        "outputId": "0d3b385c-ce29-483d-a096-e44520c23a46"
      },
      "execution_count": 162,
      "outputs": [
        {
          "output_type": "execute_result",
          "data": {
            "text/plain": [
              "{'Downstairs': 390,\n",
              " 'Jogging': 309,\n",
              " 'Sitting': 410,\n",
              " 'Standing': 413,\n",
              " 'Upstairs': 343,\n",
              " 'Walking': 428}"
            ]
          },
          "metadata": {},
          "execution_count": 162
        }
      ]
    },
    {
      "cell_type": "code",
      "source": [
        "Data_res = new_train_data\n",
        "labels_res = new_train_labels"
      ],
      "metadata": {
        "id": "_7rbBfx1LA-f"
      },
      "execution_count": 163,
      "outputs": []
    },
    {
      "cell_type": "code",
      "source": [
        "yy = labels_res.reshape((len(labels_res),1))\n",
        "print(yy.shape)"
      ],
      "metadata": {
        "colab": {
          "base_uri": "https://localhost:8080/"
        },
        "id": "sO_syiwILOxF",
        "outputId": "46e57a52-2a6f-49af-d787-8a8d3d518a54"
      },
      "execution_count": 164,
      "outputs": [
        {
          "output_type": "stream",
          "name": "stdout",
          "text": [
            "(9172, 1)\n"
          ]
        }
      ]
    },
    {
      "cell_type": "code",
      "source": [
        "y_test = y_test.reshape((len(y_test) ,1))\n",
        "print(y_test.shape)"
      ],
      "metadata": {
        "colab": {
          "base_uri": "https://localhost:8080/"
        },
        "id": "fnRi-6pxLP5e",
        "outputId": "994994ba-fd09-4d31-d74e-73906cd9f6c3"
      },
      "execution_count": 165,
      "outputs": [
        {
          "output_type": "stream",
          "name": "stdout",
          "text": [
            "(2293, 1)\n"
          ]
        }
      ]
    },
    {
      "cell_type": "code",
      "source": [
        "train_data_res = np.hstack((Data_res,yy))\n",
        "test_data = np.hstack(( X_test, y_test))\n",
        "#shuffling data\n",
        "test =shuffle(test_data) # ruin the sequence data\n",
        "train=shuffle(train_data_res)\n",
        "trainData = train[:,:-1]\n",
        "trainLabel = train[:,-1]\n",
        "#Separate Input and Output Labels\n",
        "testData = test_data[:,:-1]\n",
        "testLabel = test_data[:,-1]"
      ],
      "metadata": {
        "id": "mZPe4Pe_LTjp"
      },
      "execution_count": 166,
      "outputs": []
    },
    {
      "cell_type": "code",
      "source": [
        "#encoding Labels\n",
        "\n",
        "encoder = LabelEncoder()\n",
        "\n",
        "#encoding test labels\n",
        "\n",
        "encoder.fit(testLabel)\n",
        "testLabelE = encoder.transform(testLabel)\n",
        "\n",
        "#encoding train labels\n",
        "\n",
        "encoder.fit(trainLabel)\n",
        "trainLabelE = encoder.transform(trainLabel)"
      ],
      "metadata": {
        "id": "kw6lFAFZLXq1"
      },
      "execution_count": 167,
      "outputs": []
    },
    {
      "cell_type": "code",
      "source": [
        "scaler = MinMaxScaler()\n",
        "scaler.fit(trainData)\n",
        "trainData = scaler.transform(trainData)\n",
        "testData = scaler.transform(testData)"
      ],
      "metadata": {
        "id": "LcLm8XNvLbZ3"
      },
      "execution_count": 168,
      "outputs": []
    },
    {
      "cell_type": "code",
      "source": [
        "len(trainData)"
      ],
      "metadata": {
        "colab": {
          "base_uri": "https://localhost:8080/"
        },
        "id": "cZOmB9CHhHym",
        "outputId": "2084bc3c-be70-4553-c188-7174762ab186"
      },
      "execution_count": 169,
      "outputs": [
        {
          "output_type": "execute_result",
          "data": {
            "text/plain": [
              "9172"
            ]
          },
          "metadata": {},
          "execution_count": 169
        }
      ]
    },
    {
      "cell_type": "code",
      "source": [
        "clf2= KNeighborsClassifier(n_neighbors=4)\n",
        "knnModel2 = clf2.fit(trainData,trainLabelE)\n",
        "y_te_pred2 = clf2.predict(testData)\n",
        "\n",
        "acc2 = accuracy_score(testLabelE,y_te_pred2)\n",
        "print(\"K-Nearest Neighbors Accuracy: %.5f\" %(acc2)) #.907\n",
        "cfs=confusion_matrix(testLabelE,y_te_pred2)\n",
        "pyplot.figure()\n",
        "class_names = encoder.classes_\n",
        "plot_confusion_matrix(cfs,classes=class_names,title=\"Original: Confusuion Matrix\")\n",
        "print(classification_report(testLabelE,y_te_pred2))"
      ],
      "metadata": {
        "colab": {
          "base_uri": "https://localhost:8080/",
          "height": 676
        },
        "id": "NQVk-F6G-xjL",
        "outputId": "61c9a4bd-2907-4cda-dc5d-7b0f7cee816c"
      },
      "execution_count": 174,
      "outputs": [
        {
          "output_type": "stream",
          "name": "stdout",
          "text": [
            "K-Nearest Neighbors Accuracy: 0.88181\n",
            "Confusion matrix, without normalization\n",
            "[[365   2   0   0  14   9]\n",
            " [  4 300   0   0   5   0]\n",
            " [  2   0 402   5   1   0]\n",
            " [  0   0   0 412   1   0]\n",
            " [ 83   1   0   0 254   5]\n",
            " [ 89   0   0   0  50 289]]\n"
          ]
        },
        {
          "output_type": "display_data",
          "data": {
            "text/plain": [
              "<Figure size 432x288 with 2 Axes>"
            ],
            "image/png": "[encoded data removed]"
          },
          "metadata": {
            "needs_background": "light"
          }
        },
        {
          "output_type": "stream",
          "name": "stdout",
          "text": [
            "              precision    recall  f1-score   support\n",
            "\n",
            "           0       0.67      0.94      0.78       390\n",
            "           1       0.99      0.97      0.98       309\n",
            "           2       1.00      0.98      0.99       410\n",
            "           3       0.99      1.00      0.99       413\n",
            "           4       0.78      0.74      0.76       343\n",
            "           5       0.95      0.68      0.79       428\n",
            "\n",
            "    accuracy                           0.88      2293\n",
            "   macro avg       0.90      0.88      0.88      2293\n",
            "weighted avg       0.90      0.88      0.88      2293\n",
            "\n"
          ]
        }
      ]
    },
    {
      "cell_type": "code",
      "source": [
        "clf2= KNeighborsClassifier(n_neighbors=12, metric = mmc.get_metric())\n",
        "knnModel2 = clf2.fit(trainData,trainLabelE)\n",
        "y_te_pred2 = clf2.predict(testData)\n",
        "\n",
        "acc2 = accuracy_score(testLabelE,y_te_pred2)\n",
        "print(\"K-Nearest Neighbors Accuracy: %.5f\" %(acc2)) #.907\n",
        "cfs=confusion_matrix(testLabelE,y_te_pred2)\n",
        "pyplot.figure()\n",
        "class_names = encoder.classes_\n",
        "plot_confusion_matrix(cfs,classes=class_names,title=\"Original: Confusuion Matrix\")\n",
        "print(classification_report(testLabelE,y_te_pred2))"
      ],
      "metadata": {
        "colab": {
          "base_uri": "https://localhost:8080/",
          "height": 676
        },
        "id": "TAH0uVhL_pda",
        "outputId": "740ac7e5-7e06-4118-87bd-e3ea30bf4462"
      },
      "execution_count": 171,
      "outputs": [
        {
          "output_type": "stream",
          "name": "stdout",
          "text": [
            "K-Nearest Neighbors Accuracy: 0.60140\n",
            "Confusion matrix, without normalization\n",
            "[[349   1   0   1  38   1]\n",
            " [165  74   0   0  45  25]\n",
            " [  8   2 373  22   4   1]\n",
            " [ 30  15   0 345  14   9]\n",
            " [184   4   0   0 148   7]\n",
            " [247   4   0   0  87  90]]\n"
          ]
        },
        {
          "output_type": "display_data",
          "data": {
            "text/plain": [
              "<Figure size 432x288 with 2 Axes>"
            ],
            "image/png": "[encoded data removed]"
          },
          "metadata": {
            "needs_background": "light"
          }
        },
        {
          "output_type": "stream",
          "name": "stdout",
          "text": [
            "              precision    recall  f1-score   support\n",
            "\n",
            "           0       0.36      0.89      0.51       390\n",
            "           1       0.74      0.24      0.36       309\n",
            "           2       1.00      0.91      0.95       410\n",
            "           3       0.94      0.84      0.88       413\n",
            "           4       0.44      0.43      0.44       343\n",
            "           5       0.68      0.21      0.32       428\n",
            "\n",
            "    accuracy                           0.60      2293\n",
            "   macro avg       0.69      0.59      0.58      2293\n",
            "weighted avg       0.70      0.60      0.59      2293\n",
            "\n"
          ]
        }
      ]
    },
    {
      "cell_type": "code",
      "source": [],
      "metadata": {
        "id": "HFbGOe6yEDx-"
      },
      "execution_count": null,
      "outputs": []
    }
  ],
  "metadata": {
    "colab": {
      "provenance": [],
      "mount_file_id": "1TVbiGBOWdgKrSduJy3BJAyjdMky6zTRu",
      "authorship_tag": "ABX9TyNMv3T8LVxuThSRHGb43Pzv",
      "include_colab_link": true
    },
    "kernelspec": {
      "display_name": "Python 3",
      "name": "python3"
    },
    "language_info": {
      "name": "python"
    }
  },
  "nbformat": 4,
  "nbformat_minor": 0
}